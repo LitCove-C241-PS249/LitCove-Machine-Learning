{
  "metadata": {
    "kernelspec": {
      "display_name": "Python 3",
      "name": "python3"
    },
    "language_info": {
      "pygments_lexer": "ipython3",
      "nbconvert_exporter": "python",
      "version": "3.6.4",
      "file_extension": ".py",
      "codemirror_mode": {
        "name": "ipython",
        "version": 3
      },
      "name": "python",
      "mimetype": "text/x-python"
    },
    "kaggle": {
      "accelerator": "none",
      "dataSources": [
        {
          "sourceId": 2198223,
          "sourceType": "datasetVersion",
          "datasetId": 1320016
        }
      ],
      "dockerImageVersionId": 30558,
      "isInternetEnabled": false,
      "language": "python",
      "sourceType": "notebook",
      "isGpuEnabled": false
    },
    "colab": {
      "provenance": [],
      "gpuType": "T4",
      "collapsed_sections": [
        "zpXam9fAPNhK",
        "UFRbhjjoPNhL",
        "DyevsJBfPNhO"
      ]
    },
    "accelerator": "GPU"
  },
  "nbformat_minor": 0,
  "nbformat": 4,
  "cells": [
    {
      "cell_type": "code",
      "source": [
        "from google.colab import drive\n",
        "drive.mount('/content/drive')"
      ],
      "metadata": {
        "colab": {
          "base_uri": "https://localhost:8080/"
        },
        "id": "0v7E5u-lPkZz",
        "outputId": "1c12ad32-75ba-4b0e-80fc-e84ee51f9c7d"
      },
      "execution_count": 17,
      "outputs": [
        {
          "output_type": "stream",
          "name": "stdout",
          "text": [
            "Drive already mounted at /content/drive; to attempt to forcibly remount, call drive.mount(\"/content/drive\", force_remount=True).\n"
          ]
        }
      ]
    },
    {
      "cell_type": "code",
      "source": [
        "!ls /content/drive/MyDrive/CAPSTONE"
      ],
      "metadata": {
        "colab": {
          "base_uri": "https://localhost:8080/"
        },
        "id": "UM03YRAZPzhP",
        "outputId": "b61a758a-de2e-40c1-a369-e9a044519f89"
      },
      "execution_count": 41,
      "outputs": [
        {
          "output_type": "stream",
          "name": "stdout",
          "text": [
            " book2idx.pkl\t\t        data_buku_indo_fixs.csv     tfidf_model.json\n",
            " book32-listing.csv\t       'dataset fix'\t\t    tfidf_model.pkl\n",
            " book_recommendation_model.h5   processed_books_data.csv    tfidf_vectors.json\n",
            " books_data.pkl\t\t        processed_books_data.json   tfidf_vectors.pkl\n",
            "'Books Dataset ml.csv'\t        tfidf_model.h5\n"
          ]
        }
      ]
    },
    {
      "cell_type": "markdown",
      "source": [
        "# Import Necessary Libraries"
      ],
      "metadata": {
        "id": "zpXam9fAPNhK"
      }
    },
    {
      "cell_type": "code",
      "source": [
        "!pip install fuzzywuzzy\n",
        "!pip install langid\n",
        "!pip install tensorflow\n"
      ],
      "metadata": {
        "colab": {
          "base_uri": "https://localhost:8080/"
        },
        "collapsed": true,
        "id": "ltgYXVLAP6li",
        "outputId": "ccd44a7a-2e56-4343-853d-0f6397bc8fa7"
      },
      "execution_count": null,
      "outputs": [
        {
          "output_type": "stream",
          "name": "stdout",
          "text": [
            "Requirement already satisfied: fuzzywuzzy in /usr/local/lib/python3.10/dist-packages (0.18.0)\n",
            "Requirement already satisfied: langid in /usr/local/lib/python3.10/dist-packages (1.1.6)\n",
            "Requirement already satisfied: numpy in /usr/local/lib/python3.10/dist-packages (from langid) (1.25.2)\n",
            "Requirement already satisfied: tensorflow in /usr/local/lib/python3.10/dist-packages (2.15.0)\n",
            "Requirement already satisfied: absl-py>=1.0.0 in /usr/local/lib/python3.10/dist-packages (from tensorflow) (1.4.0)\n",
            "Requirement already satisfied: astunparse>=1.6.0 in /usr/local/lib/python3.10/dist-packages (from tensorflow) (1.6.3)\n",
            "Requirement already satisfied: flatbuffers>=23.5.26 in /usr/local/lib/python3.10/dist-packages (from tensorflow) (24.3.25)\n",
            "Requirement already satisfied: gast!=0.5.0,!=0.5.1,!=0.5.2,>=0.2.1 in /usr/local/lib/python3.10/dist-packages (from tensorflow) (0.5.4)\n",
            "Requirement already satisfied: google-pasta>=0.1.1 in /usr/local/lib/python3.10/dist-packages (from tensorflow) (0.2.0)\n",
            "Requirement already satisfied: h5py>=2.9.0 in /usr/local/lib/python3.10/dist-packages (from tensorflow) (3.9.0)\n",
            "Requirement already satisfied: libclang>=13.0.0 in /usr/local/lib/python3.10/dist-packages (from tensorflow) (18.1.1)\n",
            "Requirement already satisfied: ml-dtypes~=0.2.0 in /usr/local/lib/python3.10/dist-packages (from tensorflow) (0.2.0)\n",
            "Requirement already satisfied: numpy<2.0.0,>=1.23.5 in /usr/local/lib/python3.10/dist-packages (from tensorflow) (1.25.2)\n",
            "Requirement already satisfied: opt-einsum>=2.3.2 in /usr/local/lib/python3.10/dist-packages (from tensorflow) (3.3.0)\n",
            "Requirement already satisfied: packaging in /usr/local/lib/python3.10/dist-packages (from tensorflow) (24.1)\n",
            "Requirement already satisfied: protobuf!=4.21.0,!=4.21.1,!=4.21.2,!=4.21.3,!=4.21.4,!=4.21.5,<5.0.0dev,>=3.20.3 in /usr/local/lib/python3.10/dist-packages (from tensorflow) (3.20.3)\n",
            "Requirement already satisfied: setuptools in /usr/local/lib/python3.10/dist-packages (from tensorflow) (67.7.2)\n",
            "Requirement already satisfied: six>=1.12.0 in /usr/local/lib/python3.10/dist-packages (from tensorflow) (1.16.0)\n",
            "Requirement already satisfied: termcolor>=1.1.0 in /usr/local/lib/python3.10/dist-packages (from tensorflow) (2.4.0)\n",
            "Requirement already satisfied: typing-extensions>=3.6.6 in /usr/local/lib/python3.10/dist-packages (from tensorflow) (4.12.2)\n",
            "Requirement already satisfied: wrapt<1.15,>=1.11.0 in /usr/local/lib/python3.10/dist-packages (from tensorflow) (1.14.1)\n",
            "Requirement already satisfied: tensorflow-io-gcs-filesystem>=0.23.1 in /usr/local/lib/python3.10/dist-packages (from tensorflow) (0.37.0)\n",
            "Requirement already satisfied: grpcio<2.0,>=1.24.3 in /usr/local/lib/python3.10/dist-packages (from tensorflow) (1.64.1)\n",
            "Requirement already satisfied: tensorboard<2.16,>=2.15 in /usr/local/lib/python3.10/dist-packages (from tensorflow) (2.15.2)\n",
            "Requirement already satisfied: tensorflow-estimator<2.16,>=2.15.0 in /usr/local/lib/python3.10/dist-packages (from tensorflow) (2.15.0)\n",
            "Requirement already satisfied: keras<2.16,>=2.15.0 in /usr/local/lib/python3.10/dist-packages (from tensorflow) (2.15.0)\n",
            "Requirement already satisfied: wheel<1.0,>=0.23.0 in /usr/local/lib/python3.10/dist-packages (from astunparse>=1.6.0->tensorflow) (0.43.0)\n",
            "Requirement already satisfied: google-auth<3,>=1.6.3 in /usr/local/lib/python3.10/dist-packages (from tensorboard<2.16,>=2.15->tensorflow) (2.27.0)\n",
            "Requirement already satisfied: google-auth-oauthlib<2,>=0.5 in /usr/local/lib/python3.10/dist-packages (from tensorboard<2.16,>=2.15->tensorflow) (1.2.0)\n",
            "Requirement already satisfied: markdown>=2.6.8 in /usr/local/lib/python3.10/dist-packages (from tensorboard<2.16,>=2.15->tensorflow) (3.6)\n",
            "Requirement already satisfied: requests<3,>=2.21.0 in /usr/local/lib/python3.10/dist-packages (from tensorboard<2.16,>=2.15->tensorflow) (2.31.0)\n",
            "Requirement already satisfied: tensorboard-data-server<0.8.0,>=0.7.0 in /usr/local/lib/python3.10/dist-packages (from tensorboard<2.16,>=2.15->tensorflow) (0.7.2)\n",
            "Requirement already satisfied: werkzeug>=1.0.1 in /usr/local/lib/python3.10/dist-packages (from tensorboard<2.16,>=2.15->tensorflow) (3.0.3)\n",
            "Requirement already satisfied: cachetools<6.0,>=2.0.0 in /usr/local/lib/python3.10/dist-packages (from google-auth<3,>=1.6.3->tensorboard<2.16,>=2.15->tensorflow) (5.3.3)\n",
            "Requirement already satisfied: pyasn1-modules>=0.2.1 in /usr/local/lib/python3.10/dist-packages (from google-auth<3,>=1.6.3->tensorboard<2.16,>=2.15->tensorflow) (0.4.0)\n",
            "Requirement already satisfied: rsa<5,>=3.1.4 in /usr/local/lib/python3.10/dist-packages (from google-auth<3,>=1.6.3->tensorboard<2.16,>=2.15->tensorflow) (4.9)\n",
            "Requirement already satisfied: requests-oauthlib>=0.7.0 in /usr/local/lib/python3.10/dist-packages (from google-auth-oauthlib<2,>=0.5->tensorboard<2.16,>=2.15->tensorflow) (1.3.1)\n",
            "Requirement already satisfied: charset-normalizer<4,>=2 in /usr/local/lib/python3.10/dist-packages (from requests<3,>=2.21.0->tensorboard<2.16,>=2.15->tensorflow) (3.3.2)\n",
            "Requirement already satisfied: idna<4,>=2.5 in /usr/local/lib/python3.10/dist-packages (from requests<3,>=2.21.0->tensorboard<2.16,>=2.15->tensorflow) (3.7)\n",
            "Requirement already satisfied: urllib3<3,>=1.21.1 in /usr/local/lib/python3.10/dist-packages (from requests<3,>=2.21.0->tensorboard<2.16,>=2.15->tensorflow) (2.0.7)\n",
            "Requirement already satisfied: certifi>=2017.4.17 in /usr/local/lib/python3.10/dist-packages (from requests<3,>=2.21.0->tensorboard<2.16,>=2.15->tensorflow) (2024.6.2)\n",
            "Requirement already satisfied: MarkupSafe>=2.1.1 in /usr/local/lib/python3.10/dist-packages (from werkzeug>=1.0.1->tensorboard<2.16,>=2.15->tensorflow) (2.1.5)\n",
            "Requirement already satisfied: pyasn1<0.7.0,>=0.4.6 in /usr/local/lib/python3.10/dist-packages (from pyasn1-modules>=0.2.1->google-auth<3,>=1.6.3->tensorboard<2.16,>=2.15->tensorflow) (0.6.0)\n",
            "Requirement already satisfied: oauthlib>=3.0.0 in /usr/local/lib/python3.10/dist-packages (from requests-oauthlib>=0.7.0->google-auth-oauthlib<2,>=0.5->tensorboard<2.16,>=2.15->tensorflow) (3.2.2)\n"
          ]
        }
      ]
    },
    {
      "cell_type": "code",
      "source": [
        "from fuzzywuzzy import fuzz\n",
        "from fuzzywuzzy import process\n",
        "import pandas as pd\n",
        "import json\n",
        "import matplotlib.pyplot as plt\n",
        "import warnings\n",
        "import langid\n",
        "import re\n",
        "from sklearn.feature_extraction.text import TfidfVectorizer\n",
        "from sklearn.metrics.pairwise import cosine_similarity\n",
        "import tensorflow as tf\n",
        "from tensorflow.keras.models import load_model\n",
        "\n",
        "# Ignore all warnings\n",
        "warnings.filterwarnings(\"ignore\")"
      ],
      "metadata": {
        "execution": {
          "iopub.status.busy": "2023-10-04T15:34:09.831286Z",
          "iopub.execute_input": "2023-10-04T15:34:09.831696Z",
          "iopub.status.idle": "2023-10-04T15:34:10.326452Z",
          "shell.execute_reply.started": "2023-10-04T15:34:09.831661Z",
          "shell.execute_reply": "2023-10-04T15:34:10.32478Z"
        },
        "trusted": true,
        "id": "gyHU1GGuPNhK"
      },
      "execution_count": 18,
      "outputs": []
    },
    {
      "cell_type": "markdown",
      "source": [
        "# Data Preparation and EDA"
      ],
      "metadata": {
        "id": "UFRbhjjoPNhL"
      }
    },
    {
      "cell_type": "code",
      "source": [
        "df=pd.read_csv('/content/drive/MyDrive/CAPSTONE/dataset fix/Goodreads_BestBooksEver_1-10000.csv')"
      ],
      "metadata": {
        "execution": {
          "iopub.status.busy": "2023-10-04T15:34:11.27638Z",
          "iopub.execute_input": "2023-10-04T15:34:11.276924Z",
          "iopub.status.idle": "2023-10-04T15:34:11.859147Z",
          "shell.execute_reply.started": "2023-10-04T15:34:11.276888Z",
          "shell.execute_reply": "2023-10-04T15:34:11.857958Z"
        },
        "trusted": true,
        "id": "Yu11E4OVPNhL"
      },
      "execution_count": 44,
      "outputs": []
    },
    {
      "cell_type": "code",
      "source": [
        "df.shape"
      ],
      "metadata": {
        "execution": {
          "iopub.status.busy": "2023-10-04T15:34:12.254615Z",
          "iopub.execute_input": "2023-10-04T15:34:12.255034Z",
          "iopub.status.idle": "2023-10-04T15:34:12.263453Z",
          "shell.execute_reply.started": "2023-10-04T15:34:12.255002Z",
          "shell.execute_reply": "2023-10-04T15:34:12.261981Z"
        },
        "trusted": true,
        "colab": {
          "base_uri": "https://localhost:8080/"
        },
        "id": "XeQaSMLVPNhL",
        "outputId": "a91e233d-6103-4b9a-8b59-5589cb4c94de"
      },
      "execution_count": 45,
      "outputs": [
        {
          "output_type": "execute_result",
          "data": {
            "text/plain": [
              "(10000, 12)"
            ]
          },
          "metadata": {},
          "execution_count": 45
        }
      ]
    },
    {
      "cell_type": "code",
      "source": [
        "df.head()"
      ],
      "metadata": {
        "execution": {
          "iopub.status.busy": "2023-10-04T15:34:12.483727Z",
          "iopub.execute_input": "2023-10-04T15:34:12.484225Z",
          "iopub.status.idle": "2023-10-04T15:34:12.512564Z",
          "shell.execute_reply.started": "2023-10-04T15:34:12.48419Z",
          "shell.execute_reply": "2023-10-04T15:34:12.510232Z"
        },
        "trusted": true,
        "colab": {
          "base_uri": "https://localhost:8080/",
          "height": 0
        },
        "collapsed": true,
        "id": "7S2O8KdOPNhL",
        "outputId": "062395e2-3d02-4e5f-bb6a-52eab144e155"
      },
      "execution_count": 46,
      "outputs": [
        {
          "output_type": "execute_result",
          "data": {
            "text/plain": [
              "                                                 url  \\\n",
              "0  https://www.goodreads.com/book/show/2767052-th...   \n",
              "1  https://www.goodreads.com/book/show/2.Harry_Po...   \n",
              "2  https://www.goodreads.com/book/show/2657.To_Ki...   \n",
              "3  https://www.goodreads.com/book/show/1885.Pride...   \n",
              "4  https://www.goodreads.com/book/show/41865.Twil...   \n",
              "\n",
              "                                   bookTitle  \\\n",
              "0                           The Hunger Games   \n",
              "1  Harry Potter and the Order of the Phoenix   \n",
              "2                      To Kill a Mockingbird   \n",
              "3                        Pride and Prejudice   \n",
              "4                                   Twilight   \n",
              "\n",
              "                                           bookImage  \\\n",
              "0  https://i.gr-assets.com/images/S/compressed.ph...   \n",
              "1  https://i.gr-assets.com/images/S/compressed.ph...   \n",
              "2  https://i.gr-assets.com/images/S/compressed.ph...   \n",
              "3  https://i.gr-assets.com/images/S/compressed.ph...   \n",
              "4  https://i.gr-assets.com/images/S/compressed.ph...   \n",
              "\n",
              "                  bookAuthors  \\\n",
              "0             Suzanne Collins   \n",
              "1  J.K. Rowling,Mary GrandPré   \n",
              "2                  Harper Lee   \n",
              "3   Jane Austen,Anna Quindlen   \n",
              "4             Stephenie Meyer   \n",
              "\n",
              "                                            bookDesc  bookRating  ratingCount  \\\n",
              "0  Could you survive on your own in the wild, wit...        4.32      6717635   \n",
              "1  There is a door at the end of a silent corrido...        4.50      2668409   \n",
              "2  The unforgettable novel of a childhood in a sl...        4.28      4772918   \n",
              "3  Alternate cover edition of ISBN 9780679783268S...        4.27      3206070   \n",
              "4  About three things I was absolutely positive.F...        3.61      5231000   \n",
              "\n",
              "   reviewCount  bookPages                                         bookGenres  \\\n",
              "0       176054  374 pages  Young Adult/31,498|Fiction/17,878|Science Fict...   \n",
              "1        45724  870 pages  Fantasy/1,797|Young Adult/15,961|Fiction/14,15...   \n",
              "2        95595  324 pages  Classics/47,203|Fiction/23,575|Historical-Hist...   \n",
              "3        74020  279 pages  Classics/52,699|Fiction/15,730|Romance/12,874|...   \n",
              "4       107619  501 pages  Young Adult/19,982|Fantasy/19,312|Romance/12,0...   \n",
              "\n",
              "       bookISBN                                    recommendations  \n",
              "0  9.780439e+12  ['Divergent (Divergent, #1)|https://www.goodre...  \n",
              "1           NaN  ['Harry Potter and the Cursed Child: Parts One...  \n",
              "2           NaN  ['The Great Gatsby|https://www.goodreads.com/b...  \n",
              "3           NaN  ['Jane Eyre|https://www.goodreads.com/book/sho...  \n",
              "4  9.780316e+12  ['The Hunger Games (The Hunger Games, #1)|http...  "
            ],
            "text/html": [
              "\n",
              "  <div id=\"df-0a330109-d39e-4970-9264-8bc962874a15\" class=\"colab-df-container\">\n",
              "    <div>\n",
              "<style scoped>\n",
              "    .dataframe tbody tr th:only-of-type {\n",
              "        vertical-align: middle;\n",
              "    }\n",
              "\n",
              "    .dataframe tbody tr th {\n",
              "        vertical-align: top;\n",
              "    }\n",
              "\n",
              "    .dataframe thead th {\n",
              "        text-align: right;\n",
              "    }\n",
              "</style>\n",
              "<table border=\"1\" class=\"dataframe\">\n",
              "  <thead>\n",
              "    <tr style=\"text-align: right;\">\n",
              "      <th></th>\n",
              "      <th>url</th>\n",
              "      <th>bookTitle</th>\n",
              "      <th>bookImage</th>\n",
              "      <th>bookAuthors</th>\n",
              "      <th>bookDesc</th>\n",
              "      <th>bookRating</th>\n",
              "      <th>ratingCount</th>\n",
              "      <th>reviewCount</th>\n",
              "      <th>bookPages</th>\n",
              "      <th>bookGenres</th>\n",
              "      <th>bookISBN</th>\n",
              "      <th>recommendations</th>\n",
              "    </tr>\n",
              "  </thead>\n",
              "  <tbody>\n",
              "    <tr>\n",
              "      <th>0</th>\n",
              "      <td>https://www.goodreads.com/book/show/2767052-th...</td>\n",
              "      <td>The Hunger Games</td>\n",
              "      <td>https://i.gr-assets.com/images/S/compressed.ph...</td>\n",
              "      <td>Suzanne Collins</td>\n",
              "      <td>Could you survive on your own in the wild, wit...</td>\n",
              "      <td>4.32</td>\n",
              "      <td>6717635</td>\n",
              "      <td>176054</td>\n",
              "      <td>374 pages</td>\n",
              "      <td>Young Adult/31,498|Fiction/17,878|Science Fict...</td>\n",
              "      <td>9.780439e+12</td>\n",
              "      <td>['Divergent (Divergent, #1)|https://www.goodre...</td>\n",
              "    </tr>\n",
              "    <tr>\n",
              "      <th>1</th>\n",
              "      <td>https://www.goodreads.com/book/show/2.Harry_Po...</td>\n",
              "      <td>Harry Potter and the Order of the Phoenix</td>\n",
              "      <td>https://i.gr-assets.com/images/S/compressed.ph...</td>\n",
              "      <td>J.K. Rowling,Mary GrandPré</td>\n",
              "      <td>There is a door at the end of a silent corrido...</td>\n",
              "      <td>4.50</td>\n",
              "      <td>2668409</td>\n",
              "      <td>45724</td>\n",
              "      <td>870 pages</td>\n",
              "      <td>Fantasy/1,797|Young Adult/15,961|Fiction/14,15...</td>\n",
              "      <td>NaN</td>\n",
              "      <td>['Harry Potter and the Cursed Child: Parts One...</td>\n",
              "    </tr>\n",
              "    <tr>\n",
              "      <th>2</th>\n",
              "      <td>https://www.goodreads.com/book/show/2657.To_Ki...</td>\n",
              "      <td>To Kill a Mockingbird</td>\n",
              "      <td>https://i.gr-assets.com/images/S/compressed.ph...</td>\n",
              "      <td>Harper Lee</td>\n",
              "      <td>The unforgettable novel of a childhood in a sl...</td>\n",
              "      <td>4.28</td>\n",
              "      <td>4772918</td>\n",
              "      <td>95595</td>\n",
              "      <td>324 pages</td>\n",
              "      <td>Classics/47,203|Fiction/23,575|Historical-Hist...</td>\n",
              "      <td>NaN</td>\n",
              "      <td>['The Great Gatsby|https://www.goodreads.com/b...</td>\n",
              "    </tr>\n",
              "    <tr>\n",
              "      <th>3</th>\n",
              "      <td>https://www.goodreads.com/book/show/1885.Pride...</td>\n",
              "      <td>Pride and Prejudice</td>\n",
              "      <td>https://i.gr-assets.com/images/S/compressed.ph...</td>\n",
              "      <td>Jane Austen,Anna Quindlen</td>\n",
              "      <td>Alternate cover edition of ISBN 9780679783268S...</td>\n",
              "      <td>4.27</td>\n",
              "      <td>3206070</td>\n",
              "      <td>74020</td>\n",
              "      <td>279 pages</td>\n",
              "      <td>Classics/52,699|Fiction/15,730|Romance/12,874|...</td>\n",
              "      <td>NaN</td>\n",
              "      <td>['Jane Eyre|https://www.goodreads.com/book/sho...</td>\n",
              "    </tr>\n",
              "    <tr>\n",
              "      <th>4</th>\n",
              "      <td>https://www.goodreads.com/book/show/41865.Twil...</td>\n",
              "      <td>Twilight</td>\n",
              "      <td>https://i.gr-assets.com/images/S/compressed.ph...</td>\n",
              "      <td>Stephenie Meyer</td>\n",
              "      <td>About three things I was absolutely positive.F...</td>\n",
              "      <td>3.61</td>\n",
              "      <td>5231000</td>\n",
              "      <td>107619</td>\n",
              "      <td>501 pages</td>\n",
              "      <td>Young Adult/19,982|Fantasy/19,312|Romance/12,0...</td>\n",
              "      <td>9.780316e+12</td>\n",
              "      <td>['The Hunger Games (The Hunger Games, #1)|http...</td>\n",
              "    </tr>\n",
              "  </tbody>\n",
              "</table>\n",
              "</div>\n",
              "    <div class=\"colab-df-buttons\">\n",
              "\n",
              "  <div class=\"colab-df-container\">\n",
              "    <button class=\"colab-df-convert\" onclick=\"convertToInteractive('df-0a330109-d39e-4970-9264-8bc962874a15')\"\n",
              "            title=\"Convert this dataframe to an interactive table.\"\n",
              "            style=\"display:none;\">\n",
              "\n",
              "  <svg xmlns=\"http://www.w3.org/2000/svg\" height=\"24px\" viewBox=\"0 -960 960 960\">\n",
              "    <path d=\"M120-120v-720h720v720H120Zm60-500h600v-160H180v160Zm220 220h160v-160H400v160Zm0 220h160v-160H400v160ZM180-400h160v-160H180v160Zm440 0h160v-160H620v160ZM180-180h160v-160H180v160Zm440 0h160v-160H620v160Z\"/>\n",
              "  </svg>\n",
              "    </button>\n",
              "\n",
              "  <style>\n",
              "    .colab-df-container {\n",
              "      display:flex;\n",
              "      gap: 12px;\n",
              "    }\n",
              "\n",
              "    .colab-df-convert {\n",
              "      background-color: #E8F0FE;\n",
              "      border: none;\n",
              "      border-radius: 50%;\n",
              "      cursor: pointer;\n",
              "      display: none;\n",
              "      fill: #1967D2;\n",
              "      height: 32px;\n",
              "      padding: 0 0 0 0;\n",
              "      width: 32px;\n",
              "    }\n",
              "\n",
              "    .colab-df-convert:hover {\n",
              "      background-color: #E2EBFA;\n",
              "      box-shadow: 0px 1px 2px rgba(60, 64, 67, 0.3), 0px 1px 3px 1px rgba(60, 64, 67, 0.15);\n",
              "      fill: #174EA6;\n",
              "    }\n",
              "\n",
              "    .colab-df-buttons div {\n",
              "      margin-bottom: 4px;\n",
              "    }\n",
              "\n",
              "    [theme=dark] .colab-df-convert {\n",
              "      background-color: #3B4455;\n",
              "      fill: #D2E3FC;\n",
              "    }\n",
              "\n",
              "    [theme=dark] .colab-df-convert:hover {\n",
              "      background-color: #434B5C;\n",
              "      box-shadow: 0px 1px 3px 1px rgba(0, 0, 0, 0.15);\n",
              "      filter: drop-shadow(0px 1px 2px rgba(0, 0, 0, 0.3));\n",
              "      fill: #FFFFFF;\n",
              "    }\n",
              "  </style>\n",
              "\n",
              "    <script>\n",
              "      const buttonEl =\n",
              "        document.querySelector('#df-0a330109-d39e-4970-9264-8bc962874a15 button.colab-df-convert');\n",
              "      buttonEl.style.display =\n",
              "        google.colab.kernel.accessAllowed ? 'block' : 'none';\n",
              "\n",
              "      async function convertToInteractive(key) {\n",
              "        const element = document.querySelector('#df-0a330109-d39e-4970-9264-8bc962874a15');\n",
              "        const dataTable =\n",
              "          await google.colab.kernel.invokeFunction('convertToInteractive',\n",
              "                                                    [key], {});\n",
              "        if (!dataTable) return;\n",
              "\n",
              "        const docLinkHtml = 'Like what you see? Visit the ' +\n",
              "          '<a target=\"_blank\" href=https://colab.research.google.com/notebooks/data_table.ipynb>data table notebook</a>'\n",
              "          + ' to learn more about interactive tables.';\n",
              "        element.innerHTML = '';\n",
              "        dataTable['output_type'] = 'display_data';\n",
              "        await google.colab.output.renderOutput(dataTable, element);\n",
              "        const docLink = document.createElement('div');\n",
              "        docLink.innerHTML = docLinkHtml;\n",
              "        element.appendChild(docLink);\n",
              "      }\n",
              "    </script>\n",
              "  </div>\n",
              "\n",
              "\n",
              "<div id=\"df-ee7f513e-2b2d-4b90-ac54-5109cf0b9cd0\">\n",
              "  <button class=\"colab-df-quickchart\" onclick=\"quickchart('df-ee7f513e-2b2d-4b90-ac54-5109cf0b9cd0')\"\n",
              "            title=\"Suggest charts\"\n",
              "            style=\"display:none;\">\n",
              "\n",
              "<svg xmlns=\"http://www.w3.org/2000/svg\" height=\"24px\"viewBox=\"0 0 24 24\"\n",
              "     width=\"24px\">\n",
              "    <g>\n",
              "        <path d=\"M19 3H5c-1.1 0-2 .9-2 2v14c0 1.1.9 2 2 2h14c1.1 0 2-.9 2-2V5c0-1.1-.9-2-2-2zM9 17H7v-7h2v7zm4 0h-2V7h2v10zm4 0h-2v-4h2v4z\"/>\n",
              "    </g>\n",
              "</svg>\n",
              "  </button>\n",
              "\n",
              "<style>\n",
              "  .colab-df-quickchart {\n",
              "      --bg-color: #E8F0FE;\n",
              "      --fill-color: #1967D2;\n",
              "      --hover-bg-color: #E2EBFA;\n",
              "      --hover-fill-color: #174EA6;\n",
              "      --disabled-fill-color: #AAA;\n",
              "      --disabled-bg-color: #DDD;\n",
              "  }\n",
              "\n",
              "  [theme=dark] .colab-df-quickchart {\n",
              "      --bg-color: #3B4455;\n",
              "      --fill-color: #D2E3FC;\n",
              "      --hover-bg-color: #434B5C;\n",
              "      --hover-fill-color: #FFFFFF;\n",
              "      --disabled-bg-color: #3B4455;\n",
              "      --disabled-fill-color: #666;\n",
              "  }\n",
              "\n",
              "  .colab-df-quickchart {\n",
              "    background-color: var(--bg-color);\n",
              "    border: none;\n",
              "    border-radius: 50%;\n",
              "    cursor: pointer;\n",
              "    display: none;\n",
              "    fill: var(--fill-color);\n",
              "    height: 32px;\n",
              "    padding: 0;\n",
              "    width: 32px;\n",
              "  }\n",
              "\n",
              "  .colab-df-quickchart:hover {\n",
              "    background-color: var(--hover-bg-color);\n",
              "    box-shadow: 0 1px 2px rgba(60, 64, 67, 0.3), 0 1px 3px 1px rgba(60, 64, 67, 0.15);\n",
              "    fill: var(--button-hover-fill-color);\n",
              "  }\n",
              "\n",
              "  .colab-df-quickchart-complete:disabled,\n",
              "  .colab-df-quickchart-complete:disabled:hover {\n",
              "    background-color: var(--disabled-bg-color);\n",
              "    fill: var(--disabled-fill-color);\n",
              "    box-shadow: none;\n",
              "  }\n",
              "\n",
              "  .colab-df-spinner {\n",
              "    border: 2px solid var(--fill-color);\n",
              "    border-color: transparent;\n",
              "    border-bottom-color: var(--fill-color);\n",
              "    animation:\n",
              "      spin 1s steps(1) infinite;\n",
              "  }\n",
              "\n",
              "  @keyframes spin {\n",
              "    0% {\n",
              "      border-color: transparent;\n",
              "      border-bottom-color: var(--fill-color);\n",
              "      border-left-color: var(--fill-color);\n",
              "    }\n",
              "    20% {\n",
              "      border-color: transparent;\n",
              "      border-left-color: var(--fill-color);\n",
              "      border-top-color: var(--fill-color);\n",
              "    }\n",
              "    30% {\n",
              "      border-color: transparent;\n",
              "      border-left-color: var(--fill-color);\n",
              "      border-top-color: var(--fill-color);\n",
              "      border-right-color: var(--fill-color);\n",
              "    }\n",
              "    40% {\n",
              "      border-color: transparent;\n",
              "      border-right-color: var(--fill-color);\n",
              "      border-top-color: var(--fill-color);\n",
              "    }\n",
              "    60% {\n",
              "      border-color: transparent;\n",
              "      border-right-color: var(--fill-color);\n",
              "    }\n",
              "    80% {\n",
              "      border-color: transparent;\n",
              "      border-right-color: var(--fill-color);\n",
              "      border-bottom-color: var(--fill-color);\n",
              "    }\n",
              "    90% {\n",
              "      border-color: transparent;\n",
              "      border-bottom-color: var(--fill-color);\n",
              "    }\n",
              "  }\n",
              "</style>\n",
              "\n",
              "  <script>\n",
              "    async function quickchart(key) {\n",
              "      const quickchartButtonEl =\n",
              "        document.querySelector('#' + key + ' button');\n",
              "      quickchartButtonEl.disabled = true;  // To prevent multiple clicks.\n",
              "      quickchartButtonEl.classList.add('colab-df-spinner');\n",
              "      try {\n",
              "        const charts = await google.colab.kernel.invokeFunction(\n",
              "            'suggestCharts', [key], {});\n",
              "      } catch (error) {\n",
              "        console.error('Error during call to suggestCharts:', error);\n",
              "      }\n",
              "      quickchartButtonEl.classList.remove('colab-df-spinner');\n",
              "      quickchartButtonEl.classList.add('colab-df-quickchart-complete');\n",
              "    }\n",
              "    (() => {\n",
              "      let quickchartButtonEl =\n",
              "        document.querySelector('#df-ee7f513e-2b2d-4b90-ac54-5109cf0b9cd0 button');\n",
              "      quickchartButtonEl.style.display =\n",
              "        google.colab.kernel.accessAllowed ? 'block' : 'none';\n",
              "    })();\n",
              "  </script>\n",
              "</div>\n",
              "\n",
              "    </div>\n",
              "  </div>\n"
            ],
            "application/vnd.google.colaboratory.intrinsic+json": {
              "type": "dataframe",
              "variable_name": "df",
              "summary": "{\n  \"name\": \"df\",\n  \"rows\": 10000,\n  \"fields\": [\n    {\n      \"column\": \"url\",\n      \"properties\": {\n        \"dtype\": \"string\",\n        \"num_unique_values\": 10000,\n        \"samples\": [\n          \"https://www.goodreads.com/book/show/13614.Death_Note_Vol_8\",\n          \"https://www.goodreads.com/book/show/15654.The_Stranger_Beside_Me\",\n          \"https://www.goodreads.com/book/show/40200.The_Crimson_Petal_and_the_White\"\n        ],\n        \"semantic_type\": \"\",\n        \"description\": \"\"\n      }\n    },\n    {\n      \"column\": \"bookTitle\",\n      \"properties\": {\n        \"dtype\": \"string\",\n        \"num_unique_values\": 9486,\n        \"samples\": [\n          \"Blackout\",\n          \"The Maleficent Seven: From the World of Skulduggery Pleasant\",\n          \"Just Mercy: A Story of Justice and Redemption\"\n        ],\n        \"semantic_type\": \"\",\n        \"description\": \"\"\n      }\n    },\n    {\n      \"column\": \"bookImage\",\n      \"properties\": {\n        \"dtype\": \"string\",\n        \"num_unique_values\": 9987,\n        \"samples\": [\n          \"https://i.gr-assets.com/images/S/compressed.photo.goodreads.com/books/1388225584l/2054.jpg\",\n          \"https://i.gr-assets.com/images/S/compressed.photo.goodreads.com/books/1407719603l/14865.jpg\",\n          \"https://i.gr-assets.com/images/S/compressed.photo.goodreads.com/books/1438455050l/223182._SX318_.jpg\"\n        ],\n        \"semantic_type\": \"\",\n        \"description\": \"\"\n      }\n    },\n    {\n      \"column\": \"bookAuthors\",\n      \"properties\": {\n        \"dtype\": \"string\",\n        \"num_unique_values\": 5204,\n        \"samples\": [\n          \"Italo Calvino,William Weaver\",\n          \"Art Spiegelman\",\n          \"Rubix Cube 89201\"\n        ],\n        \"semantic_type\": \"\",\n        \"description\": \"\"\n      }\n    },\n    {\n      \"column\": \"bookDesc\",\n      \"properties\": {\n        \"dtype\": \"string\",\n        \"num_unique_values\": 9895,\n        \"samples\": [\n          \"Once upon a time\\u2026the Blood Sorcerer vanquished the kingdom of Elden. To save their children, the queen scattered them to safety and the king filled them with vengeance. Only a magical timepiece connects the four royal heirs\\u2026and time is running out.\\u2026As the dark Lord who condemns souls to damnation in the Abyss, Micah is nothing but a feared monster wrapped in impenetrable black armor. He has no idea he is the last heir of Elden, its last hope. Only one woman knows\\u2014the daughter of his enemy.Liliana is nothing like her father, the Blood Sorcerer who\\u2019d cursed Micah. She sees past Micah\\u2019s armor to the prince inside. A prince whose sinful touch she craves. But first she has to brave his dark, dangerous lair and help him remember. Because they only have till midnight to save Elden.\",\n          \"\\u062a\\u062f\\u0648\\u0631 \\u0623\\u062d\\u062f\\u0627\\u062b \\u0627\\u0644\\u0631\\u0648\\u0627\\u064a\\u0629 \\u0641\\u064a \\u0627\\u0644\\u0642\\u0631\\u0646 \\u0627\\u0644\\u062e\\u0627\\u0645\\u0633 \\u0627\\u0644\\u0645\\u064a\\u0644\\u0627\\u062f\\u064a \\u0645\\u0627 \\u0628\\u064a\\u0646 \\u0635\\u0639\\u064a\\u062f \\u0645\\u0635\\u0631 \\u0648\\u0627\\u0644\\u0625\\u0633\\u0643\\u0646\\u062f\\u0631\\u064a\\u0629 \\u0648\\u0634\\u0645\\u0627\\u0644 \\u0633\\u0648\\u0631\\u064a\\u0627\\u060c \\u0639\\u0642\\u0628 \\u062a\\u0628\\u0646\\u064a \\u0627\\u0644\\u0625\\u0645\\u0628\\u0631\\u0627\\u0637\\u0648\\u0631\\u064a\\u0629 \\u0627\\u0644\\u0631\\u0648\\u0645\\u0627\\u0646\\u064a\\u0629 \\u0644\\u0644\\u062f\\u064a\\u0646 \\u0627\\u0644\\u0645\\u0633\\u064a\\u062d\\u064a\\u060c \\u0648\\u0645\\u0627 \\u062a\\u0644\\u0627 \\u0630\\u0644\\u0643 \\u0645\\u0646 \\u0635\\u0631\\u0627\\u0639 \\u0645\\u0630\\u0647\\u0628\\u064a \\u062f\\u0627\\u062e\\u0644\\u064a \\u0628\\u064a\\u0646 \\u0622\\u0628\\u0627\\u0621 \\u0627\\u0644\\u0643\\u0646\\u064a\\u0633\\u0629 \\u0645\\u0646 \\u062c\\u0647\\u0629\\u060c \\u0648\\u0627\\u0644\\u0645\\u0624\\u0645\\u0646\\u064a\\u0646 \\u0627\\u0644\\u062c\\u062f\\u062f \\u0648\\u0627\\u0644\\u0648\\u062b\\u0646\\u064a\\u0629 \\u0627\\u0644\\u0645\\u062a\\u0631\\u0627\\u062c\\u0639\\u0629 \\u0645\\u0646 \\u062c\\u0647\\u0629 \\u0623\\u062e\\u0631\\u0649.\\\"\\u0645\\u0627 \\u0623\\u0638\\u0646 \\u0623\\u0646\\u064a \\u062a\\u0645\\u062a\\u0639\\u062a \\u0628\\u0639\\u0645\\u0644 \\u0645\\u0646 \\u0647\\u0630\\u0627 \\u0627\\u0644\\u0642\\u0628\\u064a\\u0644.. \\u0645\\u0627 \\u0623\\u0631\\u0648\\u0639 \\u0647\\u0630\\u0627 \\u0627\\u0644\\u0639\\u0645\\u0644\\\"-- \\u064a\\u062d\\u064a\\u0649 \\u0627\\u0644\\u062c\\u0645\\u0644\\\"\\u0647\\u0630\\u0647 \\u0627\\u0644\\u0631\\u0648\\u0627\\u064a\\u0629 \\u0639\\u0645\\u0644 \\u0645\\u0628\\u062f\\u0639 \\u0648\\u062e\\u0637\\u064a\\u0631\\u060c \\u0645\\u0628\\u062f\\u0639 \\u0644\\u0645\\u0627 \\u064a\\u062d\\u062a\\u0648\\u064a\\u0647 \\u0645\\u0646 \\u0645\\u0646\\u0627\\u0637\\u0642 \\u062d\\u0648\\u0627\\u0631\\u064a\\u0629 \\u0625\\u0646\\u0633\\u0627\\u0646\\u064a\\u0629 \\u0645\\u0643\\u062a\\u0648\\u0628\\u0629 \\u0628\\u062d\\u0633\\u0627\\u0633\\u064a\\u0629 \\u0645\\u0631\\u0647\\u0641\\u0629 \\u062a\\u0645\\u062a\\u0632\\u062c \\u0641\\u064a\\u0647\\u0627 \\u0627\\u0644\\u0639\\u0627\\u0637\\u0641\\u0629 \\u0628\\u0627\\u0644\\u0645\\u062a\\u0639\\u0629\\u060c \\u0648\\u062e\\u0637\\u064a\\u0631 \\u0644\\u0623\\u0646\\u0647 \\u064a\\u062a\\u0636\\u0645\\u0646 \\u062f\\u0631\\u0627\\u0633\\u0629 \\u0641\\u064a \\u0646\\u0634\\u0623\\u0629 \\u0648\\u062a\\u0637\\u0648\\u0631 \\u0627\\u0644\\u0635\\u0631\\u0627\\u0639 \\u0627\\u0644\\u0645\\u0630\\u0647\\u0628\\u064a \\u0628\\u064a\\u0646 \\u0627\\u0644\\u0637\\u0648\\u0627\\u0626\\u0641 \\u0627\\u0644\\u0645\\u0633\\u064a\\u062d\\u064a\\u0629 \\u0641\\u064a \\u0627\\u0644\\u0645\\u0634\\u0631\\u0642.. \\u0625\\u0646 \\u064a\\u0648\\u0633\\u0641 \\u0632\\u064a\\u062f\\u0627\\u0646 \\u064a\\u062a\\u0645\\u064a\\u0632 \\u0628\\u0627\\u0644\\u0645\\u0648\\u0647\\u0628\\u062a\\u064a\\u0646\\u060c \\u0645\\u0648\\u0647\\u0628\\u0629 \\u0627\\u0644\\u0645\\u0628\\u062f\\u0639 \\u0648\\u0645\\u0648\\u0647\\u0628\\u0629 \\u0627\\u0644\\u0628\\u0627\\u062d\\u062b\\u060c \\u0648\\u0643\\u062b\\u064a\\u0631\\u0627 \\u0645\\u0627 \\u062a\\u062a\\u062f\\u0627\\u062e\\u0644 \\u0627\\u0644\\u0645\\u0648\\u0647\\u0628\\u062a\\u0627\\u0646 \\u0641\\u064a \\u0647\\u0630\\u0627 \\u0627\\u0644\\u0639\\u0645\\u0644\\\"-- \\u0633\\u0627\\u0645\\u064a \\u062e\\u0634\\u0628\\u0629\\\"\\u0644\\u0648 \\u0642\\u0631\\u0623\\u0646\\u0627 \\u0627\\u0644\\u0631\\u0648\\u0627\\u064a\\u0629 \\u0642\\u0631\\u0627\\u0621\\u0629 \\u062d\\u0642\\u064a\\u0642\\u064a\\u0629\\u060c \\u0644\\u0623\\u062f\\u0631\\u0643\\u0646\\u0627 \\u0633\\u0645\\u0648 \\u0623\\u0647\\u062f\\u0627\\u0641\\u0647\\u0627 \\u0648\\u0646\\u0628\\u0644 \\u063a\\u0627\\u064a\\u0627\\u062a\\u0647\\u0627 \\u0627\\u0644\\u0623\\u062e\\u0644\\u0627\\u0642\\u064a\\u0629 \\u0648\\u0627\\u0644\\u0631\\u0648\\u062d\\u064a\\u0629 \\u0627\\u0644\\u062a\\u064a \\u0647\\u064a \\u062a\\u0623\\u0643\\u064a\\u062f \\u0644\\u0642\\u064a\\u0645 \\u0627\\u0644\\u062a\\u0633\\u0627\\u0645\\u062d \\u0648\\u062a\\u0642\\u0628\\u0644 \\u0627\\u0644\\u0622\\u062e\\u0631\\u060c \\u0648\\u0627\\u062d\\u062a\\u0631\\u0627\\u0645 \\u062d\\u0642 \\u0627\\u0644\\u0627\\u062e\\u062a\\u0644\\u0627\\u0641\\u060c \\u0648\\u0631\\u0641\\u0636 \\u0645\\u0628\\u062f\\u0623 \\u0627\\u0644\\u0639\\u0646\\u0641.. \\u0648\\u0644\\u063a\\u0629 \\u0627\\u0644\\u0631\\u0648\\u0627\\u064a\\u0629 \\u0644\\u063a\\u0629 \\u0634\\u0639\\u0631\\u064a\\u0629\\u060c \\u062a\\u062a\\u0631\\u062c\\u0639 \\u0641\\u064a\\u0647\\u0627 \\u0623\\u0635\\u062f\\u0627\\u0621 \\u0627\\u0644\\u0645\\u0646\\u0627\\u062c\\u064a\\u0627\\u062a \\u0627\\u0644\\u0635\\u0648\\u0641\\u064a\\u0629\\u060c \\u062e\\u0635\\u0648\\u0635\\u0627 \\u062d\\u064a\\u0646 \\u0646\\u0642\\u0631\\u0623 \\u0645\\u0646\\u0627\\u062c\\u0627\\u0629 \\u0647\\u064a\\u0628\\u0627 \\u0644\\u0631\\u0628\\u0647 \\\"-- \\u062f. \\u062c\\u0627\\u0628\\u0631 \\u0639\\u0635\\u0641\\u0648\\u0631\\\"\\u064a\\u0648\\u0633\\u0641 \\u0632\\u064a\\u062f\\u0627\\u0646 \\u0647\\u0648 \\u0623\\u0648\\u0644 \\u0631\\u0648\\u0627\\u0626\\u064a \\u0645\\u0633\\u0644\\u0645\\u060c \\u064a\\u0643\\u062a\\u0628 \\u0639\\u0646 \\u0627\\u0644\\u0644\\u0627\\u0647\\u0648\\u062a \\u0627\\u0644\\u0645\\u0633\\u064a\\u062d\\u064a \\u0628\\u0634\\u0643\\u0644 \\u0631\\u0648\\u0627\\u0626\\u064a \\u0639\\u0645\\u064a\\u0642. \\u0648\\u0647\\u0648 \\u0623\\u0648\\u0644 \\u0645\\u0633\\u0644\\u0645\\u060c \\u064a\\u062d\\u0627\\u0648\\u0644 \\u0623\\u0646 \\u064a\\u0639\\u0637\\u064a \\u062d\\u0644\\u0648\\u0644\\u0627 \\u0644\\u0645\\u0634\\u0643\\u0644\\u0627\\u062a \\u0643\\u0646\\u0633\\u064a\\u0629 \\u0643\\u0628\\u0631\\u0649.. \\u0625\\u0646 \\u064a\\u0648\\u0633\\u0641 \\u0632\\u064a\\u062f\\u0627\\u0646 \\u0627\\u0642\\u062a\\u062d\\u0645 \\u062d\\u064a\\u0627\\u0629 \\u0627\\u0644\\u0623\\u062f\\u064a\\u0631\\u0629\\u060c \\u0648\\u0631\\u0633\\u0645 \\u0628\\u0631\\u064a\\u0634\\u0629 \\u0631\\u0627\\u0647\\u0628 \\u0623\\u062d\\u062f\\u0627\\u062b\\u0627 \\u0643\\u0646\\u0633\\u064a\\u0629 \\u062d\\u062f\\u062b\\u062a \\u0628\\u0627\\u0644\\u0641\\u0639\\u0644\\u060c \\u0648\\u0643\\u0627\\u0646 \\u0644\\u0647\\u0627 \\u0623\\u062b\\u0631 \\u0639\\u0638\\u064a\\u0645 \\u0641\\u064a \\u062a\\u0627\\u0631\\u064a\\u062e \\u0627\\u0644\\u0643\\u0646\\u064a\\u0633\\u0629 \\u0627\\u0644\\u0642\\u0628\\u0637\\u064a\\u0629\\\"-- \\u0627\\u0644\\u0645\\u0637\\u0631\\u0627\\u0646 \\u064a\\u0648\\u062d\\u0646\\u0627 \\u062c\\u0631\\u064a\\u062c\\u0648\\u0648\\u0631\\u064a\\u0648\\u0633\",\n          \"One of the most popular and critically acclaimed comic book titles of all time, \\nNew York Times\\n best-selling author Neil Gaiman's masterpiece \\nThe Sandman\\n set new standards for mature, lyrical fantasy and graphic narrative. Now, Vertigo and DC Comics are proud to present the first of four definitive Absolute Editions collecting this groundbreaking series in its entirety. \\nThe Absolute Sandman, Volume One\\n reprints issues 1-20 of \\nThe Sandman\\n, and features all-new coloring on issues 1-18, commissioned especially for this edition. This volume also includes a full reproduction of Gaiman's original proposal for the series and the complete script and pencils by Gaiman and Charles Vess for the World Fantasy Award-winning story \\\"A Midsummer Night's Dream\\\" from The Sandman 19. Finally, a gallery of character design sketches show the evolution of Dream of the Endless.\"\n        ],\n        \"semantic_type\": \"\",\n        \"description\": \"\"\n      }\n    },\n    {\n      \"column\": \"bookRating\",\n      \"properties\": {\n        \"dtype\": \"number\",\n        \"std\": 0.254551717915455,\n        \"min\": 2.05,\n        \"max\": 5.0,\n        \"num_unique_values\": 187,\n        \"samples\": [\n          3.25,\n          3.66,\n          4.01\n        ],\n        \"semantic_type\": \"\",\n        \"description\": \"\"\n      }\n    },\n    {\n      \"column\": \"ratingCount\",\n      \"properties\": {\n        \"dtype\": \"number\",\n        \"std\": 327586,\n        \"min\": 1,\n        \"max\": 7550262,\n        \"num_unique_values\": 9217,\n        \"samples\": [\n          35752,\n          96105,\n          9022\n        ],\n        \"semantic_type\": \"\",\n        \"description\": \"\"\n      }\n    },\n    {\n      \"column\": \"reviewCount\",\n      \"properties\": {\n        \"dtype\": \"number\",\n        \"std\": 11594,\n        \"min\": 0,\n        \"max\": 176063,\n        \"num_unique_values\": 5052,\n        \"samples\": [\n          1826,\n          5983,\n          14334\n        ],\n        \"semantic_type\": \"\",\n        \"description\": \"\"\n      }\n    },\n    {\n      \"column\": \"bookPages\",\n      \"properties\": {\n        \"dtype\": \"category\",\n        \"num_unique_values\": 1041,\n        \"samples\": [\n          \"137 pages\",\n          \"458 pages\",\n          \"1088 pages\"\n        ],\n        \"semantic_type\": \"\",\n        \"description\": \"\"\n      }\n    },\n    {\n      \"column\": \"bookGenres\",\n      \"properties\": {\n        \"dtype\": \"string\",\n        \"num_unique_values\": 9551,\n        \"samples\": [\n          \"Fiction/305|Romance/153|Contemporary/41|Drama/32|Womens Fiction-Chick Lit/22|Adult Fiction/19|Romance-Contemporary Romance/16|Adventure/15|Roman/10|Love/9\",\n          \"Classics/500|Fiction/484|Literature-American/84|Literature/60|The United States Of America/46|Novels/46|Adventure/36|Literature-20th Century/36|Roman/34|Historical-Historical Fiction/28\",\n          \"Fiction/386|Thriller/367|Action/85|Spy Thriller-Espionage/81|Mystery/80|Suspense/70|Thriller-Spy Thriller/52|Drama/43|Thriller-Mystery Thriller/40|Mystery-Crime/38\"\n        ],\n        \"semantic_type\": \"\",\n        \"description\": \"\"\n      }\n    },\n    {\n      \"column\": \"bookISBN\",\n      \"properties\": {\n        \"dtype\": \"number\",\n        \"std\": 313338270506.88226,\n        \"min\": 9780615801.0,\n        \"max\": 9789972334078.0,\n        \"num_unique_values\": 8446,\n        \"samples\": [\n          9780751514629.0,\n          9780316037884.0,\n          9780385495653.0\n        ],\n        \"semantic_type\": \"\",\n        \"description\": \"\"\n      }\n    },\n    {\n      \"column\": \"recommendations\",\n      \"properties\": {\n        \"dtype\": \"string\",\n        \"num_unique_values\": 9486,\n        \"samples\": [\n          \"[\\\"LES CAVALIERS L'ASSEMBLEE DES FEMMES|https://www.goodreads.com/book/show/52999119-les-cavaliers-l-assemblee-des-femmes\\\", \\\"L'acqua del lago non \\u00e8 mai dolce|https://www.goodreads.com/book/show/56624799-l-acqua-del-lago-non-mai-dolce\\\", 'Una storia americana. Joe Biden, Kamala Harris e una nazione da ricostruire|https://www.goodreads.com/book/show/56479803-una-storia-americana-joe-biden-kamala-harris-e-una-nazione-da-ricostru', 'De la d\\u00e9mocratie en Am\\u00e9rique : Tome 2, partie. Pr\\u00e9pas scientifiques|https://www.goodreads.com/book/show/51037928-de-la-d-mocratie-en-am-rique', 'The Silence|https://www.goodreads.com/book/show/53879204-the-silence', \\\"Questa \\u00e8 l'America: Storie per capire il presente degli Stati Uniti e il nostro futuro|https://www.goodreads.com/book/show/49402100-questa-l-america\\\", 'Sembrava bellezza|https://www.goodreads.com/book/show/56398650-sembrava-bellezza', 'Exit Rostov|https://www.goodreads.com/book/show/53056333-exit-rostov', 'La citt\\u00e0 dei vivi|https://www.goodreads.com/book/show/55744300-la-citt-dei-vivi', 'Appellate Judge: A Jack Ludefance Novel (Jack Ludefance PI Series)|https://www.goodreads.com/book/show/56121234-appellate-judge', 'The Corrections|https://www.goodreads.com/book/show/3805.The_Corrections', 'Westwind Secrets|https://www.goodreads.com/book/show/57251466-westwind-secrets', \\\"It Can't Happen Here|https://www.goodreads.com/book/show/11371.It_Can_t_Happen_Here\\\", 'A Promised Land|https://www.goodreads.com/book/show/55361205-a-promised-land', 'Passionate Declarations: Essays on War and Justice|https://www.goodreads.com/book/show/16197.Passionate_Declarations', 'A Time to Build: From Family and Community to Congress and the Campus, How Recommitting to Our Institutions Can Revive the American Dream|https://www.goodreads.com/book/show/46208095-a-time-to-build', 'A Babbo morto: Una storia di Natale|https://www.goodreads.com/book/show/55677388-a-babbo-morto']\",\n          \"['Cane|https://www.goodreads.com/book/show/765172.Cane', 'Sergeant Salinger|https://www.goodreads.com/book/show/53225537-sergeant-salinger', 'The Red Convertible: Selected and New Stories, 1978-2008|https://www.goodreads.com/book/show/5768860-the-red-convertible', 'The Sound and the Fury|https://www.goodreads.com/book/show/10975.The_Sound_and_the_Fury', 'Please|https://www.goodreads.com/book/show/4498962-please', 'Winesburg, Ohio|https://www.goodreads.com/book/show/80176.Winesburg_Ohio', 'Everybody Behaves Badly: The True Story Behind Hemingway\\u2019s Masterpiece The Sun Also Rises|https://www.goodreads.com/book/show/25897804-everybody-behaves-badly', 'As I Lay Dying|https://www.goodreads.com/book/show/77013.As_I_Lay_Dying', 'In League with Sherlock Holmes (Stories Inspired by the Sherlock Holmes Canon, #5)|https://www.goodreads.com/book/show/51601864-in-league-with-sherlock-holmes', \\\"A Boy's Will|https://www.goodreads.com/book/show/582356.A_Boy_s_Will\\\", 'Piers Plowman|https://www.goodreads.com/book/show/429679.Piers_Plowman', 'The Sporting Club|https://www.goodreads.com/book/show/272655.The_Sporting_Club', 'Kings of Colorado|https://www.goodreads.com/book/show/7840831-kings-of-colorado', 'Quicksand and Passing|https://www.goodreads.com/book/show/208063.Quicksand_and_Passing', \\\"The Professor's House|https://www.goodreads.com/book/show/48203.The_Professor_s_House\\\", 'Favorite Wildflowers: The Great Lakes and Northeastern U.S.|https://www.goodreads.com/book/show/1521086.Favorite_Wildflowers', 'State of Denial|https://www.goodreads.com/book/show/27506.State_of_Denial', 'Philip Roth: The Biography|https://www.goodreads.com/book/show/53404228-philip-roth']\",\n          \"['Piranesi|https://www.goodreads.com/book/show/50202953-piranesi', 'David Mitchell: Critical Essays|https://www.goodreads.com/book/show/11082864-david-mitchell', 'The Buried Giant|https://www.goodreads.com/book/show/22522805-the-buried-giant', 'The Luminaries|https://www.goodreads.com/book/show/17333230-the-luminaries', 'Perry Rhodan 3100: Sternenruf: Perry Rhodan-Zyklus \\\"Chaotarchen\\\"|https://www.goodreads.com/book/show/56500385-perry-rhodan-3100', 'Die Letzten der Lemurer|https://www.goodreads.com/book/show/56147372-die-letzten-der-lemurer', 'Perry Rhodan 3102: Der Eiserne Kontinent: Perry Rhodan-Zyklus \\\"Chaotarchen\\\"|https://www.goodreads.com/book/show/56500404-perry-rhodan-3102', 'Station Eleven|https://www.goodreads.com/book/show/20170404-station-eleven', 'Klara and the Sun|https://www.goodreads.com/book/show/54120408-klara-and-the-sun', 'Karolina Dalca, Dark Eyes|https://www.goodreads.com/book/show/55605912-karolina-dalca-dark-eyes', 'Jonathan Strange & Mr Norrell|https://www.goodreads.com/book/show/14201.Jonathan_Strange_Mr_Norrell', 'Der Golem|https://www.goodreads.com/book/show/55921930-der-golem', 'Das Meisterst\\u00fcck|https://www.goodreads.com/book/show/55921928-das-meisterst-ck', 'A Maiden for the Marquess (A Most Peculiar Season #6)|https://www.goodreads.com/book/show/30259830-a-maiden-for-the-marquess', 'The Book of Strange New Things|https://www.goodreads.com/book/show/20697435-the-book-of-strange-new-things', \\\"The Novelist's Rake|https://www.goodreads.com/book/show/51948694-the-novelist-s-rake\\\", 'Du\\u0161e robova|https://www.goodreads.com/book/show/3367247-du-e-robova', 'Treacherous Estate|https://www.goodreads.com/book/show/40949958-treacherous-estate']\"\n        ],\n        \"semantic_type\": \"\",\n        \"description\": \"\"\n      }\n    }\n  ]\n}"
            }
          },
          "metadata": {},
          "execution_count": 46
        }
      ]
    },
    {
      "cell_type": "code",
      "source": [
        "df.columns"
      ],
      "metadata": {
        "execution": {
          "iopub.status.busy": "2023-10-04T15:34:12.706947Z",
          "iopub.execute_input": "2023-10-04T15:34:12.707405Z",
          "iopub.status.idle": "2023-10-04T15:34:12.717287Z",
          "shell.execute_reply.started": "2023-10-04T15:34:12.70737Z",
          "shell.execute_reply": "2023-10-04T15:34:12.71482Z"
        },
        "trusted": true,
        "colab": {
          "base_uri": "https://localhost:8080/"
        },
        "id": "Deom5Z-pPNhL",
        "outputId": "882adb1a-fce3-42a7-cabd-ea1eaa6854ae"
      },
      "execution_count": 47,
      "outputs": [
        {
          "output_type": "execute_result",
          "data": {
            "text/plain": [
              "Index(['url', 'bookTitle', 'bookImage', 'bookAuthors', 'bookDesc',\n",
              "       'bookRating', 'ratingCount', 'reviewCount', 'bookPages', 'bookGenres',\n",
              "       'bookISBN', 'recommendations'],\n",
              "      dtype='object')"
            ]
          },
          "metadata": {},
          "execution_count": 47
        }
      ]
    },
    {
      "cell_type": "code",
      "source": [
        "df.isna().sum()"
      ],
      "metadata": {
        "execution": {
          "iopub.status.busy": "2023-10-04T15:34:19.643605Z",
          "iopub.execute_input": "2023-10-04T15:34:19.644526Z",
          "iopub.status.idle": "2023-10-04T15:34:19.657593Z",
          "shell.execute_reply.started": "2023-10-04T15:34:19.644482Z",
          "shell.execute_reply": "2023-10-04T15:34:19.65584Z"
        },
        "trusted": true,
        "colab": {
          "base_uri": "https://localhost:8080/"
        },
        "id": "bKQri2EKPNhM",
        "outputId": "08ddc662-e1fd-4ea6-f846-1539b3df9449"
      },
      "execution_count": 48,
      "outputs": [
        {
          "output_type": "execute_result",
          "data": {
            "text/plain": [
              "url                   0\n",
              "bookTitle             0\n",
              "bookImage            12\n",
              "bookAuthors           0\n",
              "bookDesc             50\n",
              "bookRating            0\n",
              "ratingCount           0\n",
              "reviewCount           0\n",
              "bookPages            95\n",
              "bookGenres          100\n",
              "bookISBN           1499\n",
              "recommendations     148\n",
              "dtype: int64"
            ]
          },
          "metadata": {},
          "execution_count": 48
        }
      ]
    },
    {
      "cell_type": "markdown",
      "source": [
        "There are 100 null values in the bookGenres column so we will simply drop them because 100 values does not matter that much"
      ],
      "metadata": {
        "id": "SZBU7KqyPNhM"
      }
    },
    {
      "cell_type": "code",
      "source": [
        "df.dropna(inplace=True)"
      ],
      "metadata": {
        "execution": {
          "iopub.status.busy": "2023-10-04T15:34:20.967084Z",
          "iopub.execute_input": "2023-10-04T15:34:20.967499Z",
          "iopub.status.idle": "2023-10-04T15:34:20.98184Z",
          "shell.execute_reply.started": "2023-10-04T15:34:20.967471Z",
          "shell.execute_reply": "2023-10-04T15:34:20.980097Z"
        },
        "trusted": true,
        "id": "h1ejraA0PNhM"
      },
      "execution_count": 49,
      "outputs": []
    },
    {
      "cell_type": "code",
      "source": [
        "df.drop_duplicates(inplace=True)"
      ],
      "metadata": {
        "execution": {
          "iopub.status.busy": "2023-10-04T15:34:35.668389Z",
          "iopub.execute_input": "2023-10-04T15:34:35.668793Z",
          "iopub.status.idle": "2023-10-04T15:34:35.6874Z",
          "shell.execute_reply.started": "2023-10-04T15:34:35.66876Z",
          "shell.execute_reply": "2023-10-04T15:34:35.686232Z"
        },
        "trusted": true,
        "id": "-oHKmHv6PNhM"
      },
      "execution_count": 50,
      "outputs": []
    },
    {
      "cell_type": "code",
      "source": [
        "df.shape"
      ],
      "metadata": {
        "execution": {
          "iopub.status.busy": "2023-10-04T15:34:36.555729Z",
          "iopub.execute_input": "2023-10-04T15:34:36.556346Z",
          "iopub.status.idle": "2023-10-04T15:34:36.566195Z",
          "shell.execute_reply.started": "2023-10-04T15:34:36.556278Z",
          "shell.execute_reply": "2023-10-04T15:34:36.564075Z"
        },
        "trusted": true,
        "colab": {
          "base_uri": "https://localhost:8080/"
        },
        "id": "74cgsUbTPNhM",
        "outputId": "bea8d15e-0ccb-4792-f48e-4cd9d3da75b4"
      },
      "execution_count": 51,
      "outputs": [
        {
          "output_type": "execute_result",
          "data": {
            "text/plain": [
              "(8316, 12)"
            ]
          },
          "metadata": {},
          "execution_count": 51
        }
      ]
    },
    {
      "cell_type": "code",
      "source": [
        "df['bookGenres'][0]"
      ],
      "metadata": {
        "execution": {
          "iopub.status.busy": "2023-10-04T15:34:44.696017Z",
          "iopub.execute_input": "2023-10-04T15:34:44.696887Z",
          "iopub.status.idle": "2023-10-04T15:34:44.707034Z",
          "shell.execute_reply.started": "2023-10-04T15:34:44.69685Z",
          "shell.execute_reply": "2023-10-04T15:34:44.705343Z"
        },
        "trusted": true,
        "colab": {
          "base_uri": "https://localhost:8080/",
          "height": 0
        },
        "id": "8kFO-RMlPNhM",
        "outputId": "0d0a8c73-b409-4200-a751-9772dac56166"
      },
      "execution_count": 52,
      "outputs": [
        {
          "output_type": "execute_result",
          "data": {
            "text/plain": [
              "'Young Adult/31,498|Fiction/17,878|Science Fiction-Dystopia/16,665|Fantasy/14,057|Science Fiction/10,807|Romance/4,067|Adventure/3,496|Young Adult-Teen/1,906|Apocalyptic-Post Apocalyptic/1,658|Action/1,375'"
            ],
            "application/vnd.google.colaboratory.intrinsic+json": {
              "type": "string"
            }
          },
          "metadata": {},
          "execution_count": 52
        }
      ]
    },
    {
      "cell_type": "markdown",
      "source": [
        "Now as you can see the genres for books are some random string with some numbers in it so we need to extract those genres and store them seperatly so i am using set to make the set of genres for a book"
      ],
      "metadata": {
        "id": "aHr8AHk-PNhN"
      }
    },
    {
      "cell_type": "code",
      "source": [
        "def extract_genres(input_string):\n",
        "    genres_data = input_string.split('|')\n",
        "    extracted_genres = set()\n",
        "    for genre_entry in genres_data:\n",
        "        genre_parts = genre_entry.split('/')\n",
        "        if len(genre_parts) >= 2:\n",
        "            genre_name = genre_parts[0]\n",
        "            extracted_genres.add(genre_name)\n",
        "    return extracted_genres\n",
        "\n",
        "df['cleaned_bookGenres'] = df[\"bookGenres\"].apply(extract_genres)"
      ],
      "metadata": {
        "execution": {
          "iopub.status.busy": "2023-10-04T15:34:45.903496Z",
          "iopub.execute_input": "2023-10-04T15:34:45.903897Z",
          "iopub.status.idle": "2023-10-04T15:34:45.985604Z",
          "shell.execute_reply.started": "2023-10-04T15:34:45.903866Z",
          "shell.execute_reply": "2023-10-04T15:34:45.98345Z"
        },
        "trusted": true,
        "id": "70oMJFOmPNhN"
      },
      "execution_count": 53,
      "outputs": []
    },
    {
      "cell_type": "code",
      "source": [
        "df['bookTitle'][0]"
      ],
      "metadata": {
        "execution": {
          "iopub.status.busy": "2023-10-04T15:34:46.43129Z",
          "iopub.execute_input": "2023-10-04T15:34:46.431682Z",
          "iopub.status.idle": "2023-10-04T15:34:46.440808Z",
          "shell.execute_reply.started": "2023-10-04T15:34:46.431653Z",
          "shell.execute_reply": "2023-10-04T15:34:46.438976Z"
        },
        "trusted": true,
        "colab": {
          "base_uri": "https://localhost:8080/",
          "height": 0
        },
        "id": "ogGfwt7UPNhN",
        "outputId": "9bd6e3f6-fac4-4243-d0c4-72f9fcee800f"
      },
      "execution_count": 54,
      "outputs": [
        {
          "output_type": "execute_result",
          "data": {
            "text/plain": [
              "'The Hunger Games'"
            ],
            "application/vnd.google.colaboratory.intrinsic+json": {
              "type": "string"
            }
          },
          "metadata": {},
          "execution_count": 54
        }
      ]
    },
    {
      "cell_type": "code",
      "source": [
        "df['bookGenres'][0]"
      ],
      "metadata": {
        "execution": {
          "iopub.status.busy": "2023-10-04T15:34:47.408875Z",
          "iopub.execute_input": "2023-10-04T15:34:47.409347Z",
          "iopub.status.idle": "2023-10-04T15:34:47.41762Z",
          "shell.execute_reply.started": "2023-10-04T15:34:47.409314Z",
          "shell.execute_reply": "2023-10-04T15:34:47.416338Z"
        },
        "trusted": true,
        "colab": {
          "base_uri": "https://localhost:8080/",
          "height": 0
        },
        "id": "20dC1l1hPNhN",
        "outputId": "ab8cda3e-3826-4868-b64c-d807a71a3d30"
      },
      "execution_count": 55,
      "outputs": [
        {
          "output_type": "execute_result",
          "data": {
            "text/plain": [
              "'Young Adult/31,498|Fiction/17,878|Science Fiction-Dystopia/16,665|Fantasy/14,057|Science Fiction/10,807|Romance/4,067|Adventure/3,496|Young Adult-Teen/1,906|Apocalyptic-Post Apocalyptic/1,658|Action/1,375'"
            ],
            "application/vnd.google.colaboratory.intrinsic+json": {
              "type": "string"
            }
          },
          "metadata": {},
          "execution_count": 55
        }
      ]
    },
    {
      "cell_type": "code",
      "source": [
        "df['cleaned_bookGenres'][0]"
      ],
      "metadata": {
        "execution": {
          "iopub.status.busy": "2023-10-04T15:34:48.02886Z",
          "iopub.execute_input": "2023-10-04T15:34:48.029266Z",
          "iopub.status.idle": "2023-10-04T15:34:48.038656Z",
          "shell.execute_reply.started": "2023-10-04T15:34:48.029235Z",
          "shell.execute_reply": "2023-10-04T15:34:48.036868Z"
        },
        "trusted": true,
        "colab": {
          "base_uri": "https://localhost:8080/"
        },
        "id": "Xpf0oOAxPNhN",
        "outputId": "d36e30d5-1fce-4321-f28f-8ea2ab345f98"
      },
      "execution_count": 56,
      "outputs": [
        {
          "output_type": "execute_result",
          "data": {
            "text/plain": [
              "{'Action',\n",
              " 'Adventure',\n",
              " 'Apocalyptic-Post Apocalyptic',\n",
              " 'Fantasy',\n",
              " 'Fiction',\n",
              " 'Romance',\n",
              " 'Science Fiction',\n",
              " 'Science Fiction-Dystopia',\n",
              " 'Young Adult',\n",
              " 'Young Adult-Teen'}"
            ]
          },
          "metadata": {},
          "execution_count": 56
        }
      ]
    },
    {
      "cell_type": "code",
      "source": [
        "df.columns"
      ],
      "metadata": {
        "execution": {
          "iopub.status.busy": "2023-10-04T15:34:48.485055Z",
          "iopub.execute_input": "2023-10-04T15:34:48.485455Z",
          "iopub.status.idle": "2023-10-04T15:34:48.494146Z",
          "shell.execute_reply.started": "2023-10-04T15:34:48.485426Z",
          "shell.execute_reply": "2023-10-04T15:34:48.492484Z"
        },
        "trusted": true,
        "colab": {
          "base_uri": "https://localhost:8080/"
        },
        "id": "gXEdiHEXPNhN",
        "outputId": "2c108d80-a0fb-4caa-e87e-d9e1af09e67c"
      },
      "execution_count": 57,
      "outputs": [
        {
          "output_type": "execute_result",
          "data": {
            "text/plain": [
              "Index(['url', 'bookTitle', 'bookImage', 'bookAuthors', 'bookDesc',\n",
              "       'bookRating', 'ratingCount', 'reviewCount', 'bookPages', 'bookGenres',\n",
              "       'bookISBN', 'recommendations', 'cleaned_bookGenres'],\n",
              "      dtype='object')"
            ]
          },
          "metadata": {},
          "execution_count": 57
        }
      ]
    },
    {
      "cell_type": "markdown",
      "source": [
        "Now as we clean the genres and we have cleaned_bookGenres so there is no need for bookGenres so i am going to drop it"
      ],
      "metadata": {
        "id": "LuIlHydpPNhN"
      }
    },
    {
      "cell_type": "code",
      "source": [
        "df.drop(['bookGenres'],inplace=True,axis=1)"
      ],
      "metadata": {
        "execution": {
          "iopub.status.busy": "2023-10-04T15:34:49.909825Z",
          "iopub.execute_input": "2023-10-04T15:34:49.9102Z",
          "iopub.status.idle": "2023-10-04T15:34:49.919236Z",
          "shell.execute_reply.started": "2023-10-04T15:34:49.910141Z",
          "shell.execute_reply": "2023-10-04T15:34:49.917354Z"
        },
        "trusted": true,
        "id": "q_bv99eXPNhN"
      },
      "execution_count": 58,
      "outputs": []
    },
    {
      "cell_type": "code",
      "source": [
        "df.head()"
      ],
      "metadata": {
        "execution": {
          "iopub.status.busy": "2023-10-04T15:34:50.830263Z",
          "iopub.execute_input": "2023-10-04T15:34:50.830839Z",
          "iopub.status.idle": "2023-10-04T15:34:50.848068Z",
          "shell.execute_reply.started": "2023-10-04T15:34:50.830804Z",
          "shell.execute_reply": "2023-10-04T15:34:50.846377Z"
        },
        "trusted": true,
        "colab": {
          "base_uri": "https://localhost:8080/",
          "height": 0
        },
        "collapsed": true,
        "id": "0K5Ys6WPPNhN",
        "outputId": "554e3088-5029-4381-9133-040a5ec83720"
      },
      "execution_count": 59,
      "outputs": [
        {
          "output_type": "execute_result",
          "data": {
            "text/plain": [
              "                                                 url  \\\n",
              "0  https://www.goodreads.com/book/show/2767052-th...   \n",
              "4  https://www.goodreads.com/book/show/41865.Twil...   \n",
              "5  https://www.goodreads.com/book/show/19063.The_...   \n",
              "6  https://www.goodreads.com/book/show/7613.Anima...   \n",
              "7  https://www.goodreads.com/book/show/11127.The_...   \n",
              "\n",
              "                  bookTitle  \\\n",
              "0          The Hunger Games   \n",
              "4                  Twilight   \n",
              "5            The Book Thief   \n",
              "6               Animal Farm   \n",
              "7  The Chronicles of Narnia   \n",
              "\n",
              "                                           bookImage  \\\n",
              "0  https://i.gr-assets.com/images/S/compressed.ph...   \n",
              "4  https://i.gr-assets.com/images/S/compressed.ph...   \n",
              "5  https://i.gr-assets.com/images/S/compressed.ph...   \n",
              "6  https://i.gr-assets.com/images/S/compressed.ph...   \n",
              "7  https://i.gr-assets.com/images/S/compressed.ph...   \n",
              "\n",
              "                                         bookAuthors  \\\n",
              "0                                    Suzanne Collins   \n",
              "4                                    Stephenie Meyer   \n",
              "5                                       Markus Zusak   \n",
              "6  George Orwell,Boris Grabnar,Celâl Üster,Celâl ...   \n",
              "7                          C.S. Lewis,Pauline Baynes   \n",
              "\n",
              "                                            bookDesc  bookRating  ratingCount  \\\n",
              "0  Could you survive on your own in the wild, wit...        4.32      6717635   \n",
              "4  About three things I was absolutely positive.F...        3.61      5231000   \n",
              "5  Librarian's note: An alternate cover edition c...        4.38      1954165   \n",
              "6  George Orwell's timeless and timely allegorica...        3.96      2926888   \n",
              "7  Librarian note: An alternate cover for this ed...        4.26       548649   \n",
              "\n",
              "   reviewCount  bookPages      bookISBN  \\\n",
              "0       176054  374 pages  9.780439e+12   \n",
              "4       107619  501 pages  9.780316e+12   \n",
              "5       117307  552 pages  9.780376e+12   \n",
              "6        61574  122 pages  9.780452e+12   \n",
              "7        10743  767 pages  9.780066e+12   \n",
              "\n",
              "                                     recommendations  \\\n",
              "0  ['Divergent (Divergent, #1)|https://www.goodre...   \n",
              "4  ['The Hunger Games (The Hunger Games, #1)|http...   \n",
              "5  ['All the Light We Cannot See|https://www.good...   \n",
              "6  ['The Great Gatsby|https://www.goodreads.com/b...   \n",
              "7  ['J.R.R. Tolkien 4-Book Boxed Set: The Hobbit ...   \n",
              "\n",
              "                                  cleaned_bookGenres  \n",
              "0  {Fantasy, Romance, Adventure, Young Adult-Teen...  \n",
              "4  {Paranormal-Vampires, Fantasy, Romance, Young ...  \n",
              "5  {War-World War II, World War II-Holocaust, His...  \n",
              "6  {Fantasy, Academic-School, Politics, Classics,...  \n",
              "7  {Childrens-Middle Grade, Fantasy, Adventure, S...  "
            ],
            "text/html": [
              "\n",
              "  <div id=\"df-138c89b6-0055-426c-b9f7-d206c4b87aa6\" class=\"colab-df-container\">\n",
              "    <div>\n",
              "<style scoped>\n",
              "    .dataframe tbody tr th:only-of-type {\n",
              "        vertical-align: middle;\n",
              "    }\n",
              "\n",
              "    .dataframe tbody tr th {\n",
              "        vertical-align: top;\n",
              "    }\n",
              "\n",
              "    .dataframe thead th {\n",
              "        text-align: right;\n",
              "    }\n",
              "</style>\n",
              "<table border=\"1\" class=\"dataframe\">\n",
              "  <thead>\n",
              "    <tr style=\"text-align: right;\">\n",
              "      <th></th>\n",
              "      <th>url</th>\n",
              "      <th>bookTitle</th>\n",
              "      <th>bookImage</th>\n",
              "      <th>bookAuthors</th>\n",
              "      <th>bookDesc</th>\n",
              "      <th>bookRating</th>\n",
              "      <th>ratingCount</th>\n",
              "      <th>reviewCount</th>\n",
              "      <th>bookPages</th>\n",
              "      <th>bookISBN</th>\n",
              "      <th>recommendations</th>\n",
              "      <th>cleaned_bookGenres</th>\n",
              "    </tr>\n",
              "  </thead>\n",
              "  <tbody>\n",
              "    <tr>\n",
              "      <th>0</th>\n",
              "      <td>https://www.goodreads.com/book/show/2767052-th...</td>\n",
              "      <td>The Hunger Games</td>\n",
              "      <td>https://i.gr-assets.com/images/S/compressed.ph...</td>\n",
              "      <td>Suzanne Collins</td>\n",
              "      <td>Could you survive on your own in the wild, wit...</td>\n",
              "      <td>4.32</td>\n",
              "      <td>6717635</td>\n",
              "      <td>176054</td>\n",
              "      <td>374 pages</td>\n",
              "      <td>9.780439e+12</td>\n",
              "      <td>['Divergent (Divergent, #1)|https://www.goodre...</td>\n",
              "      <td>{Fantasy, Romance, Adventure, Young Adult-Teen...</td>\n",
              "    </tr>\n",
              "    <tr>\n",
              "      <th>4</th>\n",
              "      <td>https://www.goodreads.com/book/show/41865.Twil...</td>\n",
              "      <td>Twilight</td>\n",
              "      <td>https://i.gr-assets.com/images/S/compressed.ph...</td>\n",
              "      <td>Stephenie Meyer</td>\n",
              "      <td>About three things I was absolutely positive.F...</td>\n",
              "      <td>3.61</td>\n",
              "      <td>5231000</td>\n",
              "      <td>107619</td>\n",
              "      <td>501 pages</td>\n",
              "      <td>9.780316e+12</td>\n",
              "      <td>['The Hunger Games (The Hunger Games, #1)|http...</td>\n",
              "      <td>{Paranormal-Vampires, Fantasy, Romance, Young ...</td>\n",
              "    </tr>\n",
              "    <tr>\n",
              "      <th>5</th>\n",
              "      <td>https://www.goodreads.com/book/show/19063.The_...</td>\n",
              "      <td>The Book Thief</td>\n",
              "      <td>https://i.gr-assets.com/images/S/compressed.ph...</td>\n",
              "      <td>Markus Zusak</td>\n",
              "      <td>Librarian's note: An alternate cover edition c...</td>\n",
              "      <td>4.38</td>\n",
              "      <td>1954165</td>\n",
              "      <td>117307</td>\n",
              "      <td>552 pages</td>\n",
              "      <td>9.780376e+12</td>\n",
              "      <td>['All the Light We Cannot See|https://www.good...</td>\n",
              "      <td>{War-World War II, World War II-Holocaust, His...</td>\n",
              "    </tr>\n",
              "    <tr>\n",
              "      <th>6</th>\n",
              "      <td>https://www.goodreads.com/book/show/7613.Anima...</td>\n",
              "      <td>Animal Farm</td>\n",
              "      <td>https://i.gr-assets.com/images/S/compressed.ph...</td>\n",
              "      <td>George Orwell,Boris Grabnar,Celâl Üster,Celâl ...</td>\n",
              "      <td>George Orwell's timeless and timely allegorica...</td>\n",
              "      <td>3.96</td>\n",
              "      <td>2926888</td>\n",
              "      <td>61574</td>\n",
              "      <td>122 pages</td>\n",
              "      <td>9.780452e+12</td>\n",
              "      <td>['The Great Gatsby|https://www.goodreads.com/b...</td>\n",
              "      <td>{Fantasy, Academic-School, Politics, Classics,...</td>\n",
              "    </tr>\n",
              "    <tr>\n",
              "      <th>7</th>\n",
              "      <td>https://www.goodreads.com/book/show/11127.The_...</td>\n",
              "      <td>The Chronicles of Narnia</td>\n",
              "      <td>https://i.gr-assets.com/images/S/compressed.ph...</td>\n",
              "      <td>C.S. Lewis,Pauline Baynes</td>\n",
              "      <td>Librarian note: An alternate cover for this ed...</td>\n",
              "      <td>4.26</td>\n",
              "      <td>548649</td>\n",
              "      <td>10743</td>\n",
              "      <td>767 pages</td>\n",
              "      <td>9.780066e+12</td>\n",
              "      <td>['J.R.R. Tolkien 4-Book Boxed Set: The Hobbit ...</td>\n",
              "      <td>{Childrens-Middle Grade, Fantasy, Adventure, S...</td>\n",
              "    </tr>\n",
              "  </tbody>\n",
              "</table>\n",
              "</div>\n",
              "    <div class=\"colab-df-buttons\">\n",
              "\n",
              "  <div class=\"colab-df-container\">\n",
              "    <button class=\"colab-df-convert\" onclick=\"convertToInteractive('df-138c89b6-0055-426c-b9f7-d206c4b87aa6')\"\n",
              "            title=\"Convert this dataframe to an interactive table.\"\n",
              "            style=\"display:none;\">\n",
              "\n",
              "  <svg xmlns=\"http://www.w3.org/2000/svg\" height=\"24px\" viewBox=\"0 -960 960 960\">\n",
              "    <path d=\"M120-120v-720h720v720H120Zm60-500h600v-160H180v160Zm220 220h160v-160H400v160Zm0 220h160v-160H400v160ZM180-400h160v-160H180v160Zm440 0h160v-160H620v160ZM180-180h160v-160H180v160Zm440 0h160v-160H620v160Z\"/>\n",
              "  </svg>\n",
              "    </button>\n",
              "\n",
              "  <style>\n",
              "    .colab-df-container {\n",
              "      display:flex;\n",
              "      gap: 12px;\n",
              "    }\n",
              "\n",
              "    .colab-df-convert {\n",
              "      background-color: #E8F0FE;\n",
              "      border: none;\n",
              "      border-radius: 50%;\n",
              "      cursor: pointer;\n",
              "      display: none;\n",
              "      fill: #1967D2;\n",
              "      height: 32px;\n",
              "      padding: 0 0 0 0;\n",
              "      width: 32px;\n",
              "    }\n",
              "\n",
              "    .colab-df-convert:hover {\n",
              "      background-color: #E2EBFA;\n",
              "      box-shadow: 0px 1px 2px rgba(60, 64, 67, 0.3), 0px 1px 3px 1px rgba(60, 64, 67, 0.15);\n",
              "      fill: #174EA6;\n",
              "    }\n",
              "\n",
              "    .colab-df-buttons div {\n",
              "      margin-bottom: 4px;\n",
              "    }\n",
              "\n",
              "    [theme=dark] .colab-df-convert {\n",
              "      background-color: #3B4455;\n",
              "      fill: #D2E3FC;\n",
              "    }\n",
              "\n",
              "    [theme=dark] .colab-df-convert:hover {\n",
              "      background-color: #434B5C;\n",
              "      box-shadow: 0px 1px 3px 1px rgba(0, 0, 0, 0.15);\n",
              "      filter: drop-shadow(0px 1px 2px rgba(0, 0, 0, 0.3));\n",
              "      fill: #FFFFFF;\n",
              "    }\n",
              "  </style>\n",
              "\n",
              "    <script>\n",
              "      const buttonEl =\n",
              "        document.querySelector('#df-138c89b6-0055-426c-b9f7-d206c4b87aa6 button.colab-df-convert');\n",
              "      buttonEl.style.display =\n",
              "        google.colab.kernel.accessAllowed ? 'block' : 'none';\n",
              "\n",
              "      async function convertToInteractive(key) {\n",
              "        const element = document.querySelector('#df-138c89b6-0055-426c-b9f7-d206c4b87aa6');\n",
              "        const dataTable =\n",
              "          await google.colab.kernel.invokeFunction('convertToInteractive',\n",
              "                                                    [key], {});\n",
              "        if (!dataTable) return;\n",
              "\n",
              "        const docLinkHtml = 'Like what you see? Visit the ' +\n",
              "          '<a target=\"_blank\" href=https://colab.research.google.com/notebooks/data_table.ipynb>data table notebook</a>'\n",
              "          + ' to learn more about interactive tables.';\n",
              "        element.innerHTML = '';\n",
              "        dataTable['output_type'] = 'display_data';\n",
              "        await google.colab.output.renderOutput(dataTable, element);\n",
              "        const docLink = document.createElement('div');\n",
              "        docLink.innerHTML = docLinkHtml;\n",
              "        element.appendChild(docLink);\n",
              "      }\n",
              "    </script>\n",
              "  </div>\n",
              "\n",
              "\n",
              "<div id=\"df-9b6bc1ed-9c99-492b-be4c-5e8779a9ff90\">\n",
              "  <button class=\"colab-df-quickchart\" onclick=\"quickchart('df-9b6bc1ed-9c99-492b-be4c-5e8779a9ff90')\"\n",
              "            title=\"Suggest charts\"\n",
              "            style=\"display:none;\">\n",
              "\n",
              "<svg xmlns=\"http://www.w3.org/2000/svg\" height=\"24px\"viewBox=\"0 0 24 24\"\n",
              "     width=\"24px\">\n",
              "    <g>\n",
              "        <path d=\"M19 3H5c-1.1 0-2 .9-2 2v14c0 1.1.9 2 2 2h14c1.1 0 2-.9 2-2V5c0-1.1-.9-2-2-2zM9 17H7v-7h2v7zm4 0h-2V7h2v10zm4 0h-2v-4h2v4z\"/>\n",
              "    </g>\n",
              "</svg>\n",
              "  </button>\n",
              "\n",
              "<style>\n",
              "  .colab-df-quickchart {\n",
              "      --bg-color: #E8F0FE;\n",
              "      --fill-color: #1967D2;\n",
              "      --hover-bg-color: #E2EBFA;\n",
              "      --hover-fill-color: #174EA6;\n",
              "      --disabled-fill-color: #AAA;\n",
              "      --disabled-bg-color: #DDD;\n",
              "  }\n",
              "\n",
              "  [theme=dark] .colab-df-quickchart {\n",
              "      --bg-color: #3B4455;\n",
              "      --fill-color: #D2E3FC;\n",
              "      --hover-bg-color: #434B5C;\n",
              "      --hover-fill-color: #FFFFFF;\n",
              "      --disabled-bg-color: #3B4455;\n",
              "      --disabled-fill-color: #666;\n",
              "  }\n",
              "\n",
              "  .colab-df-quickchart {\n",
              "    background-color: var(--bg-color);\n",
              "    border: none;\n",
              "    border-radius: 50%;\n",
              "    cursor: pointer;\n",
              "    display: none;\n",
              "    fill: var(--fill-color);\n",
              "    height: 32px;\n",
              "    padding: 0;\n",
              "    width: 32px;\n",
              "  }\n",
              "\n",
              "  .colab-df-quickchart:hover {\n",
              "    background-color: var(--hover-bg-color);\n",
              "    box-shadow: 0 1px 2px rgba(60, 64, 67, 0.3), 0 1px 3px 1px rgba(60, 64, 67, 0.15);\n",
              "    fill: var(--button-hover-fill-color);\n",
              "  }\n",
              "\n",
              "  .colab-df-quickchart-complete:disabled,\n",
              "  .colab-df-quickchart-complete:disabled:hover {\n",
              "    background-color: var(--disabled-bg-color);\n",
              "    fill: var(--disabled-fill-color);\n",
              "    box-shadow: none;\n",
              "  }\n",
              "\n",
              "  .colab-df-spinner {\n",
              "    border: 2px solid var(--fill-color);\n",
              "    border-color: transparent;\n",
              "    border-bottom-color: var(--fill-color);\n",
              "    animation:\n",
              "      spin 1s steps(1) infinite;\n",
              "  }\n",
              "\n",
              "  @keyframes spin {\n",
              "    0% {\n",
              "      border-color: transparent;\n",
              "      border-bottom-color: var(--fill-color);\n",
              "      border-left-color: var(--fill-color);\n",
              "    }\n",
              "    20% {\n",
              "      border-color: transparent;\n",
              "      border-left-color: var(--fill-color);\n",
              "      border-top-color: var(--fill-color);\n",
              "    }\n",
              "    30% {\n",
              "      border-color: transparent;\n",
              "      border-left-color: var(--fill-color);\n",
              "      border-top-color: var(--fill-color);\n",
              "      border-right-color: var(--fill-color);\n",
              "    }\n",
              "    40% {\n",
              "      border-color: transparent;\n",
              "      border-right-color: var(--fill-color);\n",
              "      border-top-color: var(--fill-color);\n",
              "    }\n",
              "    60% {\n",
              "      border-color: transparent;\n",
              "      border-right-color: var(--fill-color);\n",
              "    }\n",
              "    80% {\n",
              "      border-color: transparent;\n",
              "      border-right-color: var(--fill-color);\n",
              "      border-bottom-color: var(--fill-color);\n",
              "    }\n",
              "    90% {\n",
              "      border-color: transparent;\n",
              "      border-bottom-color: var(--fill-color);\n",
              "    }\n",
              "  }\n",
              "</style>\n",
              "\n",
              "  <script>\n",
              "    async function quickchart(key) {\n",
              "      const quickchartButtonEl =\n",
              "        document.querySelector('#' + key + ' button');\n",
              "      quickchartButtonEl.disabled = true;  // To prevent multiple clicks.\n",
              "      quickchartButtonEl.classList.add('colab-df-spinner');\n",
              "      try {\n",
              "        const charts = await google.colab.kernel.invokeFunction(\n",
              "            'suggestCharts', [key], {});\n",
              "      } catch (error) {\n",
              "        console.error('Error during call to suggestCharts:', error);\n",
              "      }\n",
              "      quickchartButtonEl.classList.remove('colab-df-spinner');\n",
              "      quickchartButtonEl.classList.add('colab-df-quickchart-complete');\n",
              "    }\n",
              "    (() => {\n",
              "      let quickchartButtonEl =\n",
              "        document.querySelector('#df-9b6bc1ed-9c99-492b-be4c-5e8779a9ff90 button');\n",
              "      quickchartButtonEl.style.display =\n",
              "        google.colab.kernel.accessAllowed ? 'block' : 'none';\n",
              "    })();\n",
              "  </script>\n",
              "</div>\n",
              "\n",
              "    </div>\n",
              "  </div>\n"
            ],
            "application/vnd.google.colaboratory.intrinsic+json": {
              "type": "dataframe",
              "variable_name": "df",
              "summary": "{\n  \"name\": \"df\",\n  \"rows\": 8316,\n  \"fields\": [\n    {\n      \"column\": \"url\",\n      \"properties\": {\n        \"dtype\": \"string\",\n        \"num_unique_values\": 8316,\n        \"samples\": [\n          \"https://www.goodreads.com/book/show/182683.Fame\",\n          \"https://www.goodreads.com/book/show/297673.The_Brief_Wondrous_Life_of_Oscar_Wao\",\n          \"https://www.goodreads.com/book/show/92755.The_Riddle_Master_of_Hed\"\n        ],\n        \"semantic_type\": \"\",\n        \"description\": \"\"\n      }\n    },\n    {\n      \"column\": \"bookTitle\",\n      \"properties\": {\n        \"dtype\": \"string\",\n        \"num_unique_values\": 7962,\n        \"samples\": [\n          \"Musashi\",\n          \"Roadside Picnic\",\n          \"Keeper of the Lost Cities\"\n        ],\n        \"semantic_type\": \"\",\n        \"description\": \"\"\n      }\n    },\n    {\n      \"column\": \"bookImage\",\n      \"properties\": {\n        \"dtype\": \"string\",\n        \"num_unique_values\": 8316,\n        \"samples\": [\n          \"https://i.gr-assets.com/images/S/compressed.photo.goodreads.com/books/1406506537l/182683.jpg\",\n          \"https://i.gr-assets.com/images/S/compressed.photo.goodreads.com/books/1391409748l/297673.jpg\",\n          \"https://i.gr-assets.com/images/S/compressed.photo.goodreads.com/books/1328008931l/92755.jpg\"\n        ],\n        \"semantic_type\": \"\",\n        \"description\": \"\"\n      }\n    },\n    {\n      \"column\": \"bookAuthors\",\n      \"properties\": {\n        \"dtype\": \"string\",\n        \"num_unique_values\": 4401,\n        \"samples\": [\n          \"Emmuska Orczy\",\n          \"Anonymous,Ananda Maitreya,Thich Nhat Hanh\",\n          \"Raditya Dika\"\n        ],\n        \"semantic_type\": \"\",\n        \"description\": \"\"\n      }\n    },\n    {\n      \"column\": \"bookDesc\",\n      \"properties\": {\n        \"dtype\": \"string\",\n        \"num_unique_values\": 8288,\n        \"samples\": [\n          \"A man-made plague has swept the earth, but a small group survives, along with the green-eyed Crakers \\u2013 a gentle species bio-engineered to replace humans. Toby, onetime member of the Gods Gardeners and expert in mushrooms and bees, is still in love with street-smart Zeb, who has an interesting past. The Crakers\\u2019 reluctant prophet, Snowman-the-Jimmy, is hallucinating; Amanda is in shock from a Painballer attack; and Ivory Bill yearns for the provocative Swift Fox, who is flirting with Zeb. Meanwhile, giant Pigoons and malevolent Painballers threaten to attack. Told with wit, dizzying imagination, and dark humour, Booker Prize-winning Margaret Atwood\\u2019s unpredictable, chilling and hilarious MaddAddam takes us further into a challenging dystopian world and holds up a skewed mirror to our own possible future.\",\n          \"Sometimes discovering the truth can leave you more hopeless than believing the lies\\u2026That\\u2019s what seventeen-year-old Sky realizes after she meets Dean Holder. A guy with a reputation that rivals her own and an uncanny ability to invoke feelings in her she\\u2019s never had before. He terrifies her and captivates her all in the span of just one encounter, and something about the way he makes her feel sparks buried memories from a past that she wishes could just stay buried.Sky struggles to keep him at a distance knowing he\\u2019s nothing but trouble, but Holder insists on learning everything about her. After finally caving to his unwavering pursuit, Sky soon finds that Holder isn\\u2019t at all who he\\u2019s been claiming to be. When the secrets he\\u2019s been keeping are finally revealed, every single facet of Sky\\u2019s life will change forever.\",\n          \"With the Christmas season upon him, Detective Sergeant Bruce Robertson of Edinburgh's finest is gearing up socially\\u2014kicking things off with a week of sex and drugs in Amsterdam.There are some sizable flies in the ointment, though: a missing wife and child, a nagging cocaine habit, some painful below-the-belt eczema, and a string of demanding extramarital affairs. The last thing Robertson needs is a messy, racially fraught murder, even if it means overtime\\u2014and the opportunity to clinch the promotion he craves. Then there's that nutritionally demanding (and psychologically acute) intestinal parasite in his gut. Yes, things are going badly for this utterly corrupt tribune of the law, but in an Irvine Welsh novel nothing is ever so bad that it can't get a whole lot worse. . .\"\n        ],\n        \"semantic_type\": \"\",\n        \"description\": \"\"\n      }\n    },\n    {\n      \"column\": \"bookRating\",\n      \"properties\": {\n        \"dtype\": \"number\",\n        \"std\": 0.2464787519282095,\n        \"min\": 2.05,\n        \"max\": 4.92,\n        \"num_unique_values\": 175,\n        \"samples\": [\n          3.28,\n          3.18,\n          3.71\n        ],\n        \"semantic_type\": \"\",\n        \"description\": \"\"\n      }\n    },\n    {\n      \"column\": \"ratingCount\",\n      \"properties\": {\n        \"dtype\": \"number\",\n        \"std\": 299008,\n        \"min\": 22,\n        \"max\": 6718060,\n        \"num_unique_values\": 7886,\n        \"samples\": [\n          103035,\n          9915,\n          3027\n        ],\n        \"semantic_type\": \"\",\n        \"description\": \"\"\n      }\n    },\n    {\n      \"column\": \"reviewCount\",\n      \"properties\": {\n        \"dtype\": \"number\",\n        \"std\": 11168,\n        \"min\": 1,\n        \"max\": 176063,\n        \"num_unique_values\": 4577,\n        \"samples\": [\n          1475,\n          72,\n          2200\n        ],\n        \"semantic_type\": \"\",\n        \"description\": \"\"\n      }\n    },\n    {\n      \"column\": \"bookPages\",\n      \"properties\": {\n        \"dtype\": \"category\",\n        \"num_unique_values\": 979,\n        \"samples\": [\n          \"272 pages\",\n          \"459 pages\",\n          \"888 pages\"\n        ],\n        \"semantic_type\": \"\",\n        \"description\": \"\"\n      }\n    },\n    {\n      \"column\": \"bookISBN\",\n      \"properties\": {\n        \"dtype\": \"number\",\n        \"std\": 316800589944.39764,\n        \"min\": 9780615801.0,\n        \"max\": 9789963746712.0,\n        \"num_unique_values\": 8263,\n        \"samples\": [\n          9788129118806.0,\n          9780099584353.0,\n          9781622660759.0\n        ],\n        \"semantic_type\": \"\",\n        \"description\": \"\"\n      }\n    },\n    {\n      \"column\": \"recommendations\",\n      \"properties\": {\n        \"dtype\": \"string\",\n        \"num_unique_values\": 8071,\n        \"samples\": [\n          \"['Hunger|https://www.goodreads.com/book/show/32585.Hunger', 'Nausea|https://www.goodreads.com/book/show/298275.Nausea', 'The Elementary Particles|https://www.goodreads.com/book/show/58314.The_Elementary_Particles', 'Histoire de France|https://www.goodreads.com/book/show/3872786-histoire-de-france', 'The Book of Disquiet: The Complete Edition|https://www.goodreads.com/book/show/40881621-the-book-of-disquiet', 'The Red and the Black|https://www.goodreads.com/book/show/14662.The_Red_and_the_Black', \\\"Swann's Way|https://www.goodreads.com/book/show/12749.Swann_s_Way\\\", 'The Stranger|https://www.goodreads.com/book/show/49552.The_Stranger', 'Ask the Dust (The Saga of Arturo Bandini, #3)|https://www.goodreads.com/book/show/46227.Ask_the_Dust', 'Sentimental Education|https://www.goodreads.com/book/show/2183.Sentimental_Education', 'Whatever|https://www.goodreads.com/book/show/58372.Whatever', 'The Fall|https://www.goodreads.com/book/show/11991.The_Fall', 'Tropic of Cancer (Tropic, #1)|https://www.goodreads.com/book/show/249.Tropic_of_Cancer', \\\"Man's Fate|https://www.goodreads.com/book/show/109830.Man_s_Fate\\\", 'The Plague|https://www.goodreads.com/book/show/11989.The_Plague', 'The Tartar Steppe|https://www.goodreads.com/book/show/83017.The_Tartar_Steppe', 'The Castle|https://www.goodreads.com/book/show/333538.The_Castle', 'Our Lady of the Flowers|https://www.goodreads.com/book/show/53003.Our_Lady_of_the_Flowers']\",\n          \"['The Field Guide (The Spiderwick Chronicles, #1)|https://www.goodreads.com/book/show/444304.The_Field_Guide', 'The Seeing Stone (The Spiderwick Chronicles, #2)|https://www.goodreads.com/book/show/519048.The_Seeing_Stone', \\\"Lucinda's Secret (The Spiderwick Chronicles, #3)|https://www.goodreads.com/book/show/280277.Lucinda_s_Secret\\\", 'The Ironwood Tree (The Spiderwick Chronicles, #4)|https://www.goodreads.com/book/show/277191.The_Ironwood_Tree', 'The Wrath of Mulgarath (The Spiderwick Chronicles, #5)|https://www.goodreads.com/book/show/277190.The_Wrath_of_Mulgarath', 'Prince Caspian (Chronicles of Narnia, #2)|https://www.goodreads.com/book/show/121749.Prince_Caspian', 'The Sea of Monsters (Percy Jackson and the Olympians, #2)|https://www.goodreads.com/book/show/28186.The_Sea_of_Monsters', 'Sorties de secours|https://www.goodreads.com/book/show/36539844-sorties-de-secours', 'The Voyage of the Dawn Treader (Chronicles of Narnia, #3)|https://www.goodreads.com/book/show/140225.The_Voyage_of_the_Dawn_Treader', 'The Silver Chair (Chronicles of Narnia, #4)|https://www.goodreads.com/book/show/65641.The_Silver_Chair', \\\"The Titan's Curse (Percy Jackson and the Olympians, #3)|https://www.goodreads.com/book/show/561456.The_Titan_s_Curse\\\", \\\"The Magician's Nephew (Chronicles of Narnia, #6)|https://www.goodreads.com/book/show/65605.The_Magician_s_Nephew\\\", 'The Horse and His Boy (Chronicles of Narnia, #5)|https://www.goodreads.com/book/show/84119.The_Horse_and_His_Boy', 'The Invention of Hugo Cabret|https://www.goodreads.com/book/show/9673436-the-invention-of-hugo-cabret', 'The Last Olympian (Percy Jackson and the Olympians, #5)|https://www.goodreads.com/book/show/4556058-the-last-olympian', 'Coraline|https://www.goodreads.com/book/show/17061.Coraline', 'Harry Potter and the Prisoner of Azkaban: The Interactive Quiz Book (The Harry Potter Series:)|https://www.goodreads.com/book/show/19368136-harry-potter-and-the-prisoner-of-azkaban']\",\n          \"['The Wicked King (The Folk of the Air, #2)|https://www.goodreads.com/book/show/26032887-the-wicked-king', 'The Queen of Nothing (The Folk of the Air, #3)|https://www.goodreads.com/book/show/26032912-the-queen-of-nothing', 'The Cruel Prince (The Folk of the Air, #1)|https://www.goodreads.com/book/show/26032825-the-cruel-prince', 'The One (The Selection, #3)|https://www.goodreads.com/book/show/18635016-the-one', 'Siege and Storm (The Shadow and Bone Trilogy, #2)|https://www.goodreads.com/book/show/14061955-siege-and-storm', 'The Elite (The Selection, #2)|https://www.goodreads.com/book/show/16248068-the-elite', 'Ruin and Rising (The Shadow and Bone Trilogy, #3)|https://www.goodreads.com/book/show/14061957-ruin-and-rising', 'A Court of Mist and Fury (A Court of Thorns and Roses, #2)|https://www.goodreads.com/book/show/17927395-a-court-of-mist-and-fury', 'A Court of Wings and Ruin (A Court of Thorns and Roses, #3)|https://www.goodreads.com/book/show/23766634-a-court-of-wings-and-ruin', 'Shadow and Bone (The Shadow and Bone Trilogy, #1)|https://www.goodreads.com/book/show/10194157-shadow-and-bone', 'The Heir (The Selection, #4)|https://www.goodreads.com/book/show/22918050-the-heir', 'The Crown (The Selection, #5)|https://www.goodreads.com/book/show/26074181-the-crown', 'A Court of Frost and Starlight (A Court of Thorns and Roses, #3.1)|https://www.goodreads.com/book/show/31076583-a-court-of-frost-and-starlight', 'Heir of Fire (Throne of Glass, #3)|https://www.goodreads.com/book/show/20613470-heir-of-fire', 'A \\\\u200bCourt of Silver Flames (A Court of Thorns and Roses, #4)|https://www.goodreads.com/book/show/53138095-a-court-of-silver-flames', 'Crown of Midnight (Throne of Glass, #2)|https://www.goodreads.com/book/show/17167166-crown-of-midnight', 'Crooked Kingdom (Six of Crows, #2)|https://www.goodreads.com/book/show/22299763-crooked-kingdom', 'Queen of Shadows (Throne of Glass, #4)|https://www.goodreads.com/book/show/18006496-queen-of-shadows']\"\n        ],\n        \"semantic_type\": \"\",\n        \"description\": \"\"\n      }\n    },\n    {\n      \"column\": \"cleaned_bookGenres\",\n      \"properties\": {\n        \"dtype\": \"object\",\n        \"semantic_type\": \"\",\n        \"description\": \"\"\n      }\n    }\n  ]\n}"
            }
          },
          "metadata": {},
          "execution_count": 59
        }
      ]
    },
    {
      "cell_type": "markdown",
      "source": [
        "# A little Extra"
      ],
      "metadata": {
        "id": "fcnNlgGzPNhN"
      }
    },
    {
      "cell_type": "markdown",
      "source": [
        "Here i want to do a little extra thing i want the recommended books to me in same language because most of the reader prefer to read the books in the same language so i am going to add the extra column bookLang in the dataset"
      ],
      "metadata": {
        "id": "BcI-NANAPNhN"
      }
    },
    {
      "cell_type": "code",
      "source": [
        "def detect_lang(input_string):\n",
        "    cleaned_text = re.sub(r'[^a-zA-Z]', ' ', input_string)\n",
        "    language, confidence = langid.classify(cleaned_text)\n",
        "    return language\n",
        "\n",
        "df['bookLang'] = df[\"bookTitle\"].apply(detect_lang)"
      ],
      "metadata": {
        "execution": {
          "iopub.status.busy": "2023-10-04T15:35:08.168603Z",
          "iopub.execute_input": "2023-10-04T15:35:08.169209Z",
          "iopub.status.idle": "2023-10-04T15:35:33.95828Z",
          "shell.execute_reply.started": "2023-10-04T15:35:08.169124Z",
          "shell.execute_reply": "2023-10-04T15:35:33.956007Z"
        },
        "trusted": true,
        "id": "97QUqkdxPNhO"
      },
      "execution_count": 66,
      "outputs": []
    },
    {
      "cell_type": "code",
      "source": [
        "df.head()"
      ],
      "metadata": {
        "execution": {
          "iopub.status.busy": "2023-10-04T15:35:33.96845Z",
          "iopub.execute_input": "2023-10-04T15:35:33.973617Z",
          "iopub.status.idle": "2023-10-04T15:35:34.014322Z",
          "shell.execute_reply.started": "2023-10-04T15:35:33.973509Z",
          "shell.execute_reply": "2023-10-04T15:35:34.012191Z"
        },
        "trusted": true,
        "colab": {
          "base_uri": "https://localhost:8080/",
          "height": 590
        },
        "collapsed": true,
        "id": "OYJ6iFzKPNhO",
        "outputId": "7e8665b6-983d-4e12-9f15-41595711bed5"
      },
      "execution_count": 67,
      "outputs": [
        {
          "output_type": "execute_result",
          "data": {
            "text/plain": [
              "                                                 url  \\\n",
              "0  https://www.goodreads.com/book/show/2767052-th...   \n",
              "4  https://www.goodreads.com/book/show/41865.Twil...   \n",
              "5  https://www.goodreads.com/book/show/19063.The_...   \n",
              "6  https://www.goodreads.com/book/show/7613.Anima...   \n",
              "7  https://www.goodreads.com/book/show/11127.The_...   \n",
              "\n",
              "                  bookTitle  \\\n",
              "0          The Hunger Games   \n",
              "4                  Twilight   \n",
              "5            The Book Thief   \n",
              "6               Animal Farm   \n",
              "7  The Chronicles of Narnia   \n",
              "\n",
              "                                           bookImage  \\\n",
              "0  https://i.gr-assets.com/images/S/compressed.ph...   \n",
              "4  https://i.gr-assets.com/images/S/compressed.ph...   \n",
              "5  https://i.gr-assets.com/images/S/compressed.ph...   \n",
              "6  https://i.gr-assets.com/images/S/compressed.ph...   \n",
              "7  https://i.gr-assets.com/images/S/compressed.ph...   \n",
              "\n",
              "                                         bookAuthors  \\\n",
              "0                                    Suzanne Collins   \n",
              "4                                    Stephenie Meyer   \n",
              "5                                       Markus Zusak   \n",
              "6  George Orwell,Boris Grabnar,Celâl Üster,Celâl ...   \n",
              "7                          C.S. Lewis,Pauline Baynes   \n",
              "\n",
              "                                            bookDesc  bookRating  ratingCount  \\\n",
              "0  Could you survive on your own in the wild, wit...        4.32      6717635   \n",
              "4  About three things I was absolutely positive.F...        3.61      5231000   \n",
              "5  Librarian's note: An alternate cover edition c...        4.38      1954165   \n",
              "6  George Orwell's timeless and timely allegorica...        3.96      2926888   \n",
              "7  Librarian note: An alternate cover for this ed...        4.26       548649   \n",
              "\n",
              "   reviewCount  bookPages      bookISBN  \\\n",
              "0       176054  374 pages  9.780439e+12   \n",
              "4       107619  501 pages  9.780316e+12   \n",
              "5       117307  552 pages  9.780376e+12   \n",
              "6        61574  122 pages  9.780452e+12   \n",
              "7        10743  767 pages  9.780066e+12   \n",
              "\n",
              "                                     recommendations  \\\n",
              "0  ['Divergent (Divergent, #1)|https://www.goodre...   \n",
              "4  ['The Hunger Games (The Hunger Games, #1)|http...   \n",
              "5  ['All the Light We Cannot See|https://www.good...   \n",
              "6  ['The Great Gatsby|https://www.goodreads.com/b...   \n",
              "7  ['J.R.R. Tolkien 4-Book Boxed Set: The Hobbit ...   \n",
              "\n",
              "                                  cleaned_bookGenres bookLang  \n",
              "0  {Fantasy, Romance, Adventure, Young Adult-Teen...       en  \n",
              "4  {Paranormal-Vampires, Fantasy, Romance, Young ...       en  \n",
              "5  {War-World War II, World War II-Holocaust, His...       en  \n",
              "6  {Fantasy, Academic-School, Politics, Classics,...       en  \n",
              "7  {Childrens-Middle Grade, Fantasy, Adventure, S...       en  "
            ],
            "text/html": [
              "\n",
              "  <div id=\"df-52f35a60-9ff0-4c49-8c05-657408368123\" class=\"colab-df-container\">\n",
              "    <div>\n",
              "<style scoped>\n",
              "    .dataframe tbody tr th:only-of-type {\n",
              "        vertical-align: middle;\n",
              "    }\n",
              "\n",
              "    .dataframe tbody tr th {\n",
              "        vertical-align: top;\n",
              "    }\n",
              "\n",
              "    .dataframe thead th {\n",
              "        text-align: right;\n",
              "    }\n",
              "</style>\n",
              "<table border=\"1\" class=\"dataframe\">\n",
              "  <thead>\n",
              "    <tr style=\"text-align: right;\">\n",
              "      <th></th>\n",
              "      <th>url</th>\n",
              "      <th>bookTitle</th>\n",
              "      <th>bookImage</th>\n",
              "      <th>bookAuthors</th>\n",
              "      <th>bookDesc</th>\n",
              "      <th>bookRating</th>\n",
              "      <th>ratingCount</th>\n",
              "      <th>reviewCount</th>\n",
              "      <th>bookPages</th>\n",
              "      <th>bookISBN</th>\n",
              "      <th>recommendations</th>\n",
              "      <th>cleaned_bookGenres</th>\n",
              "      <th>bookLang</th>\n",
              "    </tr>\n",
              "  </thead>\n",
              "  <tbody>\n",
              "    <tr>\n",
              "      <th>0</th>\n",
              "      <td>https://www.goodreads.com/book/show/2767052-th...</td>\n",
              "      <td>The Hunger Games</td>\n",
              "      <td>https://i.gr-assets.com/images/S/compressed.ph...</td>\n",
              "      <td>Suzanne Collins</td>\n",
              "      <td>Could you survive on your own in the wild, wit...</td>\n",
              "      <td>4.32</td>\n",
              "      <td>6717635</td>\n",
              "      <td>176054</td>\n",
              "      <td>374 pages</td>\n",
              "      <td>9.780439e+12</td>\n",
              "      <td>['Divergent (Divergent, #1)|https://www.goodre...</td>\n",
              "      <td>{Fantasy, Romance, Adventure, Young Adult-Teen...</td>\n",
              "      <td>en</td>\n",
              "    </tr>\n",
              "    <tr>\n",
              "      <th>4</th>\n",
              "      <td>https://www.goodreads.com/book/show/41865.Twil...</td>\n",
              "      <td>Twilight</td>\n",
              "      <td>https://i.gr-assets.com/images/S/compressed.ph...</td>\n",
              "      <td>Stephenie Meyer</td>\n",
              "      <td>About three things I was absolutely positive.F...</td>\n",
              "      <td>3.61</td>\n",
              "      <td>5231000</td>\n",
              "      <td>107619</td>\n",
              "      <td>501 pages</td>\n",
              "      <td>9.780316e+12</td>\n",
              "      <td>['The Hunger Games (The Hunger Games, #1)|http...</td>\n",
              "      <td>{Paranormal-Vampires, Fantasy, Romance, Young ...</td>\n",
              "      <td>en</td>\n",
              "    </tr>\n",
              "    <tr>\n",
              "      <th>5</th>\n",
              "      <td>https://www.goodreads.com/book/show/19063.The_...</td>\n",
              "      <td>The Book Thief</td>\n",
              "      <td>https://i.gr-assets.com/images/S/compressed.ph...</td>\n",
              "      <td>Markus Zusak</td>\n",
              "      <td>Librarian's note: An alternate cover edition c...</td>\n",
              "      <td>4.38</td>\n",
              "      <td>1954165</td>\n",
              "      <td>117307</td>\n",
              "      <td>552 pages</td>\n",
              "      <td>9.780376e+12</td>\n",
              "      <td>['All the Light We Cannot See|https://www.good...</td>\n",
              "      <td>{War-World War II, World War II-Holocaust, His...</td>\n",
              "      <td>en</td>\n",
              "    </tr>\n",
              "    <tr>\n",
              "      <th>6</th>\n",
              "      <td>https://www.goodreads.com/book/show/7613.Anima...</td>\n",
              "      <td>Animal Farm</td>\n",
              "      <td>https://i.gr-assets.com/images/S/compressed.ph...</td>\n",
              "      <td>George Orwell,Boris Grabnar,Celâl Üster,Celâl ...</td>\n",
              "      <td>George Orwell's timeless and timely allegorica...</td>\n",
              "      <td>3.96</td>\n",
              "      <td>2926888</td>\n",
              "      <td>61574</td>\n",
              "      <td>122 pages</td>\n",
              "      <td>9.780452e+12</td>\n",
              "      <td>['The Great Gatsby|https://www.goodreads.com/b...</td>\n",
              "      <td>{Fantasy, Academic-School, Politics, Classics,...</td>\n",
              "      <td>en</td>\n",
              "    </tr>\n",
              "    <tr>\n",
              "      <th>7</th>\n",
              "      <td>https://www.goodreads.com/book/show/11127.The_...</td>\n",
              "      <td>The Chronicles of Narnia</td>\n",
              "      <td>https://i.gr-assets.com/images/S/compressed.ph...</td>\n",
              "      <td>C.S. Lewis,Pauline Baynes</td>\n",
              "      <td>Librarian note: An alternate cover for this ed...</td>\n",
              "      <td>4.26</td>\n",
              "      <td>548649</td>\n",
              "      <td>10743</td>\n",
              "      <td>767 pages</td>\n",
              "      <td>9.780066e+12</td>\n",
              "      <td>['J.R.R. Tolkien 4-Book Boxed Set: The Hobbit ...</td>\n",
              "      <td>{Childrens-Middle Grade, Fantasy, Adventure, S...</td>\n",
              "      <td>en</td>\n",
              "    </tr>\n",
              "  </tbody>\n",
              "</table>\n",
              "</div>\n",
              "    <div class=\"colab-df-buttons\">\n",
              "\n",
              "  <div class=\"colab-df-container\">\n",
              "    <button class=\"colab-df-convert\" onclick=\"convertToInteractive('df-52f35a60-9ff0-4c49-8c05-657408368123')\"\n",
              "            title=\"Convert this dataframe to an interactive table.\"\n",
              "            style=\"display:none;\">\n",
              "\n",
              "  <svg xmlns=\"http://www.w3.org/2000/svg\" height=\"24px\" viewBox=\"0 -960 960 960\">\n",
              "    <path d=\"M120-120v-720h720v720H120Zm60-500h600v-160H180v160Zm220 220h160v-160H400v160Zm0 220h160v-160H400v160ZM180-400h160v-160H180v160Zm440 0h160v-160H620v160ZM180-180h160v-160H180v160Zm440 0h160v-160H620v160Z\"/>\n",
              "  </svg>\n",
              "    </button>\n",
              "\n",
              "  <style>\n",
              "    .colab-df-container {\n",
              "      display:flex;\n",
              "      gap: 12px;\n",
              "    }\n",
              "\n",
              "    .colab-df-convert {\n",
              "      background-color: #E8F0FE;\n",
              "      border: none;\n",
              "      border-radius: 50%;\n",
              "      cursor: pointer;\n",
              "      display: none;\n",
              "      fill: #1967D2;\n",
              "      height: 32px;\n",
              "      padding: 0 0 0 0;\n",
              "      width: 32px;\n",
              "    }\n",
              "\n",
              "    .colab-df-convert:hover {\n",
              "      background-color: #E2EBFA;\n",
              "      box-shadow: 0px 1px 2px rgba(60, 64, 67, 0.3), 0px 1px 3px 1px rgba(60, 64, 67, 0.15);\n",
              "      fill: #174EA6;\n",
              "    }\n",
              "\n",
              "    .colab-df-buttons div {\n",
              "      margin-bottom: 4px;\n",
              "    }\n",
              "\n",
              "    [theme=dark] .colab-df-convert {\n",
              "      background-color: #3B4455;\n",
              "      fill: #D2E3FC;\n",
              "    }\n",
              "\n",
              "    [theme=dark] .colab-df-convert:hover {\n",
              "      background-color: #434B5C;\n",
              "      box-shadow: 0px 1px 3px 1px rgba(0, 0, 0, 0.15);\n",
              "      filter: drop-shadow(0px 1px 2px rgba(0, 0, 0, 0.3));\n",
              "      fill: #FFFFFF;\n",
              "    }\n",
              "  </style>\n",
              "\n",
              "    <script>\n",
              "      const buttonEl =\n",
              "        document.querySelector('#df-52f35a60-9ff0-4c49-8c05-657408368123 button.colab-df-convert');\n",
              "      buttonEl.style.display =\n",
              "        google.colab.kernel.accessAllowed ? 'block' : 'none';\n",
              "\n",
              "      async function convertToInteractive(key) {\n",
              "        const element = document.querySelector('#df-52f35a60-9ff0-4c49-8c05-657408368123');\n",
              "        const dataTable =\n",
              "          await google.colab.kernel.invokeFunction('convertToInteractive',\n",
              "                                                    [key], {});\n",
              "        if (!dataTable) return;\n",
              "\n",
              "        const docLinkHtml = 'Like what you see? Visit the ' +\n",
              "          '<a target=\"_blank\" href=https://colab.research.google.com/notebooks/data_table.ipynb>data table notebook</a>'\n",
              "          + ' to learn more about interactive tables.';\n",
              "        element.innerHTML = '';\n",
              "        dataTable['output_type'] = 'display_data';\n",
              "        await google.colab.output.renderOutput(dataTable, element);\n",
              "        const docLink = document.createElement('div');\n",
              "        docLink.innerHTML = docLinkHtml;\n",
              "        element.appendChild(docLink);\n",
              "      }\n",
              "    </script>\n",
              "  </div>\n",
              "\n",
              "\n",
              "<div id=\"df-13e546de-f20d-4884-8811-35885204d2b8\">\n",
              "  <button class=\"colab-df-quickchart\" onclick=\"quickchart('df-13e546de-f20d-4884-8811-35885204d2b8')\"\n",
              "            title=\"Suggest charts\"\n",
              "            style=\"display:none;\">\n",
              "\n",
              "<svg xmlns=\"http://www.w3.org/2000/svg\" height=\"24px\"viewBox=\"0 0 24 24\"\n",
              "     width=\"24px\">\n",
              "    <g>\n",
              "        <path d=\"M19 3H5c-1.1 0-2 .9-2 2v14c0 1.1.9 2 2 2h14c1.1 0 2-.9 2-2V5c0-1.1-.9-2-2-2zM9 17H7v-7h2v7zm4 0h-2V7h2v10zm4 0h-2v-4h2v4z\"/>\n",
              "    </g>\n",
              "</svg>\n",
              "  </button>\n",
              "\n",
              "<style>\n",
              "  .colab-df-quickchart {\n",
              "      --bg-color: #E8F0FE;\n",
              "      --fill-color: #1967D2;\n",
              "      --hover-bg-color: #E2EBFA;\n",
              "      --hover-fill-color: #174EA6;\n",
              "      --disabled-fill-color: #AAA;\n",
              "      --disabled-bg-color: #DDD;\n",
              "  }\n",
              "\n",
              "  [theme=dark] .colab-df-quickchart {\n",
              "      --bg-color: #3B4455;\n",
              "      --fill-color: #D2E3FC;\n",
              "      --hover-bg-color: #434B5C;\n",
              "      --hover-fill-color: #FFFFFF;\n",
              "      --disabled-bg-color: #3B4455;\n",
              "      --disabled-fill-color: #666;\n",
              "  }\n",
              "\n",
              "  .colab-df-quickchart {\n",
              "    background-color: var(--bg-color);\n",
              "    border: none;\n",
              "    border-radius: 50%;\n",
              "    cursor: pointer;\n",
              "    display: none;\n",
              "    fill: var(--fill-color);\n",
              "    height: 32px;\n",
              "    padding: 0;\n",
              "    width: 32px;\n",
              "  }\n",
              "\n",
              "  .colab-df-quickchart:hover {\n",
              "    background-color: var(--hover-bg-color);\n",
              "    box-shadow: 0 1px 2px rgba(60, 64, 67, 0.3), 0 1px 3px 1px rgba(60, 64, 67, 0.15);\n",
              "    fill: var(--button-hover-fill-color);\n",
              "  }\n",
              "\n",
              "  .colab-df-quickchart-complete:disabled,\n",
              "  .colab-df-quickchart-complete:disabled:hover {\n",
              "    background-color: var(--disabled-bg-color);\n",
              "    fill: var(--disabled-fill-color);\n",
              "    box-shadow: none;\n",
              "  }\n",
              "\n",
              "  .colab-df-spinner {\n",
              "    border: 2px solid var(--fill-color);\n",
              "    border-color: transparent;\n",
              "    border-bottom-color: var(--fill-color);\n",
              "    animation:\n",
              "      spin 1s steps(1) infinite;\n",
              "  }\n",
              "\n",
              "  @keyframes spin {\n",
              "    0% {\n",
              "      border-color: transparent;\n",
              "      border-bottom-color: var(--fill-color);\n",
              "      border-left-color: var(--fill-color);\n",
              "    }\n",
              "    20% {\n",
              "      border-color: transparent;\n",
              "      border-left-color: var(--fill-color);\n",
              "      border-top-color: var(--fill-color);\n",
              "    }\n",
              "    30% {\n",
              "      border-color: transparent;\n",
              "      border-left-color: var(--fill-color);\n",
              "      border-top-color: var(--fill-color);\n",
              "      border-right-color: var(--fill-color);\n",
              "    }\n",
              "    40% {\n",
              "      border-color: transparent;\n",
              "      border-right-color: var(--fill-color);\n",
              "      border-top-color: var(--fill-color);\n",
              "    }\n",
              "    60% {\n",
              "      border-color: transparent;\n",
              "      border-right-color: var(--fill-color);\n",
              "    }\n",
              "    80% {\n",
              "      border-color: transparent;\n",
              "      border-right-color: var(--fill-color);\n",
              "      border-bottom-color: var(--fill-color);\n",
              "    }\n",
              "    90% {\n",
              "      border-color: transparent;\n",
              "      border-bottom-color: var(--fill-color);\n",
              "    }\n",
              "  }\n",
              "</style>\n",
              "\n",
              "  <script>\n",
              "    async function quickchart(key) {\n",
              "      const quickchartButtonEl =\n",
              "        document.querySelector('#' + key + ' button');\n",
              "      quickchartButtonEl.disabled = true;  // To prevent multiple clicks.\n",
              "      quickchartButtonEl.classList.add('colab-df-spinner');\n",
              "      try {\n",
              "        const charts = await google.colab.kernel.invokeFunction(\n",
              "            'suggestCharts', [key], {});\n",
              "      } catch (error) {\n",
              "        console.error('Error during call to suggestCharts:', error);\n",
              "      }\n",
              "      quickchartButtonEl.classList.remove('colab-df-spinner');\n",
              "      quickchartButtonEl.classList.add('colab-df-quickchart-complete');\n",
              "    }\n",
              "    (() => {\n",
              "      let quickchartButtonEl =\n",
              "        document.querySelector('#df-13e546de-f20d-4884-8811-35885204d2b8 button');\n",
              "      quickchartButtonEl.style.display =\n",
              "        google.colab.kernel.accessAllowed ? 'block' : 'none';\n",
              "    })();\n",
              "  </script>\n",
              "</div>\n",
              "\n",
              "    </div>\n",
              "  </div>\n"
            ],
            "application/vnd.google.colaboratory.intrinsic+json": {
              "type": "dataframe",
              "variable_name": "df",
              "summary": "{\n  \"name\": \"df\",\n  \"rows\": 8316,\n  \"fields\": [\n    {\n      \"column\": \"url\",\n      \"properties\": {\n        \"dtype\": \"string\",\n        \"num_unique_values\": 8316,\n        \"samples\": [\n          \"https://www.goodreads.com/book/show/182683.Fame\",\n          \"https://www.goodreads.com/book/show/297673.The_Brief_Wondrous_Life_of_Oscar_Wao\",\n          \"https://www.goodreads.com/book/show/92755.The_Riddle_Master_of_Hed\"\n        ],\n        \"semantic_type\": \"\",\n        \"description\": \"\"\n      }\n    },\n    {\n      \"column\": \"bookTitle\",\n      \"properties\": {\n        \"dtype\": \"string\",\n        \"num_unique_values\": 7962,\n        \"samples\": [\n          \"Musashi\",\n          \"Roadside Picnic\",\n          \"Keeper of the Lost Cities\"\n        ],\n        \"semantic_type\": \"\",\n        \"description\": \"\"\n      }\n    },\n    {\n      \"column\": \"bookImage\",\n      \"properties\": {\n        \"dtype\": \"string\",\n        \"num_unique_values\": 8316,\n        \"samples\": [\n          \"https://i.gr-assets.com/images/S/compressed.photo.goodreads.com/books/1406506537l/182683.jpg\",\n          \"https://i.gr-assets.com/images/S/compressed.photo.goodreads.com/books/1391409748l/297673.jpg\",\n          \"https://i.gr-assets.com/images/S/compressed.photo.goodreads.com/books/1328008931l/92755.jpg\"\n        ],\n        \"semantic_type\": \"\",\n        \"description\": \"\"\n      }\n    },\n    {\n      \"column\": \"bookAuthors\",\n      \"properties\": {\n        \"dtype\": \"string\",\n        \"num_unique_values\": 4401,\n        \"samples\": [\n          \"Emmuska Orczy\",\n          \"Anonymous,Ananda Maitreya,Thich Nhat Hanh\",\n          \"Raditya Dika\"\n        ],\n        \"semantic_type\": \"\",\n        \"description\": \"\"\n      }\n    },\n    {\n      \"column\": \"bookDesc\",\n      \"properties\": {\n        \"dtype\": \"string\",\n        \"num_unique_values\": 8288,\n        \"samples\": [\n          \"A man-made plague has swept the earth, but a small group survives, along with the green-eyed Crakers \\u2013 a gentle species bio-engineered to replace humans. Toby, onetime member of the Gods Gardeners and expert in mushrooms and bees, is still in love with street-smart Zeb, who has an interesting past. The Crakers\\u2019 reluctant prophet, Snowman-the-Jimmy, is hallucinating; Amanda is in shock from a Painballer attack; and Ivory Bill yearns for the provocative Swift Fox, who is flirting with Zeb. Meanwhile, giant Pigoons and malevolent Painballers threaten to attack. Told with wit, dizzying imagination, and dark humour, Booker Prize-winning Margaret Atwood\\u2019s unpredictable, chilling and hilarious MaddAddam takes us further into a challenging dystopian world and holds up a skewed mirror to our own possible future.\",\n          \"Sometimes discovering the truth can leave you more hopeless than believing the lies\\u2026That\\u2019s what seventeen-year-old Sky realizes after she meets Dean Holder. A guy with a reputation that rivals her own and an uncanny ability to invoke feelings in her she\\u2019s never had before. He terrifies her and captivates her all in the span of just one encounter, and something about the way he makes her feel sparks buried memories from a past that she wishes could just stay buried.Sky struggles to keep him at a distance knowing he\\u2019s nothing but trouble, but Holder insists on learning everything about her. After finally caving to his unwavering pursuit, Sky soon finds that Holder isn\\u2019t at all who he\\u2019s been claiming to be. When the secrets he\\u2019s been keeping are finally revealed, every single facet of Sky\\u2019s life will change forever.\",\n          \"With the Christmas season upon him, Detective Sergeant Bruce Robertson of Edinburgh's finest is gearing up socially\\u2014kicking things off with a week of sex and drugs in Amsterdam.There are some sizable flies in the ointment, though: a missing wife and child, a nagging cocaine habit, some painful below-the-belt eczema, and a string of demanding extramarital affairs. The last thing Robertson needs is a messy, racially fraught murder, even if it means overtime\\u2014and the opportunity to clinch the promotion he craves. Then there's that nutritionally demanding (and psychologically acute) intestinal parasite in his gut. Yes, things are going badly for this utterly corrupt tribune of the law, but in an Irvine Welsh novel nothing is ever so bad that it can't get a whole lot worse. . .\"\n        ],\n        \"semantic_type\": \"\",\n        \"description\": \"\"\n      }\n    },\n    {\n      \"column\": \"bookRating\",\n      \"properties\": {\n        \"dtype\": \"number\",\n        \"std\": 0.2464787519282095,\n        \"min\": 2.05,\n        \"max\": 4.92,\n        \"num_unique_values\": 175,\n        \"samples\": [\n          3.28,\n          3.18,\n          3.71\n        ],\n        \"semantic_type\": \"\",\n        \"description\": \"\"\n      }\n    },\n    {\n      \"column\": \"ratingCount\",\n      \"properties\": {\n        \"dtype\": \"number\",\n        \"std\": 299008,\n        \"min\": 22,\n        \"max\": 6718060,\n        \"num_unique_values\": 7886,\n        \"samples\": [\n          103035,\n          9915,\n          3027\n        ],\n        \"semantic_type\": \"\",\n        \"description\": \"\"\n      }\n    },\n    {\n      \"column\": \"reviewCount\",\n      \"properties\": {\n        \"dtype\": \"number\",\n        \"std\": 11168,\n        \"min\": 1,\n        \"max\": 176063,\n        \"num_unique_values\": 4577,\n        \"samples\": [\n          1475,\n          72,\n          2200\n        ],\n        \"semantic_type\": \"\",\n        \"description\": \"\"\n      }\n    },\n    {\n      \"column\": \"bookPages\",\n      \"properties\": {\n        \"dtype\": \"category\",\n        \"num_unique_values\": 979,\n        \"samples\": [\n          \"272 pages\",\n          \"459 pages\",\n          \"888 pages\"\n        ],\n        \"semantic_type\": \"\",\n        \"description\": \"\"\n      }\n    },\n    {\n      \"column\": \"bookISBN\",\n      \"properties\": {\n        \"dtype\": \"number\",\n        \"std\": 316800589944.39764,\n        \"min\": 9780615801.0,\n        \"max\": 9789963746712.0,\n        \"num_unique_values\": 8263,\n        \"samples\": [\n          9788129118806.0,\n          9780099584353.0,\n          9781622660759.0\n        ],\n        \"semantic_type\": \"\",\n        \"description\": \"\"\n      }\n    },\n    {\n      \"column\": \"recommendations\",\n      \"properties\": {\n        \"dtype\": \"string\",\n        \"num_unique_values\": 8071,\n        \"samples\": [\n          \"['Hunger|https://www.goodreads.com/book/show/32585.Hunger', 'Nausea|https://www.goodreads.com/book/show/298275.Nausea', 'The Elementary Particles|https://www.goodreads.com/book/show/58314.The_Elementary_Particles', 'Histoire de France|https://www.goodreads.com/book/show/3872786-histoire-de-france', 'The Book of Disquiet: The Complete Edition|https://www.goodreads.com/book/show/40881621-the-book-of-disquiet', 'The Red and the Black|https://www.goodreads.com/book/show/14662.The_Red_and_the_Black', \\\"Swann's Way|https://www.goodreads.com/book/show/12749.Swann_s_Way\\\", 'The Stranger|https://www.goodreads.com/book/show/49552.The_Stranger', 'Ask the Dust (The Saga of Arturo Bandini, #3)|https://www.goodreads.com/book/show/46227.Ask_the_Dust', 'Sentimental Education|https://www.goodreads.com/book/show/2183.Sentimental_Education', 'Whatever|https://www.goodreads.com/book/show/58372.Whatever', 'The Fall|https://www.goodreads.com/book/show/11991.The_Fall', 'Tropic of Cancer (Tropic, #1)|https://www.goodreads.com/book/show/249.Tropic_of_Cancer', \\\"Man's Fate|https://www.goodreads.com/book/show/109830.Man_s_Fate\\\", 'The Plague|https://www.goodreads.com/book/show/11989.The_Plague', 'The Tartar Steppe|https://www.goodreads.com/book/show/83017.The_Tartar_Steppe', 'The Castle|https://www.goodreads.com/book/show/333538.The_Castle', 'Our Lady of the Flowers|https://www.goodreads.com/book/show/53003.Our_Lady_of_the_Flowers']\",\n          \"['The Field Guide (The Spiderwick Chronicles, #1)|https://www.goodreads.com/book/show/444304.The_Field_Guide', 'The Seeing Stone (The Spiderwick Chronicles, #2)|https://www.goodreads.com/book/show/519048.The_Seeing_Stone', \\\"Lucinda's Secret (The Spiderwick Chronicles, #3)|https://www.goodreads.com/book/show/280277.Lucinda_s_Secret\\\", 'The Ironwood Tree (The Spiderwick Chronicles, #4)|https://www.goodreads.com/book/show/277191.The_Ironwood_Tree', 'The Wrath of Mulgarath (The Spiderwick Chronicles, #5)|https://www.goodreads.com/book/show/277190.The_Wrath_of_Mulgarath', 'Prince Caspian (Chronicles of Narnia, #2)|https://www.goodreads.com/book/show/121749.Prince_Caspian', 'The Sea of Monsters (Percy Jackson and the Olympians, #2)|https://www.goodreads.com/book/show/28186.The_Sea_of_Monsters', 'Sorties de secours|https://www.goodreads.com/book/show/36539844-sorties-de-secours', 'The Voyage of the Dawn Treader (Chronicles of Narnia, #3)|https://www.goodreads.com/book/show/140225.The_Voyage_of_the_Dawn_Treader', 'The Silver Chair (Chronicles of Narnia, #4)|https://www.goodreads.com/book/show/65641.The_Silver_Chair', \\\"The Titan's Curse (Percy Jackson and the Olympians, #3)|https://www.goodreads.com/book/show/561456.The_Titan_s_Curse\\\", \\\"The Magician's Nephew (Chronicles of Narnia, #6)|https://www.goodreads.com/book/show/65605.The_Magician_s_Nephew\\\", 'The Horse and His Boy (Chronicles of Narnia, #5)|https://www.goodreads.com/book/show/84119.The_Horse_and_His_Boy', 'The Invention of Hugo Cabret|https://www.goodreads.com/book/show/9673436-the-invention-of-hugo-cabret', 'The Last Olympian (Percy Jackson and the Olympians, #5)|https://www.goodreads.com/book/show/4556058-the-last-olympian', 'Coraline|https://www.goodreads.com/book/show/17061.Coraline', 'Harry Potter and the Prisoner of Azkaban: The Interactive Quiz Book (The Harry Potter Series:)|https://www.goodreads.com/book/show/19368136-harry-potter-and-the-prisoner-of-azkaban']\",\n          \"['The Wicked King (The Folk of the Air, #2)|https://www.goodreads.com/book/show/26032887-the-wicked-king', 'The Queen of Nothing (The Folk of the Air, #3)|https://www.goodreads.com/book/show/26032912-the-queen-of-nothing', 'The Cruel Prince (The Folk of the Air, #1)|https://www.goodreads.com/book/show/26032825-the-cruel-prince', 'The One (The Selection, #3)|https://www.goodreads.com/book/show/18635016-the-one', 'Siege and Storm (The Shadow and Bone Trilogy, #2)|https://www.goodreads.com/book/show/14061955-siege-and-storm', 'The Elite (The Selection, #2)|https://www.goodreads.com/book/show/16248068-the-elite', 'Ruin and Rising (The Shadow and Bone Trilogy, #3)|https://www.goodreads.com/book/show/14061957-ruin-and-rising', 'A Court of Mist and Fury (A Court of Thorns and Roses, #2)|https://www.goodreads.com/book/show/17927395-a-court-of-mist-and-fury', 'A Court of Wings and Ruin (A Court of Thorns and Roses, #3)|https://www.goodreads.com/book/show/23766634-a-court-of-wings-and-ruin', 'Shadow and Bone (The Shadow and Bone Trilogy, #1)|https://www.goodreads.com/book/show/10194157-shadow-and-bone', 'The Heir (The Selection, #4)|https://www.goodreads.com/book/show/22918050-the-heir', 'The Crown (The Selection, #5)|https://www.goodreads.com/book/show/26074181-the-crown', 'A Court of Frost and Starlight (A Court of Thorns and Roses, #3.1)|https://www.goodreads.com/book/show/31076583-a-court-of-frost-and-starlight', 'Heir of Fire (Throne of Glass, #3)|https://www.goodreads.com/book/show/20613470-heir-of-fire', 'A \\\\u200bCourt of Silver Flames (A Court of Thorns and Roses, #4)|https://www.goodreads.com/book/show/53138095-a-court-of-silver-flames', 'Crown of Midnight (Throne of Glass, #2)|https://www.goodreads.com/book/show/17167166-crown-of-midnight', 'Crooked Kingdom (Six of Crows, #2)|https://www.goodreads.com/book/show/22299763-crooked-kingdom', 'Queen of Shadows (Throne of Glass, #4)|https://www.goodreads.com/book/show/18006496-queen-of-shadows']\"\n        ],\n        \"semantic_type\": \"\",\n        \"description\": \"\"\n      }\n    },\n    {\n      \"column\": \"cleaned_bookGenres\",\n      \"properties\": {\n        \"dtype\": \"object\",\n        \"semantic_type\": \"\",\n        \"description\": \"\"\n      }\n    },\n    {\n      \"column\": \"bookLang\",\n      \"properties\": {\n        \"dtype\": \"category\",\n        \"num_unique_values\": 42,\n        \"samples\": [\n          \"ms\",\n          \"ro\",\n          \"fr\"\n        ],\n        \"semantic_type\": \"\",\n        \"description\": \"\"\n      }\n    }\n  ]\n}"
            }
          },
          "metadata": {},
          "execution_count": 67
        }
      ]
    },
    {
      "cell_type": "code",
      "source": [
        "processed_csv_path = '/content/drive/MyDrive/CAPSTONE/processed_books_data.csv'\n",
        "df.to_csv(processed_csv_path, index=False)"
      ],
      "metadata": {
        "id": "lSMK53xJr8DS"
      },
      "execution_count": 68,
      "outputs": []
    },
    {
      "cell_type": "code",
      "source": [
        "processed_json_path = '/content/drive/MyDrive/CAPSTONE/processed_books_data.json'\n",
        "df.to_json(processed_json_path, orient='records', lines=True)"
      ],
      "metadata": {
        "id": "KYCfgh5rtryS"
      },
      "execution_count": 69,
      "outputs": []
    },
    {
      "cell_type": "markdown",
      "source": [
        "# Cosine Similarity"
      ],
      "metadata": {
        "id": "DyevsJBfPNhO"
      }
    },
    {
      "cell_type": "markdown",
      "source": [
        "Cosine similarity is simply the similarity between many numbers so first we need to convert the data into numbers for that purpose we will use TF/IDF"
      ],
      "metadata": {
        "id": "lZnXCwt1PNhP"
      }
    },
    {
      "cell_type": "code",
      "source": [
        "from sklearn.feature_extraction.text import TfidfVectorizer\n",
        "from sklearn.metrics.pairwise import cosine_similarity,euclidean_distances"
      ],
      "metadata": {
        "execution": {
          "iopub.status.busy": "2023-10-04T15:36:26.10972Z",
          "iopub.execute_input": "2023-10-04T15:36:26.110301Z",
          "iopub.status.idle": "2023-10-04T15:36:26.656135Z",
          "shell.execute_reply.started": "2023-10-04T15:36:26.110241Z",
          "shell.execute_reply": "2023-10-04T15:36:26.654783Z"
        },
        "trusted": true,
        "id": "8VR4IUaYPNhP"
      },
      "execution_count": 70,
      "outputs": []
    },
    {
      "cell_type": "markdown",
      "source": [
        "For TF/IDF we first need to gather all genres and language into a single string so lets do that"
      ],
      "metadata": {
        "id": "L88y67NfPNhP"
      }
    },
    {
      "cell_type": "code",
      "source": [
        "x=df.iloc[0]\n",
        "x"
      ],
      "metadata": {
        "execution": {
          "iopub.status.busy": "2023-10-04T15:36:27.396591Z",
          "iopub.execute_input": "2023-10-04T15:36:27.397069Z",
          "iopub.status.idle": "2023-10-04T15:36:27.407244Z",
          "shell.execute_reply.started": "2023-10-04T15:36:27.397034Z",
          "shell.execute_reply": "2023-10-04T15:36:27.405587Z"
        },
        "trusted": true,
        "colab": {
          "base_uri": "https://localhost:8080/"
        },
        "id": "AKDDEB5_PNhP",
        "outputId": "5ff6093d-4e37-42b5-b3f6-3e2f40ed224f",
        "collapsed": true
      },
      "execution_count": 71,
      "outputs": [
        {
          "output_type": "execute_result",
          "data": {
            "text/plain": [
              "url                   https://www.goodreads.com/book/show/2767052-th...\n",
              "bookTitle                                              The Hunger Games\n",
              "bookImage             https://i.gr-assets.com/images/S/compressed.ph...\n",
              "bookAuthors                                             Suzanne Collins\n",
              "bookDesc              Could you survive on your own in the wild, wit...\n",
              "bookRating                                                         4.32\n",
              "ratingCount                                                     6717635\n",
              "reviewCount                                                      176054\n",
              "bookPages                                                     374 pages\n",
              "bookISBN                                                9780439023481.0\n",
              "recommendations       ['Divergent (Divergent, #1)|https://www.goodre...\n",
              "cleaned_bookGenres    {Fantasy, Romance, Adventure, Young Adult-Teen...\n",
              "bookLang                                                             en\n",
              "Name: 0, dtype: object"
            ]
          },
          "metadata": {},
          "execution_count": 71
        }
      ]
    },
    {
      "cell_type": "code",
      "source": [
        "result_string = \" \".join(x.cleaned_bookGenres)\n",
        "result_string=result_string+\" \"+x.bookLang\n",
        "result_string"
      ],
      "metadata": {
        "execution": {
          "iopub.status.busy": "2023-10-04T15:36:31.131604Z",
          "iopub.execute_input": "2023-10-04T15:36:31.132097Z",
          "iopub.status.idle": "2023-10-04T15:36:31.140767Z",
          "shell.execute_reply.started": "2023-10-04T15:36:31.132064Z",
          "shell.execute_reply": "2023-10-04T15:36:31.139824Z"
        },
        "trusted": true,
        "colab": {
          "base_uri": "https://localhost:8080/",
          "height": 0
        },
        "id": "MWO27e2UPNhQ",
        "outputId": "2a8aebc0-3211-45fd-f281-2b97de63171e"
      },
      "execution_count": 72,
      "outputs": [
        {
          "output_type": "execute_result",
          "data": {
            "text/plain": [
              "'Fantasy Romance Adventure Young Adult-Teen Fiction Action Young Adult Science Fiction Apocalyptic-Post Apocalyptic Science Fiction-Dystopia en'"
            ],
            "application/vnd.google.colaboratory.intrinsic+json": {
              "type": "string"
            }
          },
          "metadata": {},
          "execution_count": 72
        }
      ]
    },
    {
      "cell_type": "markdown",
      "source": [
        "So now we will create a function to do this for all the dataset"
      ],
      "metadata": {
        "id": "yxyPEsguPNhR"
      }
    },
    {
      "cell_type": "code",
      "source": [
        "def get_string(row):\n",
        "    result_string = \" \".join(row.cleaned_bookGenres)\n",
        "    result_string=result_string+\" \"+row.bookLang\n",
        "    return  result_string\n",
        "df['string'] = df.apply(get_string,axis=1)"
      ],
      "metadata": {
        "execution": {
          "iopub.status.busy": "2023-10-04T15:36:37.16086Z",
          "iopub.execute_input": "2023-10-04T15:36:37.161839Z",
          "iopub.status.idle": "2023-10-04T15:36:37.352415Z",
          "shell.execute_reply.started": "2023-10-04T15:36:37.161787Z",
          "shell.execute_reply": "2023-10-04T15:36:37.350784Z"
        },
        "trusted": true,
        "id": "MEqGs7LnPNhR"
      },
      "execution_count": 73,
      "outputs": []
    },
    {
      "cell_type": "code",
      "source": [
        "df.head()"
      ],
      "metadata": {
        "execution": {
          "iopub.status.busy": "2023-10-04T15:36:38.310209Z",
          "iopub.execute_input": "2023-10-04T15:36:38.310667Z",
          "iopub.status.idle": "2023-10-04T15:36:38.325938Z",
          "shell.execute_reply.started": "2023-10-04T15:36:38.310635Z",
          "shell.execute_reply": "2023-10-04T15:36:38.324648Z"
        },
        "trusted": true,
        "colab": {
          "base_uri": "https://localhost:8080/",
          "height": 0
        },
        "collapsed": true,
        "id": "RlK4L8TwPNhR",
        "outputId": "fbe4576a-d0c9-4c28-ff5d-c7e6caa56a82"
      },
      "execution_count": 74,
      "outputs": [
        {
          "output_type": "execute_result",
          "data": {
            "text/plain": [
              "                                                 url  \\\n",
              "0  https://www.goodreads.com/book/show/2767052-th...   \n",
              "4  https://www.goodreads.com/book/show/41865.Twil...   \n",
              "5  https://www.goodreads.com/book/show/19063.The_...   \n",
              "6  https://www.goodreads.com/book/show/7613.Anima...   \n",
              "7  https://www.goodreads.com/book/show/11127.The_...   \n",
              "\n",
              "                  bookTitle  \\\n",
              "0          The Hunger Games   \n",
              "4                  Twilight   \n",
              "5            The Book Thief   \n",
              "6               Animal Farm   \n",
              "7  The Chronicles of Narnia   \n",
              "\n",
              "                                           bookImage  \\\n",
              "0  https://i.gr-assets.com/images/S/compressed.ph...   \n",
              "4  https://i.gr-assets.com/images/S/compressed.ph...   \n",
              "5  https://i.gr-assets.com/images/S/compressed.ph...   \n",
              "6  https://i.gr-assets.com/images/S/compressed.ph...   \n",
              "7  https://i.gr-assets.com/images/S/compressed.ph...   \n",
              "\n",
              "                                         bookAuthors  \\\n",
              "0                                    Suzanne Collins   \n",
              "4                                    Stephenie Meyer   \n",
              "5                                       Markus Zusak   \n",
              "6  George Orwell,Boris Grabnar,Celâl Üster,Celâl ...   \n",
              "7                          C.S. Lewis,Pauline Baynes   \n",
              "\n",
              "                                            bookDesc  bookRating  ratingCount  \\\n",
              "0  Could you survive on your own in the wild, wit...        4.32      6717635   \n",
              "4  About three things I was absolutely positive.F...        3.61      5231000   \n",
              "5  Librarian's note: An alternate cover edition c...        4.38      1954165   \n",
              "6  George Orwell's timeless and timely allegorica...        3.96      2926888   \n",
              "7  Librarian note: An alternate cover for this ed...        4.26       548649   \n",
              "\n",
              "   reviewCount  bookPages      bookISBN  \\\n",
              "0       176054  374 pages  9.780439e+12   \n",
              "4       107619  501 pages  9.780316e+12   \n",
              "5       117307  552 pages  9.780376e+12   \n",
              "6        61574  122 pages  9.780452e+12   \n",
              "7        10743  767 pages  9.780066e+12   \n",
              "\n",
              "                                     recommendations  \\\n",
              "0  ['Divergent (Divergent, #1)|https://www.goodre...   \n",
              "4  ['The Hunger Games (The Hunger Games, #1)|http...   \n",
              "5  ['All the Light We Cannot See|https://www.good...   \n",
              "6  ['The Great Gatsby|https://www.goodreads.com/b...   \n",
              "7  ['J.R.R. Tolkien 4-Book Boxed Set: The Hobbit ...   \n",
              "\n",
              "                                  cleaned_bookGenres bookLang  \\\n",
              "0  {Fantasy, Romance, Adventure, Young Adult-Teen...       en   \n",
              "4  {Paranormal-Vampires, Fantasy, Romance, Young ...       en   \n",
              "5  {War-World War II, World War II-Holocaust, His...       en   \n",
              "6  {Fantasy, Academic-School, Politics, Classics,...       en   \n",
              "7  {Childrens-Middle Grade, Fantasy, Adventure, S...       en   \n",
              "\n",
              "                                              string  \n",
              "0  Fantasy Romance Adventure Young Adult-Teen Fic...  \n",
              "4  Paranormal-Vampires Fantasy Romance Young Adul...  \n",
              "5  War-World War II World War II-Holocaust Histor...  \n",
              "6  Fantasy Academic-School Politics Classics Fict...  \n",
              "7  Childrens-Middle Grade Fantasy Adventure Scien...  "
            ],
            "text/html": [
              "\n",
              "  <div id=\"df-b930aa75-1dc4-46cc-a055-d242dd8ac239\" class=\"colab-df-container\">\n",
              "    <div>\n",
              "<style scoped>\n",
              "    .dataframe tbody tr th:only-of-type {\n",
              "        vertical-align: middle;\n",
              "    }\n",
              "\n",
              "    .dataframe tbody tr th {\n",
              "        vertical-align: top;\n",
              "    }\n",
              "\n",
              "    .dataframe thead th {\n",
              "        text-align: right;\n",
              "    }\n",
              "</style>\n",
              "<table border=\"1\" class=\"dataframe\">\n",
              "  <thead>\n",
              "    <tr style=\"text-align: right;\">\n",
              "      <th></th>\n",
              "      <th>url</th>\n",
              "      <th>bookTitle</th>\n",
              "      <th>bookImage</th>\n",
              "      <th>bookAuthors</th>\n",
              "      <th>bookDesc</th>\n",
              "      <th>bookRating</th>\n",
              "      <th>ratingCount</th>\n",
              "      <th>reviewCount</th>\n",
              "      <th>bookPages</th>\n",
              "      <th>bookISBN</th>\n",
              "      <th>recommendations</th>\n",
              "      <th>cleaned_bookGenres</th>\n",
              "      <th>bookLang</th>\n",
              "      <th>string</th>\n",
              "    </tr>\n",
              "  </thead>\n",
              "  <tbody>\n",
              "    <tr>\n",
              "      <th>0</th>\n",
              "      <td>https://www.goodreads.com/book/show/2767052-th...</td>\n",
              "      <td>The Hunger Games</td>\n",
              "      <td>https://i.gr-assets.com/images/S/compressed.ph...</td>\n",
              "      <td>Suzanne Collins</td>\n",
              "      <td>Could you survive on your own in the wild, wit...</td>\n",
              "      <td>4.32</td>\n",
              "      <td>6717635</td>\n",
              "      <td>176054</td>\n",
              "      <td>374 pages</td>\n",
              "      <td>9.780439e+12</td>\n",
              "      <td>['Divergent (Divergent, #1)|https://www.goodre...</td>\n",
              "      <td>{Fantasy, Romance, Adventure, Young Adult-Teen...</td>\n",
              "      <td>en</td>\n",
              "      <td>Fantasy Romance Adventure Young Adult-Teen Fic...</td>\n",
              "    </tr>\n",
              "    <tr>\n",
              "      <th>4</th>\n",
              "      <td>https://www.goodreads.com/book/show/41865.Twil...</td>\n",
              "      <td>Twilight</td>\n",
              "      <td>https://i.gr-assets.com/images/S/compressed.ph...</td>\n",
              "      <td>Stephenie Meyer</td>\n",
              "      <td>About three things I was absolutely positive.F...</td>\n",
              "      <td>3.61</td>\n",
              "      <td>5231000</td>\n",
              "      <td>107619</td>\n",
              "      <td>501 pages</td>\n",
              "      <td>9.780316e+12</td>\n",
              "      <td>['The Hunger Games (The Hunger Games, #1)|http...</td>\n",
              "      <td>{Paranormal-Vampires, Fantasy, Romance, Young ...</td>\n",
              "      <td>en</td>\n",
              "      <td>Paranormal-Vampires Fantasy Romance Young Adul...</td>\n",
              "    </tr>\n",
              "    <tr>\n",
              "      <th>5</th>\n",
              "      <td>https://www.goodreads.com/book/show/19063.The_...</td>\n",
              "      <td>The Book Thief</td>\n",
              "      <td>https://i.gr-assets.com/images/S/compressed.ph...</td>\n",
              "      <td>Markus Zusak</td>\n",
              "      <td>Librarian's note: An alternate cover edition c...</td>\n",
              "      <td>4.38</td>\n",
              "      <td>1954165</td>\n",
              "      <td>117307</td>\n",
              "      <td>552 pages</td>\n",
              "      <td>9.780376e+12</td>\n",
              "      <td>['All the Light We Cannot See|https://www.good...</td>\n",
              "      <td>{War-World War II, World War II-Holocaust, His...</td>\n",
              "      <td>en</td>\n",
              "      <td>War-World War II World War II-Holocaust Histor...</td>\n",
              "    </tr>\n",
              "    <tr>\n",
              "      <th>6</th>\n",
              "      <td>https://www.goodreads.com/book/show/7613.Anima...</td>\n",
              "      <td>Animal Farm</td>\n",
              "      <td>https://i.gr-assets.com/images/S/compressed.ph...</td>\n",
              "      <td>George Orwell,Boris Grabnar,Celâl Üster,Celâl ...</td>\n",
              "      <td>George Orwell's timeless and timely allegorica...</td>\n",
              "      <td>3.96</td>\n",
              "      <td>2926888</td>\n",
              "      <td>61574</td>\n",
              "      <td>122 pages</td>\n",
              "      <td>9.780452e+12</td>\n",
              "      <td>['The Great Gatsby|https://www.goodreads.com/b...</td>\n",
              "      <td>{Fantasy, Academic-School, Politics, Classics,...</td>\n",
              "      <td>en</td>\n",
              "      <td>Fantasy Academic-School Politics Classics Fict...</td>\n",
              "    </tr>\n",
              "    <tr>\n",
              "      <th>7</th>\n",
              "      <td>https://www.goodreads.com/book/show/11127.The_...</td>\n",
              "      <td>The Chronicles of Narnia</td>\n",
              "      <td>https://i.gr-assets.com/images/S/compressed.ph...</td>\n",
              "      <td>C.S. Lewis,Pauline Baynes</td>\n",
              "      <td>Librarian note: An alternate cover for this ed...</td>\n",
              "      <td>4.26</td>\n",
              "      <td>548649</td>\n",
              "      <td>10743</td>\n",
              "      <td>767 pages</td>\n",
              "      <td>9.780066e+12</td>\n",
              "      <td>['J.R.R. Tolkien 4-Book Boxed Set: The Hobbit ...</td>\n",
              "      <td>{Childrens-Middle Grade, Fantasy, Adventure, S...</td>\n",
              "      <td>en</td>\n",
              "      <td>Childrens-Middle Grade Fantasy Adventure Scien...</td>\n",
              "    </tr>\n",
              "  </tbody>\n",
              "</table>\n",
              "</div>\n",
              "    <div class=\"colab-df-buttons\">\n",
              "\n",
              "  <div class=\"colab-df-container\">\n",
              "    <button class=\"colab-df-convert\" onclick=\"convertToInteractive('df-b930aa75-1dc4-46cc-a055-d242dd8ac239')\"\n",
              "            title=\"Convert this dataframe to an interactive table.\"\n",
              "            style=\"display:none;\">\n",
              "\n",
              "  <svg xmlns=\"http://www.w3.org/2000/svg\" height=\"24px\" viewBox=\"0 -960 960 960\">\n",
              "    <path d=\"M120-120v-720h720v720H120Zm60-500h600v-160H180v160Zm220 220h160v-160H400v160Zm0 220h160v-160H400v160ZM180-400h160v-160H180v160Zm440 0h160v-160H620v160ZM180-180h160v-160H180v160Zm440 0h160v-160H620v160Z\"/>\n",
              "  </svg>\n",
              "    </button>\n",
              "\n",
              "  <style>\n",
              "    .colab-df-container {\n",
              "      display:flex;\n",
              "      gap: 12px;\n",
              "    }\n",
              "\n",
              "    .colab-df-convert {\n",
              "      background-color: #E8F0FE;\n",
              "      border: none;\n",
              "      border-radius: 50%;\n",
              "      cursor: pointer;\n",
              "      display: none;\n",
              "      fill: #1967D2;\n",
              "      height: 32px;\n",
              "      padding: 0 0 0 0;\n",
              "      width: 32px;\n",
              "    }\n",
              "\n",
              "    .colab-df-convert:hover {\n",
              "      background-color: #E2EBFA;\n",
              "      box-shadow: 0px 1px 2px rgba(60, 64, 67, 0.3), 0px 1px 3px 1px rgba(60, 64, 67, 0.15);\n",
              "      fill: #174EA6;\n",
              "    }\n",
              "\n",
              "    .colab-df-buttons div {\n",
              "      margin-bottom: 4px;\n",
              "    }\n",
              "\n",
              "    [theme=dark] .colab-df-convert {\n",
              "      background-color: #3B4455;\n",
              "      fill: #D2E3FC;\n",
              "    }\n",
              "\n",
              "    [theme=dark] .colab-df-convert:hover {\n",
              "      background-color: #434B5C;\n",
              "      box-shadow: 0px 1px 3px 1px rgba(0, 0, 0, 0.15);\n",
              "      filter: drop-shadow(0px 1px 2px rgba(0, 0, 0, 0.3));\n",
              "      fill: #FFFFFF;\n",
              "    }\n",
              "  </style>\n",
              "\n",
              "    <script>\n",
              "      const buttonEl =\n",
              "        document.querySelector('#df-b930aa75-1dc4-46cc-a055-d242dd8ac239 button.colab-df-convert');\n",
              "      buttonEl.style.display =\n",
              "        google.colab.kernel.accessAllowed ? 'block' : 'none';\n",
              "\n",
              "      async function convertToInteractive(key) {\n",
              "        const element = document.querySelector('#df-b930aa75-1dc4-46cc-a055-d242dd8ac239');\n",
              "        const dataTable =\n",
              "          await google.colab.kernel.invokeFunction('convertToInteractive',\n",
              "                                                    [key], {});\n",
              "        if (!dataTable) return;\n",
              "\n",
              "        const docLinkHtml = 'Like what you see? Visit the ' +\n",
              "          '<a target=\"_blank\" href=https://colab.research.google.com/notebooks/data_table.ipynb>data table notebook</a>'\n",
              "          + ' to learn more about interactive tables.';\n",
              "        element.innerHTML = '';\n",
              "        dataTable['output_type'] = 'display_data';\n",
              "        await google.colab.output.renderOutput(dataTable, element);\n",
              "        const docLink = document.createElement('div');\n",
              "        docLink.innerHTML = docLinkHtml;\n",
              "        element.appendChild(docLink);\n",
              "      }\n",
              "    </script>\n",
              "  </div>\n",
              "\n",
              "\n",
              "<div id=\"df-3ac6e1f0-58e4-4166-8948-8b9e6ca890e6\">\n",
              "  <button class=\"colab-df-quickchart\" onclick=\"quickchart('df-3ac6e1f0-58e4-4166-8948-8b9e6ca890e6')\"\n",
              "            title=\"Suggest charts\"\n",
              "            style=\"display:none;\">\n",
              "\n",
              "<svg xmlns=\"http://www.w3.org/2000/svg\" height=\"24px\"viewBox=\"0 0 24 24\"\n",
              "     width=\"24px\">\n",
              "    <g>\n",
              "        <path d=\"M19 3H5c-1.1 0-2 .9-2 2v14c0 1.1.9 2 2 2h14c1.1 0 2-.9 2-2V5c0-1.1-.9-2-2-2zM9 17H7v-7h2v7zm4 0h-2V7h2v10zm4 0h-2v-4h2v4z\"/>\n",
              "    </g>\n",
              "</svg>\n",
              "  </button>\n",
              "\n",
              "<style>\n",
              "  .colab-df-quickchart {\n",
              "      --bg-color: #E8F0FE;\n",
              "      --fill-color: #1967D2;\n",
              "      --hover-bg-color: #E2EBFA;\n",
              "      --hover-fill-color: #174EA6;\n",
              "      --disabled-fill-color: #AAA;\n",
              "      --disabled-bg-color: #DDD;\n",
              "  }\n",
              "\n",
              "  [theme=dark] .colab-df-quickchart {\n",
              "      --bg-color: #3B4455;\n",
              "      --fill-color: #D2E3FC;\n",
              "      --hover-bg-color: #434B5C;\n",
              "      --hover-fill-color: #FFFFFF;\n",
              "      --disabled-bg-color: #3B4455;\n",
              "      --disabled-fill-color: #666;\n",
              "  }\n",
              "\n",
              "  .colab-df-quickchart {\n",
              "    background-color: var(--bg-color);\n",
              "    border: none;\n",
              "    border-radius: 50%;\n",
              "    cursor: pointer;\n",
              "    display: none;\n",
              "    fill: var(--fill-color);\n",
              "    height: 32px;\n",
              "    padding: 0;\n",
              "    width: 32px;\n",
              "  }\n",
              "\n",
              "  .colab-df-quickchart:hover {\n",
              "    background-color: var(--hover-bg-color);\n",
              "    box-shadow: 0 1px 2px rgba(60, 64, 67, 0.3), 0 1px 3px 1px rgba(60, 64, 67, 0.15);\n",
              "    fill: var(--button-hover-fill-color);\n",
              "  }\n",
              "\n",
              "  .colab-df-quickchart-complete:disabled,\n",
              "  .colab-df-quickchart-complete:disabled:hover {\n",
              "    background-color: var(--disabled-bg-color);\n",
              "    fill: var(--disabled-fill-color);\n",
              "    box-shadow: none;\n",
              "  }\n",
              "\n",
              "  .colab-df-spinner {\n",
              "    border: 2px solid var(--fill-color);\n",
              "    border-color: transparent;\n",
              "    border-bottom-color: var(--fill-color);\n",
              "    animation:\n",
              "      spin 1s steps(1) infinite;\n",
              "  }\n",
              "\n",
              "  @keyframes spin {\n",
              "    0% {\n",
              "      border-color: transparent;\n",
              "      border-bottom-color: var(--fill-color);\n",
              "      border-left-color: var(--fill-color);\n",
              "    }\n",
              "    20% {\n",
              "      border-color: transparent;\n",
              "      border-left-color: var(--fill-color);\n",
              "      border-top-color: var(--fill-color);\n",
              "    }\n",
              "    30% {\n",
              "      border-color: transparent;\n",
              "      border-left-color: var(--fill-color);\n",
              "      border-top-color: var(--fill-color);\n",
              "      border-right-color: var(--fill-color);\n",
              "    }\n",
              "    40% {\n",
              "      border-color: transparent;\n",
              "      border-right-color: var(--fill-color);\n",
              "      border-top-color: var(--fill-color);\n",
              "    }\n",
              "    60% {\n",
              "      border-color: transparent;\n",
              "      border-right-color: var(--fill-color);\n",
              "    }\n",
              "    80% {\n",
              "      border-color: transparent;\n",
              "      border-right-color: var(--fill-color);\n",
              "      border-bottom-color: var(--fill-color);\n",
              "    }\n",
              "    90% {\n",
              "      border-color: transparent;\n",
              "      border-bottom-color: var(--fill-color);\n",
              "    }\n",
              "  }\n",
              "</style>\n",
              "\n",
              "  <script>\n",
              "    async function quickchart(key) {\n",
              "      const quickchartButtonEl =\n",
              "        document.querySelector('#' + key + ' button');\n",
              "      quickchartButtonEl.disabled = true;  // To prevent multiple clicks.\n",
              "      quickchartButtonEl.classList.add('colab-df-spinner');\n",
              "      try {\n",
              "        const charts = await google.colab.kernel.invokeFunction(\n",
              "            'suggestCharts', [key], {});\n",
              "      } catch (error) {\n",
              "        console.error('Error during call to suggestCharts:', error);\n",
              "      }\n",
              "      quickchartButtonEl.classList.remove('colab-df-spinner');\n",
              "      quickchartButtonEl.classList.add('colab-df-quickchart-complete');\n",
              "    }\n",
              "    (() => {\n",
              "      let quickchartButtonEl =\n",
              "        document.querySelector('#df-3ac6e1f0-58e4-4166-8948-8b9e6ca890e6 button');\n",
              "      quickchartButtonEl.style.display =\n",
              "        google.colab.kernel.accessAllowed ? 'block' : 'none';\n",
              "    })();\n",
              "  </script>\n",
              "</div>\n",
              "\n",
              "    </div>\n",
              "  </div>\n"
            ],
            "application/vnd.google.colaboratory.intrinsic+json": {
              "type": "dataframe",
              "variable_name": "df",
              "summary": "{\n  \"name\": \"df\",\n  \"rows\": 8316,\n  \"fields\": [\n    {\n      \"column\": \"url\",\n      \"properties\": {\n        \"dtype\": \"string\",\n        \"num_unique_values\": 8316,\n        \"samples\": [\n          \"https://www.goodreads.com/book/show/182683.Fame\",\n          \"https://www.goodreads.com/book/show/297673.The_Brief_Wondrous_Life_of_Oscar_Wao\",\n          \"https://www.goodreads.com/book/show/92755.The_Riddle_Master_of_Hed\"\n        ],\n        \"semantic_type\": \"\",\n        \"description\": \"\"\n      }\n    },\n    {\n      \"column\": \"bookTitle\",\n      \"properties\": {\n        \"dtype\": \"string\",\n        \"num_unique_values\": 7962,\n        \"samples\": [\n          \"Musashi\",\n          \"Roadside Picnic\",\n          \"Keeper of the Lost Cities\"\n        ],\n        \"semantic_type\": \"\",\n        \"description\": \"\"\n      }\n    },\n    {\n      \"column\": \"bookImage\",\n      \"properties\": {\n        \"dtype\": \"string\",\n        \"num_unique_values\": 8316,\n        \"samples\": [\n          \"https://i.gr-assets.com/images/S/compressed.photo.goodreads.com/books/1406506537l/182683.jpg\",\n          \"https://i.gr-assets.com/images/S/compressed.photo.goodreads.com/books/1391409748l/297673.jpg\",\n          \"https://i.gr-assets.com/images/S/compressed.photo.goodreads.com/books/1328008931l/92755.jpg\"\n        ],\n        \"semantic_type\": \"\",\n        \"description\": \"\"\n      }\n    },\n    {\n      \"column\": \"bookAuthors\",\n      \"properties\": {\n        \"dtype\": \"string\",\n        \"num_unique_values\": 4401,\n        \"samples\": [\n          \"Emmuska Orczy\",\n          \"Anonymous,Ananda Maitreya,Thich Nhat Hanh\",\n          \"Raditya Dika\"\n        ],\n        \"semantic_type\": \"\",\n        \"description\": \"\"\n      }\n    },\n    {\n      \"column\": \"bookDesc\",\n      \"properties\": {\n        \"dtype\": \"string\",\n        \"num_unique_values\": 8288,\n        \"samples\": [\n          \"A man-made plague has swept the earth, but a small group survives, along with the green-eyed Crakers \\u2013 a gentle species bio-engineered to replace humans. Toby, onetime member of the Gods Gardeners and expert in mushrooms and bees, is still in love with street-smart Zeb, who has an interesting past. The Crakers\\u2019 reluctant prophet, Snowman-the-Jimmy, is hallucinating; Amanda is in shock from a Painballer attack; and Ivory Bill yearns for the provocative Swift Fox, who is flirting with Zeb. Meanwhile, giant Pigoons and malevolent Painballers threaten to attack. Told with wit, dizzying imagination, and dark humour, Booker Prize-winning Margaret Atwood\\u2019s unpredictable, chilling and hilarious MaddAddam takes us further into a challenging dystopian world and holds up a skewed mirror to our own possible future.\",\n          \"Sometimes discovering the truth can leave you more hopeless than believing the lies\\u2026That\\u2019s what seventeen-year-old Sky realizes after she meets Dean Holder. A guy with a reputation that rivals her own and an uncanny ability to invoke feelings in her she\\u2019s never had before. He terrifies her and captivates her all in the span of just one encounter, and something about the way he makes her feel sparks buried memories from a past that she wishes could just stay buried.Sky struggles to keep him at a distance knowing he\\u2019s nothing but trouble, but Holder insists on learning everything about her. After finally caving to his unwavering pursuit, Sky soon finds that Holder isn\\u2019t at all who he\\u2019s been claiming to be. When the secrets he\\u2019s been keeping are finally revealed, every single facet of Sky\\u2019s life will change forever.\",\n          \"With the Christmas season upon him, Detective Sergeant Bruce Robertson of Edinburgh's finest is gearing up socially\\u2014kicking things off with a week of sex and drugs in Amsterdam.There are some sizable flies in the ointment, though: a missing wife and child, a nagging cocaine habit, some painful below-the-belt eczema, and a string of demanding extramarital affairs. The last thing Robertson needs is a messy, racially fraught murder, even if it means overtime\\u2014and the opportunity to clinch the promotion he craves. Then there's that nutritionally demanding (and psychologically acute) intestinal parasite in his gut. Yes, things are going badly for this utterly corrupt tribune of the law, but in an Irvine Welsh novel nothing is ever so bad that it can't get a whole lot worse. . .\"\n        ],\n        \"semantic_type\": \"\",\n        \"description\": \"\"\n      }\n    },\n    {\n      \"column\": \"bookRating\",\n      \"properties\": {\n        \"dtype\": \"number\",\n        \"std\": 0.2464787519282095,\n        \"min\": 2.05,\n        \"max\": 4.92,\n        \"num_unique_values\": 175,\n        \"samples\": [\n          3.28,\n          3.18,\n          3.71\n        ],\n        \"semantic_type\": \"\",\n        \"description\": \"\"\n      }\n    },\n    {\n      \"column\": \"ratingCount\",\n      \"properties\": {\n        \"dtype\": \"number\",\n        \"std\": 299008,\n        \"min\": 22,\n        \"max\": 6718060,\n        \"num_unique_values\": 7886,\n        \"samples\": [\n          103035,\n          9915,\n          3027\n        ],\n        \"semantic_type\": \"\",\n        \"description\": \"\"\n      }\n    },\n    {\n      \"column\": \"reviewCount\",\n      \"properties\": {\n        \"dtype\": \"number\",\n        \"std\": 11168,\n        \"min\": 1,\n        \"max\": 176063,\n        \"num_unique_values\": 4577,\n        \"samples\": [\n          1475,\n          72,\n          2200\n        ],\n        \"semantic_type\": \"\",\n        \"description\": \"\"\n      }\n    },\n    {\n      \"column\": \"bookPages\",\n      \"properties\": {\n        \"dtype\": \"category\",\n        \"num_unique_values\": 979,\n        \"samples\": [\n          \"272 pages\",\n          \"459 pages\",\n          \"888 pages\"\n        ],\n        \"semantic_type\": \"\",\n        \"description\": \"\"\n      }\n    },\n    {\n      \"column\": \"bookISBN\",\n      \"properties\": {\n        \"dtype\": \"number\",\n        \"std\": 316800589944.39764,\n        \"min\": 9780615801.0,\n        \"max\": 9789963746712.0,\n        \"num_unique_values\": 8263,\n        \"samples\": [\n          9788129118806.0,\n          9780099584353.0,\n          9781622660759.0\n        ],\n        \"semantic_type\": \"\",\n        \"description\": \"\"\n      }\n    },\n    {\n      \"column\": \"recommendations\",\n      \"properties\": {\n        \"dtype\": \"string\",\n        \"num_unique_values\": 8071,\n        \"samples\": [\n          \"['Hunger|https://www.goodreads.com/book/show/32585.Hunger', 'Nausea|https://www.goodreads.com/book/show/298275.Nausea', 'The Elementary Particles|https://www.goodreads.com/book/show/58314.The_Elementary_Particles', 'Histoire de France|https://www.goodreads.com/book/show/3872786-histoire-de-france', 'The Book of Disquiet: The Complete Edition|https://www.goodreads.com/book/show/40881621-the-book-of-disquiet', 'The Red and the Black|https://www.goodreads.com/book/show/14662.The_Red_and_the_Black', \\\"Swann's Way|https://www.goodreads.com/book/show/12749.Swann_s_Way\\\", 'The Stranger|https://www.goodreads.com/book/show/49552.The_Stranger', 'Ask the Dust (The Saga of Arturo Bandini, #3)|https://www.goodreads.com/book/show/46227.Ask_the_Dust', 'Sentimental Education|https://www.goodreads.com/book/show/2183.Sentimental_Education', 'Whatever|https://www.goodreads.com/book/show/58372.Whatever', 'The Fall|https://www.goodreads.com/book/show/11991.The_Fall', 'Tropic of Cancer (Tropic, #1)|https://www.goodreads.com/book/show/249.Tropic_of_Cancer', \\\"Man's Fate|https://www.goodreads.com/book/show/109830.Man_s_Fate\\\", 'The Plague|https://www.goodreads.com/book/show/11989.The_Plague', 'The Tartar Steppe|https://www.goodreads.com/book/show/83017.The_Tartar_Steppe', 'The Castle|https://www.goodreads.com/book/show/333538.The_Castle', 'Our Lady of the Flowers|https://www.goodreads.com/book/show/53003.Our_Lady_of_the_Flowers']\",\n          \"['The Field Guide (The Spiderwick Chronicles, #1)|https://www.goodreads.com/book/show/444304.The_Field_Guide', 'The Seeing Stone (The Spiderwick Chronicles, #2)|https://www.goodreads.com/book/show/519048.The_Seeing_Stone', \\\"Lucinda's Secret (The Spiderwick Chronicles, #3)|https://www.goodreads.com/book/show/280277.Lucinda_s_Secret\\\", 'The Ironwood Tree (The Spiderwick Chronicles, #4)|https://www.goodreads.com/book/show/277191.The_Ironwood_Tree', 'The Wrath of Mulgarath (The Spiderwick Chronicles, #5)|https://www.goodreads.com/book/show/277190.The_Wrath_of_Mulgarath', 'Prince Caspian (Chronicles of Narnia, #2)|https://www.goodreads.com/book/show/121749.Prince_Caspian', 'The Sea of Monsters (Percy Jackson and the Olympians, #2)|https://www.goodreads.com/book/show/28186.The_Sea_of_Monsters', 'Sorties de secours|https://www.goodreads.com/book/show/36539844-sorties-de-secours', 'The Voyage of the Dawn Treader (Chronicles of Narnia, #3)|https://www.goodreads.com/book/show/140225.The_Voyage_of_the_Dawn_Treader', 'The Silver Chair (Chronicles of Narnia, #4)|https://www.goodreads.com/book/show/65641.The_Silver_Chair', \\\"The Titan's Curse (Percy Jackson and the Olympians, #3)|https://www.goodreads.com/book/show/561456.The_Titan_s_Curse\\\", \\\"The Magician's Nephew (Chronicles of Narnia, #6)|https://www.goodreads.com/book/show/65605.The_Magician_s_Nephew\\\", 'The Horse and His Boy (Chronicles of Narnia, #5)|https://www.goodreads.com/book/show/84119.The_Horse_and_His_Boy', 'The Invention of Hugo Cabret|https://www.goodreads.com/book/show/9673436-the-invention-of-hugo-cabret', 'The Last Olympian (Percy Jackson and the Olympians, #5)|https://www.goodreads.com/book/show/4556058-the-last-olympian', 'Coraline|https://www.goodreads.com/book/show/17061.Coraline', 'Harry Potter and the Prisoner of Azkaban: The Interactive Quiz Book (The Harry Potter Series:)|https://www.goodreads.com/book/show/19368136-harry-potter-and-the-prisoner-of-azkaban']\",\n          \"['The Wicked King (The Folk of the Air, #2)|https://www.goodreads.com/book/show/26032887-the-wicked-king', 'The Queen of Nothing (The Folk of the Air, #3)|https://www.goodreads.com/book/show/26032912-the-queen-of-nothing', 'The Cruel Prince (The Folk of the Air, #1)|https://www.goodreads.com/book/show/26032825-the-cruel-prince', 'The One (The Selection, #3)|https://www.goodreads.com/book/show/18635016-the-one', 'Siege and Storm (The Shadow and Bone Trilogy, #2)|https://www.goodreads.com/book/show/14061955-siege-and-storm', 'The Elite (The Selection, #2)|https://www.goodreads.com/book/show/16248068-the-elite', 'Ruin and Rising (The Shadow and Bone Trilogy, #3)|https://www.goodreads.com/book/show/14061957-ruin-and-rising', 'A Court of Mist and Fury (A Court of Thorns and Roses, #2)|https://www.goodreads.com/book/show/17927395-a-court-of-mist-and-fury', 'A Court of Wings and Ruin (A Court of Thorns and Roses, #3)|https://www.goodreads.com/book/show/23766634-a-court-of-wings-and-ruin', 'Shadow and Bone (The Shadow and Bone Trilogy, #1)|https://www.goodreads.com/book/show/10194157-shadow-and-bone', 'The Heir (The Selection, #4)|https://www.goodreads.com/book/show/22918050-the-heir', 'The Crown (The Selection, #5)|https://www.goodreads.com/book/show/26074181-the-crown', 'A Court of Frost and Starlight (A Court of Thorns and Roses, #3.1)|https://www.goodreads.com/book/show/31076583-a-court-of-frost-and-starlight', 'Heir of Fire (Throne of Glass, #3)|https://www.goodreads.com/book/show/20613470-heir-of-fire', 'A \\\\u200bCourt of Silver Flames (A Court of Thorns and Roses, #4)|https://www.goodreads.com/book/show/53138095-a-court-of-silver-flames', 'Crown of Midnight (Throne of Glass, #2)|https://www.goodreads.com/book/show/17167166-crown-of-midnight', 'Crooked Kingdom (Six of Crows, #2)|https://www.goodreads.com/book/show/22299763-crooked-kingdom', 'Queen of Shadows (Throne of Glass, #4)|https://www.goodreads.com/book/show/18006496-queen-of-shadows']\"\n        ],\n        \"semantic_type\": \"\",\n        \"description\": \"\"\n      }\n    },\n    {\n      \"column\": \"cleaned_bookGenres\",\n      \"properties\": {\n        \"dtype\": \"object\",\n        \"semantic_type\": \"\",\n        \"description\": \"\"\n      }\n    },\n    {\n      \"column\": \"bookLang\",\n      \"properties\": {\n        \"dtype\": \"category\",\n        \"num_unique_values\": 42,\n        \"samples\": [\n          \"ms\",\n          \"ro\",\n          \"fr\"\n        ],\n        \"semantic_type\": \"\",\n        \"description\": \"\"\n      }\n    },\n    {\n      \"column\": \"string\",\n      \"properties\": {\n        \"dtype\": \"string\",\n        \"num_unique_values\": 7009,\n        \"samples\": [\n          \"Unfinished Spirituality Religion Philosophy-Metaphysics Classics Fiction Occult Occult-Mysticism Philosophy Literature en\",\n          \"Suspense Thriller Mystery-Crime Mystery Thriller-Mystery Thriller Romance-Romantic Suspense Fiction Mystery-Murder Mystery Adult Audiobook en\",\n          \"Feminism Academic-School European Literature-British Literature Literature-English Literature Classics Literature-20th Century Fiction Literary Fiction Novels Literature pl\"\n        ],\n        \"semantic_type\": \"\",\n        \"description\": \"\"\n      }\n    }\n  ]\n}"
            }
          },
          "metadata": {},
          "execution_count": 74
        }
      ]
    },
    {
      "cell_type": "code",
      "source": [
        "tfidf=TfidfVectorizer(max_features=3000)"
      ],
      "metadata": {
        "execution": {
          "iopub.status.busy": "2023-10-04T15:36:39.951813Z",
          "iopub.execute_input": "2023-10-04T15:36:39.95265Z",
          "iopub.status.idle": "2023-10-04T15:36:39.95807Z",
          "shell.execute_reply.started": "2023-10-04T15:36:39.952604Z",
          "shell.execute_reply": "2023-10-04T15:36:39.957267Z"
        },
        "trusted": true,
        "id": "SIjPLkvbPNhR"
      },
      "execution_count": 75,
      "outputs": []
    },
    {
      "cell_type": "code",
      "source": [
        "vector=tfidf.fit_transform(df['string'])\n",
        "vector.shape"
      ],
      "metadata": {
        "execution": {
          "iopub.status.busy": "2023-10-04T16:01:55.613286Z",
          "iopub.execute_input": "2023-10-04T16:01:55.61369Z",
          "iopub.status.idle": "2023-10-04T16:01:55.781971Z",
          "shell.execute_reply.started": "2023-10-04T16:01:55.613663Z",
          "shell.execute_reply": "2023-10-04T16:01:55.780625Z"
        },
        "trusted": true,
        "colab": {
          "base_uri": "https://localhost:8080/"
        },
        "id": "489WfbSJPNhR",
        "outputId": "f3b03d6d-3742-43ca-a788-6380803a2627"
      },
      "execution_count": 76,
      "outputs": [
        {
          "output_type": "execute_result",
          "data": {
            "text/plain": [
              "(8316, 695)"
            ]
          },
          "metadata": {},
          "execution_count": 76
        }
      ]
    },
    {
      "cell_type": "markdown",
      "source": [
        "We need the list of all the Book Titles and there index in the dataset"
      ],
      "metadata": {
        "id": "MAQfyK0FPNhR"
      }
    },
    {
      "cell_type": "code",
      "source": [
        "book2idx = pd.Series(df.index, index=df['bookTitle'])\n",
        "book2idx"
      ],
      "metadata": {
        "execution": {
          "iopub.status.busy": "2023-10-04T16:01:59.676971Z",
          "iopub.execute_input": "2023-10-04T16:01:59.677457Z",
          "iopub.status.idle": "2023-10-04T16:01:59.699645Z",
          "shell.execute_reply.started": "2023-10-04T16:01:59.677425Z",
          "shell.execute_reply": "2023-10-04T16:01:59.697774Z"
        },
        "trusted": true,
        "colab": {
          "base_uri": "https://localhost:8080/"
        },
        "id": "h-SkBEYNPNhR",
        "outputId": "532246f0-0dc7-4ddb-92f5-4cb1f792c21e"
      },
      "execution_count": 77,
      "outputs": [
        {
          "output_type": "execute_result",
          "data": {
            "text/plain": [
              "bookTitle\n",
              "The Hunger Games                          0\n",
              "Twilight                                  4\n",
              "The Book Thief                            5\n",
              "Animal Farm                               6\n",
              "The Chronicles of Narnia                  7\n",
              "                                       ... \n",
              "Civil War: A Marvel Comics Event       9995\n",
              "Peter the Great: His Life and World    9996\n",
              "Owl at Home (I Can Read, Level 2)      9997\n",
              "The People in the Trees                9998\n",
              "Half Girlfriend                        9999\n",
              "Length: 8316, dtype: int64"
            ]
          },
          "metadata": {},
          "execution_count": 77
        }
      ]
    },
    {
      "cell_type": "markdown",
      "source": [
        "Now we will calculate the Cosine Similarity of all the other books"
      ],
      "metadata": {
        "id": "YnGWxewJPNhS"
      }
    },
    {
      "cell_type": "markdown",
      "source": [
        "Now we will sort the scores array and select the one with most similarity as we know argsort will sort in ascending order so we will add a - sign to the scores and get the top 5 values"
      ],
      "metadata": {
        "id": "M2zwIyYNPNhS"
      }
    },
    {
      "cell_type": "markdown",
      "source": [
        "So these are the books recommended for the users who love 'The Hunger Games'\n",
        "So now we will make a function that take the title of book as input and give the recommendations.Here i want to add a functionality so that if the title entered by user is a little bit change or mis spelled then rather than giving Book not exist it sees if there is any Book name similar to the given Title"
      ],
      "metadata": {
        "id": "WK-7U_UTPNhS"
      }
    },
    {
      "cell_type": "code",
      "source": [
        "def recommended_books_cosine(title):\n",
        "    try:\n",
        "        idx = book2idx[title]\n",
        "    except KeyError:\n",
        "        matches = process.extract(title, df['bookTitle'].tolist(), limit=1)\n",
        "        if matches and matches[0][1] >= 80:\n",
        "            similar_name = matches[0][0]\n",
        "            return f\"Did you mean '{similar_name}'?\"\n",
        "        return \"Book does not exist\"\n",
        "    query = vector[idx]\n",
        "    scores = cosine_similarity(query, vector)\n",
        "    scores = scores.flatten()\n",
        "    recommended_idx = (-scores).argsort()[1:6]\n",
        "    return df['bookTitle'].iloc[recommended_idx].tolist()"
      ],
      "metadata": {
        "execution": {
          "iopub.status.busy": "2023-10-04T16:02:54.858361Z",
          "iopub.execute_input": "2023-10-04T16:02:54.858742Z",
          "iopub.status.idle": "2023-10-04T16:02:54.867145Z",
          "shell.execute_reply.started": "2023-10-04T16:02:54.858712Z",
          "shell.execute_reply": "2023-10-04T16:02:54.865444Z"
        },
        "trusted": true,
        "id": "TlZrFIFvPNhT"
      },
      "execution_count": 78,
      "outputs": []
    },
    {
      "cell_type": "markdown",
      "source": [
        "# Jaccof Similarity"
      ],
      "metadata": {
        "id": "1gMtYEmRPNhT"
      }
    },
    {
      "cell_type": "code",
      "source": [
        "# Implementing Jaccard similarity based recommendation for genre\n",
        "def find_recommendation_jaccard_genre(genre):\n",
        "    genre = set([genre])\n",
        "    temp = df.copy()\n",
        "    temp['score'] = temp['cleaned_bookGenres'].apply(lambda x: len(x.intersection(genre)) / len(x.union(genre)))\n",
        "    temp = temp.sort_values(by='score', ascending=False)\n",
        "    top_5_rows = temp.iloc[:5, :]\n",
        "    top_5_recommendation = top_5_rows['bookTitle'].tolist()\n",
        "    return top_5_recommendation"
      ],
      "metadata": {
        "id": "9-tiXMJ0yI52"
      },
      "execution_count": 79,
      "outputs": []
    },
    {
      "cell_type": "code",
      "source": [
        "# Implementing Jaccard similarity based recommendation\n",
        "def find_recommendation_jaccard(name):\n",
        "    if name in df['bookTitle'].tolist():\n",
        "        inputset = df.loc[df['bookTitle'] == name, 'set'].iloc[0]\n",
        "        temp = df[df['bookTitle'] != name]\n",
        "        temp['score'] = temp.apply(lambda row: calculate_score(row, inputset), axis=1)\n",
        "        temp = temp.sort_values(by='score', ascending=False)\n",
        "        top_5_rows = temp.iloc[:5, :]\n",
        "        top_5_recommendation = top_5_rows['bookTitle'].tolist()\n",
        "        return top_5_recommendation\n",
        "    matches = process.extract(name, df['bookTitle'].tolist(), limit=1)\n",
        "    if matches and matches[0][1] >= 80:\n",
        "        similar_name = matches[0][0]\n",
        "        return f\"Did you mean '{similar_name}'?\"\n",
        "    return f\"'{name}' does not exist in the dataset.\""
      ],
      "metadata": {
        "id": "tm-vPNZtXPIm"
      },
      "execution_count": 80,
      "outputs": []
    },
    {
      "cell_type": "code",
      "source": [
        "# Implementing Jaccard Similarity function for cleaned genres and language\n",
        "def convert_into_set(row):\n",
        "    strlist = row['cleaned_bookGenres']\n",
        "    strlist.add(row.bookLang)\n",
        "    return strlist\n",
        "\n",
        "df['set'] = df.apply(convert_into_set, axis=1)\n",
        "\n",
        "def calculate_score(row, inputset):\n",
        "    intersection = len(row['set'].intersection(inputset))\n",
        "    union = len(row['set'].union(inputset))\n",
        "    return intersection / union"
      ],
      "metadata": {
        "id": "-4E-38esXUK2"
      },
      "execution_count": 81,
      "outputs": []
    },
    {
      "cell_type": "markdown",
      "source": [
        "# Algorithm"
      ],
      "metadata": {
        "id": "hmylzDaiPNhU"
      }
    },
    {
      "cell_type": "code",
      "source": [
        "import joblib\n",
        "\n",
        "# Save TF-IDF model\n",
        "tfidf_model_path = '/content/drive/MyDrive/CAPSTONE/tfidf_model.pkl'\n",
        "joblib.dump(tfidf, tfidf_model_path)\n",
        "\n",
        "# Save TF-IDF vectors\n",
        "tfidf_vectors_path = '/content/drive/MyDrive/CAPSTONE/tfidf_vectors.pkl'\n",
        "joblib.dump(vector, tfidf_vectors_path)\n",
        "\n",
        "# Save the dataframe and mappings using pandas\n",
        "df.to_pickle('/content/drive/MyDrive/CAPSTONE/books_data.pkl')\n",
        "book2idx.to_pickle('/content/drive/MyDrive/CAPSTONE/book2idx.pkl')\n"
      ],
      "metadata": {
        "id": "6WQE8DdyXiSb"
      },
      "execution_count": 84,
      "outputs": []
    },
    {
      "cell_type": "code",
      "source": [
        "import joblib\n",
        "import pandas as pd\n",
        "from sklearn.feature_extraction.text import TfidfVectorizer\n",
        "\n",
        "# Load the dataframe and mappings\n",
        "df = pd.read_pickle('/content/drive/MyDrive/CAPSTONE/books_data.pkl')\n",
        "book2idx = pd.read_pickle('/content/drive/MyDrive/CAPSTONE/book2idx.pkl')\n",
        "\n",
        "# Load TF-IDF model and vectors\n",
        "tfidf_model_path = '/content/drive/MyDrive/CAPSTONE/tfidf_model.pkl'\n",
        "tfidf_vectors_path = '/content/drive/MyDrive/CAPSTONE/tfidf_vectors.pkl'\n",
        "\n",
        "tfidf = joblib.load(tfidf_model_path)\n",
        "vector = joblib.load(tfidf_vectors_path)\n",
        "\n",
        "# Verify the shape of the vector\n",
        "print(\"TF-IDF vector shape:\", vector.shape)\n",
        "print(\"DataFrame shape:\", df.shape)\n",
        "\n",
        "# Adjusting indices if needed\n",
        "if vector.shape[0] != df.shape[0]:\n",
        "    print(\"Mismatch in indices. Adjusting...\")\n",
        "    df = df.iloc[:vector.shape[0]]\n",
        "\n",
        "# Function for cosine similarity based recommendation\n",
        "def recommended_books_cosine(title):\n",
        "    try:\n",
        "        idx = book2idx[title]\n",
        "    except KeyError:\n",
        "        matches = process.extract(title, df['bookTitle'].tolist(), limit=1)\n",
        "        if matches and matches[0][1] >= 80:\n",
        "            similar_name = matches[0][0]\n",
        "            return f\"Did you mean '{similar_name}'?\"\n",
        "        return \"Book does not exist\"\n",
        "    if isinstance(idx, pd.Series):\n",
        "        idx = idx.iloc[0]\n",
        "    query = vector[idx]\n",
        "    scores = cosine_similarity(query, vector)\n",
        "    scores = scores.flatten()\n",
        "    recommended_idx = (-scores).argsort()[1:6]\n",
        "    return df['bookTitle'].iloc[recommended_idx].tolist()\n",
        "\n",
        "# Function for Jaccard similarity based recommendation\n",
        "def find_recommendation_jaccard(name):\n",
        "    if name in df['bookTitle'].tolist():\n",
        "        inputset = df.loc[df['bookTitle'] == name, 'set'].iloc[0]\n",
        "        temp = df[df['bookTitle'] != name]\n",
        "        temp['score'] = temp.apply(lambda row: calculate_score(row, inputset), axis=1)\n",
        "        temp = temp.sort_values(by='score', ascending=False)\n",
        "        top_5_rows = temp.iloc[:5, :]\n",
        "        top_5_recommendation = top_5_rows['bookTitle'].tolist()\n",
        "        return top_5_recommendation\n",
        "    matches = process.extract(name, df['bookTitle'].tolist(), limit=1)\n",
        "    if matches and matches[0][1] >= 80:\n",
        "        similar_name = matches[0][0]\n",
        "        return f\"Did you mean '{similar_name}'?\"\n",
        "    return f\"'{name}' does not exist in the dataset.\"\n",
        "\n",
        "# Jaccard Similarity functions\n",
        "def convert_into_set(row):\n",
        "    strlist = row['cleaned_bookGenres']\n",
        "    strlist.add(row.bookLang)\n",
        "    return strlist\n",
        "\n",
        "df['set'] = df.apply(convert_into_set, axis=1)\n",
        "\n",
        "def calculate_score(row, inputset):\n",
        "    intersection = len(row['set'].intersection(inputset))\n",
        "    union = len(row['set'].union(inputset))\n",
        "    return intersection / union\n",
        "\n",
        "# Example usage\n",
        "print(recommended_books_cosine(\"The Alchemist\"))\n",
        "print(find_recommendation_jaccard(\"The Alchemist\"))\n"
      ],
      "metadata": {
        "colab": {
          "base_uri": "https://localhost:8080/"
        },
        "id": "JQbOfPwWXpQD",
        "outputId": "375f5355-1781-4c1f-d56a-9b388a81db83"
      },
      "execution_count": 86,
      "outputs": [
        {
          "output_type": "stream",
          "name": "stdout",
          "text": [
            "TF-IDF vector shape: (8316, 695)\n",
            "DataFrame shape: (8316, 15)\n",
            "['The Scarlet Letter', 'Heart of Darkness and The Secret Sharer', 'The Adventures of Huckleberry Finn', 'The Pearl', 'The Awakening']\n",
            "['One', 'Jonathan Livingston Seagull', 'جاناتان، مرغ دریایی', 'The Prophet', 'Warrior of the Light']\n"
          ]
        }
      ]
    },
    {
      "cell_type": "code",
      "source": [
        "import tensorflow as tf\n",
        "from tensorflow.keras.models import Sequential\n",
        "from tensorflow.keras.layers import Dense, Input\n",
        "\n",
        "# Load the data and models as before\n",
        "import joblib\n",
        "import pandas as pd\n",
        "\n",
        "# Load the dataframe and mappings\n",
        "df = pd.read_pickle('/content/drive/MyDrive/CAPSTONE/books_data.pkl')\n",
        "book2idx = pd.read_pickle('/content/drive/MyDrive/CAPSTONE/book2idx.pkl')\n",
        "\n",
        "# Load TF-IDF model and vectors\n",
        "tfidf_model_path = '/content/drive/MyDrive/CAPSTONE/tfidf_model.pkl'\n",
        "tfidf_vectors_path = '/content/drive/MyDrive/CAPSTONE/tfidf_vectors.pkl'\n",
        "\n",
        "tfidf = joblib.load(tfidf_model_path)\n",
        "vector = joblib.load(tfidf_vectors_path)\n",
        "\n",
        "# Ensure indices match\n",
        "if vector.shape[0] != df.shape[0]:\n",
        "    df = df.iloc[:vector.shape[0]]\n",
        "\n",
        "# Create a simple neural network model\n",
        "model = Sequential()\n",
        "model.add(Input(shape=(vector.shape[1],)))\n",
        "model.add(Dense(128, activation='relu'))\n",
        "model.add(Dense(64, activation='relu'))\n",
        "model.add(Dense(32, activation='relu'))\n",
        "model.add(Dense(1, activation='linear'))\n",
        "\n",
        "model.compile(optimizer='adam', loss='mse')\n",
        "\n",
        "# Save the model in H5 format\n",
        "model_path = '/content/drive/MyDrive/CAPSTONE/tfidf_model.h5'\n",
        "model.save(model_path)\n",
        "\n",
        "print(f\"Model saved to {model_path}\")\n"
      ],
      "metadata": {
        "colab": {
          "base_uri": "https://localhost:8080/"
        },
        "id": "sYKu3RxmaBsE",
        "outputId": "caa79055-750e-4128-c0d9-a450f67ff05c"
      },
      "execution_count": 87,
      "outputs": [
        {
          "output_type": "stream",
          "name": "stdout",
          "text": [
            "Model saved to /content/drive/MyDrive/CAPSTONE/tfidf_model.h5\n"
          ]
        }
      ]
    },
    {
      "cell_type": "code",
      "source": [
        "import os\n",
        "import tensorflow as tf\n",
        "from tensorflow.keras.models import Sequential\n",
        "from tensorflow.keras.layers import Dense, Input\n",
        "\n",
        "# Ensure the directory exists\n",
        "model_directory = '/content/drive/MyDrive/CAPSTONE'\n",
        "if not os.path.exists(model_directory):\n",
        "    print(\"Directory does not exist. Creating the directory.\")\n",
        "    os.makedirs(model_directory)\n",
        "\n",
        "# Define the model path\n",
        "model_path = os.path.join(model_directory, 'tfidf_model.h5')\n",
        "\n",
        "# Create a simple neural network model\n",
        "model = Sequential()\n",
        "model.add(Input(shape=(vector.shape[1],)))\n",
        "model.add(Dense(128, activation='relu'))\n",
        "model.add(Dense(64, activation='relu'))\n",
        "model.add(Dense(32, activation='relu'))\n",
        "model.add(Dense(1, activation='linear'))\n",
        "\n",
        "model.compile(optimizer='adam', loss='mse')\n",
        "\n",
        "# Save the model\n",
        "model.save(model_path)\n",
        "print(f\"Model saved to {model_path}\")\n",
        "\n",
        "# Verify the saved model file\n",
        "if os.path.exists(model_path):\n",
        "    print(f\"Model file found at {model_path}\")\n",
        "else:\n",
        "    print(f\"Model file not found at {model_path}\")\n",
        "\n",
        "# Load the Keras model\n",
        "try:\n",
        "    loaded_model = tf.keras.models.load_model(model_path)\n",
        "    print(\"Model loaded successfully.\")\n",
        "except OSError as e:\n",
        "    print(f\"Error loading model: {e}\")\n",
        "\n",
        "# Example of how to use the model (predict on a sample)\n",
        "import numpy as np\n",
        "\n",
        "# Assuming you want to predict for the first book's TF-IDF vector\n",
        "sample_vector = vector[0].toarray()  # Convert to dense array if it's sparse\n",
        "prediction = loaded_model.predict(sample_vector)\n",
        "print(\"Prediction for the sample:\", prediction)\n"
      ],
      "metadata": {
        "colab": {
          "base_uri": "https://localhost:8080/"
        },
        "id": "dLJ0MKaGcSDD",
        "outputId": "d62a26c9-becd-491d-aad3-e6855166d81b"
      },
      "execution_count": 88,
      "outputs": [
        {
          "output_type": "stream",
          "name": "stdout",
          "text": [
            "Model saved to /content/drive/MyDrive/CAPSTONE/tfidf_model.h5\n",
            "Model file found at /content/drive/MyDrive/CAPSTONE/tfidf_model.h5\n",
            "Model loaded successfully.\n",
            "1/1 [==============================] - 0s 93ms/step\n",
            "Prediction for the sample: [[0.01745437]]\n"
          ]
        }
      ]
    },
    {
      "cell_type": "code",
      "source": [
        "# Convert sparse matrix to dense format\n",
        "dense_vector = vector.toarray()\n",
        "\n",
        "# Function to convert numpy types to native Python types\n",
        "def convert_numpy_types(data):\n",
        "    if isinstance(data, np.ndarray):\n",
        "        return data.tolist()\n",
        "    elif isinstance(data, np.integer):\n",
        "        return int(data)\n",
        "    elif isinstance(data, np.floating):\n",
        "        return float(data)\n",
        "    elif isinstance(data, dict):\n",
        "        return {k: convert_numpy_types(v) for k, v in data.items()}\n",
        "    elif isinstance(data, list):\n",
        "        return [convert_numpy_types(i) for i in data]\n",
        "    return data\n",
        "\n",
        "# Save dense vectors to JSON\n",
        "tfidf_vectors_path = '/content/drive/MyDrive/CAPSTONE/tfidf_vectors.json'\n",
        "with open(tfidf_vectors_path, 'w') as f:\n",
        "    json.dump(convert_numpy_types(dense_vector), f)\n",
        "\n",
        "# Save TF-IDF model components to JSON\n",
        "tfidf_model_path = '/content/drive/MyDrive/CAPSTONE/tfidf_model.json'\n",
        "tfidf_data = {\n",
        "    \"vocabulary_\": convert_numpy_types(tfidf.vocabulary_),\n",
        "    \"idf_\": convert_numpy_types(tfidf.idf_),\n",
        "    \"stop_words_\": convert_numpy_types(list(tfidf.stop_words_)) if tfidf.stop_words_ is not None else []\n",
        "}\n",
        "with open(tfidf_model_path, 'w') as f:\n",
        "    json.dump(tfidf_data, f)\n",
        "\n",
        "# Save the dataframe and mappings using pandas\n",
        "df.to_pickle('/content/drive/MyDrive/CAPSTONE/books_data.pkl')\n",
        "book2idx.to_pickle('/content/drive/MyDrive/CAPSTONE/book2idx.pkl')\n",
        "\n"
      ],
      "metadata": {
        "id": "Ij_aolwnlwEz"
      },
      "execution_count": 89,
      "outputs": []
    },
    {
      "cell_type": "code",
      "source": [
        "\"\"\"# Load and Use the Saved Models\"\"\"\n",
        "\n",
        "# Load the dataframe and mappings\n",
        "df = pd.read_pickle('/content/drive/MyDrive/CAPSTONE/books_data.pkl')\n",
        "book2idx = pd.read_pickle('/content/drive/MyDrive/CAPSTONE/book2idx.pkl')\n",
        "\n",
        "# Load dense vectors from JSON\n",
        "tfidf_vectors_path = '/content/drive/MyDrive/CAPSTONE/tfidf_vectors.json'\n",
        "with open(tfidf_vectors_path, 'r') as f:\n",
        "    dense_vector = np.array(json.load(f))\n",
        "\n",
        "# Convert dense vectors back to sparse matrix\n",
        "from scipy.sparse import csr_matrix\n",
        "vector = csr_matrix(dense_vector)\n",
        "\n",
        "# Load TF-IDF model components from JSON\n",
        "tfidf_model_path = '/content/drive/MyDrive/CAPSTONE/tfidf_model.json'\n",
        "with open(tfidf_model_path, 'r') as f:\n",
        "    tfidf_data = json.load(f)\n",
        "\n",
        "# Recreate the TF-IDF vectorizer with the loaded data\n",
        "tfidf = TfidfVectorizer()\n",
        "tfidf.vocabulary_ = tfidf_data[\"vocabulary_\"]\n",
        "tfidf.idf_ = np.array(tfidf_data[\"idf_\"])\n",
        "tfidf.stop_words_ = set(tfidf_data[\"stop_words_\"])\n",
        "\n",
        "# Example of using the loaded models\n",
        "print(recommended_books_cosine(\"The Hunger Games\"))\n",
        "print(find_recommendation_jaccard(\"fantasy\"))"
      ],
      "metadata": {
        "colab": {
          "base_uri": "https://localhost:8080/"
        },
        "id": "B_KyRc-qm69j",
        "outputId": "8b6b771f-a12e-434c-85d2-b5242c9ff98d"
      },
      "execution_count": 92,
      "outputs": [
        {
          "output_type": "stream",
          "name": "stdout",
          "text": [
            "['The Hunger Games', 'Catching Fire', 'Insurgent', 'The Hunger Games', 'Blood Red Road']\n",
            "Did you mean 'Fantasy Lover'?\n"
          ]
        }
      ]
    },
    {
      "cell_type": "code",
      "source": [
        "# Load the dataframe and mappings\n",
        "df = pd.read_pickle('/content/drive/MyDrive/CAPSTONE/books_data.pkl')\n",
        "book2idx = pd.read_pickle('/content/drive/MyDrive/CAPSTONE/book2idx.pkl')\n",
        "\n",
        "# Load dense vectors from JSON\n",
        "tfidf_vectors_path = '/content/drive/MyDrive/CAPSTONE/tfidf_vectors.json'\n",
        "with open(tfidf_vectors_path, 'r') as f:\n",
        "    dense_vector = np.array(json.load(f))\n",
        "\n",
        "# Convert dense vectors back to sparse matrix\n",
        "from scipy.sparse import csr_matrix\n",
        "vector = csr_matrix(dense_vector)\n",
        "\n",
        "# Load TF-IDF model components from JSON\n",
        "tfidf_model_path = '/content/drive/MyDrive/CAPSTONE/tfidf_model.json'\n",
        "with open(tfidf_model_path, 'r') as f:\n",
        "    tfidf_data = json.load(f)\n",
        "\n",
        "# Recreate the TF-IDF vectorizer with the loaded data\n",
        "tfidf = TfidfVectorizer()\n",
        "tfidf.vocabulary_ = tfidf_data[\"vocabulary_\"]\n",
        "tfidf.idf_ = np.array(tfidf_data[\"idf_\"])\n",
        "tfidf.stop_words_ = set(tfidf_data[\"stop_words_\"])\n",
        "\n",
        "# Example of using the loaded models\n",
        "print(recommended_books_cosine(\"The Alchemist\"))  # Example for title recommendation\n",
        "print(find_recommendation_jaccard_genre(\"romance\"))  # Example for genre recommendation"
      ],
      "metadata": {
        "colab": {
          "base_uri": "https://localhost:8080/"
        },
        "id": "Z0H1SnKz4S4_",
        "outputId": "e7498247-3ac8-432f-8952-b5f21271f6f2"
      },
      "execution_count": 94,
      "outputs": [
        {
          "output_type": "stream",
          "name": "stdout",
          "text": [
            "['The Scarlet Letter', 'Heart of Darkness and The Secret Sharer', 'The Adventures of Huckleberry Finn', 'The Pearl', 'The Awakening']\n",
            "['The Hunger Games', 'Swindle', 'Letter to His Father', 'Ballet Shoes', 'The Fall of Lucifer']\n"
          ]
        }
      ]
    },
    {
      "cell_type": "markdown",
      "source": [
        "#####"
      ],
      "metadata": {
        "id": "C70JmoxKPNhV"
      }
    }
  ]
}